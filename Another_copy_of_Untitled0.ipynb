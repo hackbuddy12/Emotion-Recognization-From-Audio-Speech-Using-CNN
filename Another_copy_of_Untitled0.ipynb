{
  "nbformat": 4,
  "nbformat_minor": 0,
  "metadata": {
    "colab": {
      "provenance": [],
      "include_colab_link": true
    },
    "kernelspec": {
      "name": "python3",
      "display_name": "Python 3"
    },
    "language_info": {
      "name": "python"
    }
  },
  "cells": [
    {
      "cell_type": "markdown",
      "metadata": {
        "id": "view-in-github",
        "colab_type": "text"
      },
      "source": [
        "<a href=\"https://colab.research.google.com/github/hackbuddy12/Emotion-Recognization-From-Audio-Speech-Using-CNN/blob/main/Another_copy_of_Untitled0.ipynb\" target=\"_parent\"><img src=\"https://colab.research.google.com/assets/colab-badge.svg\" alt=\"Open In Colab\"/></a>"
      ]
    },
    {
      "cell_type": "code",
      "source": [
        "!pip install scikeras[tensorflow]\n",
        "\n"
      ],
      "metadata": {
        "colab": {
          "base_uri": "https://localhost:8080/"
        },
        "id": "Vd-lL-RJCdG5",
        "outputId": "2e708217-e15a-44bf-fd71-a349bf1f6146"
      },
      "execution_count": null,
      "outputs": [
        {
          "output_type": "stream",
          "name": "stdout",
          "text": [
            "Collecting scikeras[tensorflow]\n",
            "  Downloading scikeras-0.13.0-py3-none-any.whl.metadata (3.1 kB)\n",
            "Requirement already satisfied: keras>=3.2.0 in /usr/local/lib/python3.10/dist-packages (from scikeras[tensorflow]) (3.4.1)\n",
            "Requirement already satisfied: scikit-learn>=1.4.2 in /usr/local/lib/python3.10/dist-packages (from scikeras[tensorflow]) (1.5.2)\n",
            "Requirement already satisfied: tensorflow>=2.16.1 in /usr/local/lib/python3.10/dist-packages (from scikeras[tensorflow]) (2.17.0)\n",
            "Requirement already satisfied: absl-py in /usr/local/lib/python3.10/dist-packages (from keras>=3.2.0->scikeras[tensorflow]) (1.4.0)\n",
            "Requirement already satisfied: numpy in /usr/local/lib/python3.10/dist-packages (from keras>=3.2.0->scikeras[tensorflow]) (1.26.4)\n",
            "Requirement already satisfied: rich in /usr/local/lib/python3.10/dist-packages (from keras>=3.2.0->scikeras[tensorflow]) (13.9.3)\n",
            "Requirement already satisfied: namex in /usr/local/lib/python3.10/dist-packages (from keras>=3.2.0->scikeras[tensorflow]) (0.0.8)\n",
            "Requirement already satisfied: h5py in /usr/local/lib/python3.10/dist-packages (from keras>=3.2.0->scikeras[tensorflow]) (3.11.0)\n",
            "Requirement already satisfied: optree in /usr/local/lib/python3.10/dist-packages (from keras>=3.2.0->scikeras[tensorflow]) (0.13.0)\n",
            "Requirement already satisfied: ml-dtypes in /usr/local/lib/python3.10/dist-packages (from keras>=3.2.0->scikeras[tensorflow]) (0.4.1)\n",
            "Requirement already satisfied: packaging in /usr/local/lib/python3.10/dist-packages (from keras>=3.2.0->scikeras[tensorflow]) (24.1)\n",
            "Requirement already satisfied: scipy>=1.6.0 in /usr/local/lib/python3.10/dist-packages (from scikit-learn>=1.4.2->scikeras[tensorflow]) (1.13.1)\n",
            "Requirement already satisfied: joblib>=1.2.0 in /usr/local/lib/python3.10/dist-packages (from scikit-learn>=1.4.2->scikeras[tensorflow]) (1.4.2)\n",
            "Requirement already satisfied: threadpoolctl>=3.1.0 in /usr/local/lib/python3.10/dist-packages (from scikit-learn>=1.4.2->scikeras[tensorflow]) (3.5.0)\n",
            "Requirement already satisfied: astunparse>=1.6.0 in /usr/local/lib/python3.10/dist-packages (from tensorflow>=2.16.1->scikeras[tensorflow]) (1.6.3)\n",
            "Requirement already satisfied: flatbuffers>=24.3.25 in /usr/local/lib/python3.10/dist-packages (from tensorflow>=2.16.1->scikeras[tensorflow]) (24.3.25)\n",
            "Requirement already satisfied: gast!=0.5.0,!=0.5.1,!=0.5.2,>=0.2.1 in /usr/local/lib/python3.10/dist-packages (from tensorflow>=2.16.1->scikeras[tensorflow]) (0.6.0)\n",
            "Requirement already satisfied: google-pasta>=0.1.1 in /usr/local/lib/python3.10/dist-packages (from tensorflow>=2.16.1->scikeras[tensorflow]) (0.2.0)\n",
            "Requirement already satisfied: libclang>=13.0.0 in /usr/local/lib/python3.10/dist-packages (from tensorflow>=2.16.1->scikeras[tensorflow]) (18.1.1)\n",
            "Requirement already satisfied: opt-einsum>=2.3.2 in /usr/local/lib/python3.10/dist-packages (from tensorflow>=2.16.1->scikeras[tensorflow]) (3.4.0)\n",
            "Requirement already satisfied: protobuf!=4.21.0,!=4.21.1,!=4.21.2,!=4.21.3,!=4.21.4,!=4.21.5,<5.0.0dev,>=3.20.3 in /usr/local/lib/python3.10/dist-packages (from tensorflow>=2.16.1->scikeras[tensorflow]) (3.20.3)\n",
            "Requirement already satisfied: requests<3,>=2.21.0 in /usr/local/lib/python3.10/dist-packages (from tensorflow>=2.16.1->scikeras[tensorflow]) (2.32.3)\n",
            "Requirement already satisfied: setuptools in /usr/local/lib/python3.10/dist-packages (from tensorflow>=2.16.1->scikeras[tensorflow]) (75.1.0)\n",
            "Requirement already satisfied: six>=1.12.0 in /usr/local/lib/python3.10/dist-packages (from tensorflow>=2.16.1->scikeras[tensorflow]) (1.16.0)\n",
            "Requirement already satisfied: termcolor>=1.1.0 in /usr/local/lib/python3.10/dist-packages (from tensorflow>=2.16.1->scikeras[tensorflow]) (2.5.0)\n",
            "Requirement already satisfied: typing-extensions>=3.6.6 in /usr/local/lib/python3.10/dist-packages (from tensorflow>=2.16.1->scikeras[tensorflow]) (4.12.2)\n",
            "Requirement already satisfied: wrapt>=1.11.0 in /usr/local/lib/python3.10/dist-packages (from tensorflow>=2.16.1->scikeras[tensorflow]) (1.16.0)\n",
            "Requirement already satisfied: grpcio<2.0,>=1.24.3 in /usr/local/lib/python3.10/dist-packages (from tensorflow>=2.16.1->scikeras[tensorflow]) (1.64.1)\n",
            "Requirement already satisfied: tensorboard<2.18,>=2.17 in /usr/local/lib/python3.10/dist-packages (from tensorflow>=2.16.1->scikeras[tensorflow]) (2.17.0)\n",
            "Requirement already satisfied: tensorflow-io-gcs-filesystem>=0.23.1 in /usr/local/lib/python3.10/dist-packages (from tensorflow>=2.16.1->scikeras[tensorflow]) (0.37.1)\n",
            "Requirement already satisfied: wheel<1.0,>=0.23.0 in /usr/local/lib/python3.10/dist-packages (from astunparse>=1.6.0->tensorflow>=2.16.1->scikeras[tensorflow]) (0.44.0)\n",
            "Requirement already satisfied: charset-normalizer<4,>=2 in /usr/local/lib/python3.10/dist-packages (from requests<3,>=2.21.0->tensorflow>=2.16.1->scikeras[tensorflow]) (3.4.0)\n",
            "Requirement already satisfied: idna<4,>=2.5 in /usr/local/lib/python3.10/dist-packages (from requests<3,>=2.21.0->tensorflow>=2.16.1->scikeras[tensorflow]) (3.10)\n",
            "Requirement already satisfied: urllib3<3,>=1.21.1 in /usr/local/lib/python3.10/dist-packages (from requests<3,>=2.21.0->tensorflow>=2.16.1->scikeras[tensorflow]) (2.2.3)\n",
            "Requirement already satisfied: certifi>=2017.4.17 in /usr/local/lib/python3.10/dist-packages (from requests<3,>=2.21.0->tensorflow>=2.16.1->scikeras[tensorflow]) (2024.8.30)\n",
            "Requirement already satisfied: markdown>=2.6.8 in /usr/local/lib/python3.10/dist-packages (from tensorboard<2.18,>=2.17->tensorflow>=2.16.1->scikeras[tensorflow]) (3.7)\n",
            "Requirement already satisfied: tensorboard-data-server<0.8.0,>=0.7.0 in /usr/local/lib/python3.10/dist-packages (from tensorboard<2.18,>=2.17->tensorflow>=2.16.1->scikeras[tensorflow]) (0.7.2)\n",
            "Requirement already satisfied: werkzeug>=1.0.1 in /usr/local/lib/python3.10/dist-packages (from tensorboard<2.18,>=2.17->tensorflow>=2.16.1->scikeras[tensorflow]) (3.0.4)\n",
            "Requirement already satisfied: markdown-it-py>=2.2.0 in /usr/local/lib/python3.10/dist-packages (from rich->keras>=3.2.0->scikeras[tensorflow]) (3.0.0)\n",
            "Requirement already satisfied: pygments<3.0.0,>=2.13.0 in /usr/local/lib/python3.10/dist-packages (from rich->keras>=3.2.0->scikeras[tensorflow]) (2.18.0)\n",
            "Requirement already satisfied: mdurl~=0.1 in /usr/local/lib/python3.10/dist-packages (from markdown-it-py>=2.2.0->rich->keras>=3.2.0->scikeras[tensorflow]) (0.1.2)\n",
            "Requirement already satisfied: MarkupSafe>=2.1.1 in /usr/local/lib/python3.10/dist-packages (from werkzeug>=1.0.1->tensorboard<2.18,>=2.17->tensorflow>=2.16.1->scikeras[tensorflow]) (3.0.2)\n",
            "Downloading scikeras-0.13.0-py3-none-any.whl (26 kB)\n",
            "Installing collected packages: scikeras\n",
            "Successfully installed scikeras-0.13.0\n"
          ]
        }
      ]
    },
    {
      "cell_type": "code",
      "execution_count": null,
      "metadata": {
        "id": "ZR4D8_WRBxi7"
      },
      "outputs": [],
      "source": [
        "# IMPORT NECESSARY LIBRARIES\n",
        "import librosa\n",
        "%matplotlib inline\n",
        "import matplotlib.pyplot as plt\n",
        "import librosa.display\n",
        "from IPython.display import Audio\n",
        "import numpy as np\n",
        "import tensorflow as tf\n",
        "from matplotlib.pyplot import specgram\n",
        "import pandas as pd\n",
        "from sklearn.metrics import confusion_matrix\n",
        "import IPython.display as ipd  # To play sound in the notebook\n",
        "import os # interface with underlying OS that python is running on\n",
        "import sys\n",
        "import warnings\n",
        "# ignore warnings\n",
        "if not sys.warnoptions:\n",
        "    warnings.simplefilter(\"ignore\")\n",
        "warnings.filterwarnings(\"ignore\", category=DeprecationWarning)\n",
        "from sklearn.model_selection import train_test_split\n",
        "from sklearn.preprocessing import LabelEncoder\n",
        "import tensorflow.keras\n",
        "from tensorflow.keras.models import Sequential\n",
        "from tensorflow.keras.layers import Conv1D, MaxPooling1D, AveragePooling1D\n",
        "from tensorflow.keras.layers import Input, Flatten, Dropout, Activation, BatchNormalization, Dense\n",
        "from sklearn.model_selection import GridSearchCV\n",
        "from scikeras.wrappers import KerasClassifier\n",
        "from tensorflow.keras.optimizers import SGD\n",
        "from tensorflow.keras.regularizers import l2\n",
        "import seaborn as sns\n",
        "from tensorflow.keras.callbacks import EarlyStopping, ModelCheckpoint\n",
        "from tensorflow.keras.utils import to_categorical\n",
        "from sklearn.metrics import classification_report"
      ]
    },
    {
      "cell_type": "code",
      "source": [
        "# LOAD IN FILE\n",
        "x, sr = librosa.load('/content/drive/MyDrive/archive/MaleDisgust.wav')"
      ],
      "metadata": {
        "id": "QdmOfIWJDRAJ"
      },
      "execution_count": null,
      "outputs": []
    },
    {
      "cell_type": "code",
      "source": [
        "plt.figure(figsize=(8, 4))\n",
        "librosa.display.waveshow(x, sr=sr)\n",
        "plt.title('Waveplot - Male Disgust')\n",
        "plt.savefig('Waveplot_MaleDisgust.png')\n"
      ],
      "metadata": {
        "colab": {
          "base_uri": "https://localhost:8080/",
          "height": 375
        },
        "id": "nijeGeJADimu",
        "outputId": "2a64f035-facb-4f06-ae2d-d77cfc6edcd3"
      },
      "execution_count": null,
      "outputs": [
        {
          "output_type": "display_data",
          "data": {
            "text/plain": [
              "<Figure size 800x400 with 1 Axes>"
            ],
            "image/png": "[encoded data removed]"
          },
          "metadata": {}
        }
      ]
    },
    {
      "cell_type": "code",
      "source": [
        "# LOAD IN FILE\n",
        "x, sr = librosa.load('/content/drive/MyDrive/archive/MaleAngry.wav')"
      ],
      "metadata": {
        "id": "FFYaY1OhHwAH"
      },
      "execution_count": null,
      "outputs": []
    },
    {
      "cell_type": "code",
      "source": [
        "plt.figure(figsize=(8, 4))\n",
        "librosa.display.waveshow(x, sr=sr)\n",
        "plt.title('Waveplot - Male Disgust')\n",
        "plt.savefig('Waveplot_MaleDisgust.png')\n"
      ],
      "metadata": {
        "colab": {
          "base_uri": "https://localhost:8080/",
          "height": 379
        },
        "id": "rCd0mQCXH719",
        "outputId": "4e50fdcd-31a7-422d-ec74-86e4d93c3477"
      },
      "execution_count": null,
      "outputs": [
        {
          "output_type": "display_data",
          "data": {
            "text/plain": [
              "<Figure size 800x400 with 1 Axes>"
            ],
            "image/png": "[encoded data removed]"
          },
          "metadata": {}
        }
      ]
    },
    {
      "cell_type": "code",
      "source": [
        "# LOAD IN FILE\n",
        "x, sr = librosa.load('/content/drive/MyDrive/archive/FemaleFearful.wav')"
      ],
      "metadata": {
        "id": "L31sCt9yIPtB"
      },
      "execution_count": null,
      "outputs": []
    },
    {
      "cell_type": "code",
      "source": [
        "plt.figure(figsize=(8, 4))\n",
        "librosa.display.waveshow(x, sr=sr)\n",
        "plt.title('Waveplot - Female Fearful')\n",
        "plt.savefig('Waveplot_FemaleFearful.png')"
      ],
      "metadata": {
        "colab": {
          "base_uri": "https://localhost:8080/",
          "height": 374
        },
        "id": "Y_UZSIyvIeh-",
        "outputId": "7d9f77bd-c163-4cc4-c100-a0ad0c433a2f"
      },
      "execution_count": null,
      "outputs": [
        {
          "output_type": "display_data",
          "data": {
            "text/plain": [
              "<Figure size 800x400 with 1 Axes>"
            ],
            "image/png": "[encoded data removed]"
          },
          "metadata": {}
        }
      ]
    },
    {
      "cell_type": "code",
      "source": [
        "# LOAD IN FILE\n",
        "x, sr = librosa.load('/content/drive/MyDrive/archive/MaleNeutral.wav')"
      ],
      "metadata": {
        "id": "jjtZnOsrRxS8"
      },
      "execution_count": null,
      "outputs": []
    },
    {
      "cell_type": "code",
      "source": [
        "# CREATE DIRECTORY OF AUDIO FILES\n",
        "audio = \"/content/drive/MyDrive/archive\"\n",
        "actor_folders = os.listdir(audio) #list files in audio directory\n",
        "actor_folders.sort()\n",
        "actor_folders[0:5]"
      ],
      "metadata": {
        "colab": {
          "base_uri": "https://localhost:8080/"
        },
        "id": "JURCFHjNR992",
        "outputId": "44451055-6787-4b24-e66a-c2b79a5dd731"
      },
      "execution_count": null,
      "outputs": [
        {
          "output_type": "execute_result",
          "data": {
            "text/plain": [
              "['FemaleFearful.wav',\n",
              " 'FemaleSad.wav',\n",
              " 'MaleAngry.wav',\n",
              " 'MaleDisgust.wav',\n",
              " 'MaleNeutral.wav']"
            ]
          },
          "metadata": {},
          "execution_count": 37
        }
      ]
    },
    {
      "cell_type": "code",
      "source": [
        "plt.figure(figsize=(8, 4))\n",
        "librosa.display.waveshow(x, sr=sr)\n",
        "plt.title('Waveplot - Male Neutral ')\n",
        "plt.savefig('Waveplot_Male Neutral.png')"
      ],
      "metadata": {
        "colab": {
          "base_uri": "https://localhost:8080/",
          "height": 375
        },
        "id": "cJO9yt98SKrb",
        "outputId": "fa2f2895-6136-47a5-ba99-b2755c49d7c3"
      },
      "execution_count": null,
      "outputs": [
        {
          "output_type": "display_data",
          "data": {
            "text/plain": [
              "<Figure size 800x400 with 1 Axes>"
            ],
            "image/png": "[encoded data removed]"
          },
          "metadata": {}
        }
      ]
    },
    {
      "cell_type": "markdown",
      "source": [],
      "metadata": {
        "id": "Fzuv4GTG95YS"
      }
    },
    {
      "cell_type": "code",
      "source": [],
      "metadata": {
        "id": "fQa8h9YESN3F"
      },
      "execution_count": null,
      "outputs": []
    },
    {
      "cell_type": "code",
      "source": [
        "# CREATE DIRECTORY OF AUDIO FILES\n",
        "audio = \"/content/drive/MyDrive/archive\"\n",
        "actor_folders = os.listdir(audio) #list files in audio directory\n",
        "actor_folders.sort()\n",
        "actor_folders[0:5]"
      ],
      "metadata": {
        "colab": {
          "base_uri": "https://localhost:8080/"
        },
        "id": "pDw9WQq1I1tW",
        "outputId": "8a8e9676-4e5c-46d6-d126-2cd0c3fa73c8"
      },
      "execution_count": null,
      "outputs": [
        {
          "output_type": "execute_result",
          "data": {
            "text/plain": [
              "['FemaleFearful.wav',\n",
              " 'FemaleSad.wav',\n",
              " 'MaleAngry.wav',\n",
              " 'MaleDisgust.wav',\n",
              " 'MaleNeutral.wav']"
            ]
          },
          "metadata": {},
          "execution_count": 51
        }
      ]
    },
    {
      "cell_type": "code",
      "source": [],
      "metadata": {
        "id": "GWTPBY53ZfeK"
      },
      "execution_count": null,
      "outputs": []
    },
    {
      "cell_type": "code",
      "source": [
        "import os\n",
        "\n",
        "# Set the correct directory path for audio files\n",
        "audio = \"/content/drive/MyDrive/archive\"  # Replace with your actual path\n",
        "\n",
        "# List files in the directory\n",
        "print(\"Files in the directory:\", os.listdir(audio))\n",
        "\n",
        "# List of audio file names\n",
        "actor_folders = [\n",
        "    \"FemaleFearful.wav\",\n",
        "    \"FemaleSad.wav\",\n",
        "    \"MaleAngry.wav\",\n",
        "    \"MaleDisgust.wav\",\n",
        "    \"MaleNeutral.wav\",\n",
        "    \"MaleSadNoise.wav\",\n",
        "    \"MaleSadOriginal.wav\",\n",
        "    \"MaleSadSpeedPitch.wav\"\n",
        "]\n",
        "\n",
        "emotion = []\n",
        "gender = []\n",
        "file_path = []\n",
        "\n",
        "emotion_map = {\n",
        "    \"Fearful\": 0,\n",
        "    \"Sad\": 1,\n",
        "    \"Angry\": 2,\n",
        "    \"Disgust\": 3,\n",
        "    \"Happy\": 4,\n",
        "    \"Neutral\": 5,\n",
        "    \"Surprised\": 6,\n",
        "    \"Calm\": 7\n",
        "}\n",
        "\n",
        "for f in actor_folders:  # Iterate over the files\n",
        "    file_path_full = os.path.join(audio, f)\n",
        "    print(f\"Checking file: {file_path_full}\")  # Debug output\n",
        "\n",
        "    if os.path.isfile(file_path_full):\n",
        "        parts = f.split('.')[0]  # Remove the file extension\n",
        "\n",
        "        # Extract gender\n",
        "        gender_label = parts[:6].lower()\n",
        "        gender.append(\"female\" if \"female\" in gender_label else \"male\")\n",
        "\n",
        "        # Extract emotion\n",
        "        emotion_found = False\n",
        "        for emotion_key in emotion_map.keys():\n",
        "            if emotion_key.lower() in parts.lower():\n",
        "                emotion.append(emotion_map[emotion_key])\n",
        "                emotion_found = True\n",
        "                break\n",
        "\n",
        "        if not emotion_found:\n",
        "            emotion.append(-1)  # Default to -1 if no emotion found\n",
        "\n",
        "        file_path.append(file_path_full)\n",
        "    else:\n",
        "        print(f\"Skipping {file_path_full} because it is not a file.\")\n",
        "\n",
        "print(\"Emotions:\", emotion)\n",
        "print(\"Genders:\", gender)\n",
        "print(\"File Paths:\", file_path)\n",
        "\n",
        "if -1 in emotion:\n",
        "    print(\"Some emotions could not be identified. Please check the filenames.\")\n"
      ],
      "metadata": {
        "colab": {
          "base_uri": "https://localhost:8080/"
        },
        "id": "841VeLaAKmsC",
        "outputId": "f03a57f4-8401-43b1-ffb4-7ab7e6a03cde"
      },
      "execution_count": null,
      "outputs": [
        {
          "output_type": "stream",
          "name": "stdout",
          "text": [
            "Files in the directory: ['FemaleFearful.wav', 'FemaleSad.wav', 'MaleAngry.wav', 'MaleDisgust.wav', 'MaleSadOriginal.wav', 'MaleSadSpeedPitch.wav', 'MaleNeutral.wav', 'MaleSadNoise.wav']\n",
            "Checking file: /content/drive/MyDrive/archive/FemaleFearful.wav\n",
            "Checking file: /content/drive/MyDrive/archive/FemaleSad.wav\n",
            "Checking file: /content/drive/MyDrive/archive/MaleAngry.wav\n",
            "Checking file: /content/drive/MyDrive/archive/MaleDisgust.wav\n",
            "Checking file: /content/drive/MyDrive/archive/MaleNeutral.wav\n",
            "Checking file: /content/drive/MyDrive/archive/MaleSadNoise.wav\n",
            "Checking file: /content/drive/MyDrive/archive/MaleSadOriginal.wav\n",
            "Checking file: /content/drive/MyDrive/archive/MaleSadSpeedPitch.wav\n",
            "Emotions: [0, 1, 2, 3, 5, 1, 1, 1]\n",
            "Genders: ['female', 'female', 'male', 'male', 'male', 'male', 'male', 'male']\n",
            "File Paths: ['/content/drive/MyDrive/archive/FemaleFearful.wav', '/content/drive/MyDrive/archive/FemaleSad.wav', '/content/drive/MyDrive/archive/MaleAngry.wav', '/content/drive/MyDrive/archive/MaleDisgust.wav', '/content/drive/MyDrive/archive/MaleNeutral.wav', '/content/drive/MyDrive/archive/MaleSadNoise.wav', '/content/drive/MyDrive/archive/MaleSadOriginal.wav', '/content/drive/MyDrive/archive/MaleSadSpeedPitch.wav']\n"
          ]
        }
      ]
    },
    {
      "cell_type": "code",
      "source": [
        "import os\n",
        "\n",
        "# Initialize lists\n",
        "emotion = []\n",
        "gender = []\n",
        "actor = []\n",
        "file_path = []\n",
        "\n",
        "# Map for emotions based on filename keywords (adjust as needed)\n",
        "emotion_map = {\n",
        "    \"Fearful\": 0,\n",
        "    \"Sad\": 1,\n",
        "    \"Angry\": 2,\n",
        "    \"Disgust\": 3,\n",
        "    \"Neutral\": 4,\n",
        "    \"Calm\": 5,\n",
        "    \"Happy\": 6,\n",
        "    \"Surprise\": 7\n",
        "}\n",
        "\n",
        "# Iterate over the filenames\n",
        "for index, f in enumerate(actor_folders):\n",
        "    # Construct the full path to the file\n",
        "    file_path_full = os.path.join(audio, f)  # Correct path construction\n",
        "\n",
        "    if os.path.isfile(file_path_full):  # Check if the file exists\n",
        "        # Extract gender from the filename\n",
        "        if \"Female\" in f:\n",
        "            gender_label = \"female\"\n",
        "        elif \"Male\" in f:\n",
        "            gender_label = \"male\"\n",
        "        else:\n",
        "            print(f\"Gender not found in filename '{f}'. Skipping.\")\n",
        "            continue\n",
        "\n",
        "        # Find the emotion based on the filename\n",
        "        emotion_label = next((label for keyword, label in emotion_map.items() if keyword in f), None)\n",
        "\n",
        "        if emotion_label is not None:\n",
        "            emotion.append(emotion_label)\n",
        "            actor_id = index + 1  # Assigning a unique ID based on the index\n",
        "            actor.append(actor_id)\n",
        "            gender.append(gender_label)\n",
        "            file_path.append(file_path_full)\n",
        "        else:\n",
        "            print(f\"Emotion not found in filename '{f}'. Skipping.\")\n",
        "    else:\n",
        "        print(f\"Skipping {file_path_full} because it is not a file.\")\n",
        "\n",
        "# Output the results\n",
        "print(\"Emotions:\", emotion)\n",
        "print(\"Genders:\", gender)\n",
        "print(\"Actors:\", actor)\n",
        "print(\"File Paths:\", file_path)\n"
      ],
      "metadata": {
        "colab": {
          "base_uri": "https://localhost:8080/"
        },
        "id": "imhxXRMRYyx_",
        "outputId": "dc178ad8-079e-4bfd-ba11-1025497f1f6e"
      },
      "execution_count": null,
      "outputs": [
        {
          "output_type": "stream",
          "name": "stdout",
          "text": [
            "Emotions: [0, 1, 2, 3, 4, 1, 1, 1]\n",
            "Genders: ['female', 'female', 'male', 'male', 'male', 'male', 'male', 'male']\n",
            "Actors: [1, 2, 3, 4, 5, 6, 7, 8]\n",
            "File Paths: ['/content/drive/MyDrive/archive/FemaleFearful.wav', '/content/drive/MyDrive/archive/FemaleSad.wav', '/content/drive/MyDrive/archive/MaleAngry.wav', '/content/drive/MyDrive/archive/MaleDisgust.wav', '/content/drive/MyDrive/archive/MaleNeutral.wav', '/content/drive/MyDrive/archive/MaleSadNoise.wav', '/content/drive/MyDrive/archive/MaleSadOriginal.wav', '/content/drive/MyDrive/archive/MaleSadSpeedPitch.wav']\n"
          ]
        }
      ]
    },
    {
      "cell_type": "code",
      "source": [
        "# PUT EXTRACTED LABELS WITH FILEPATH INTO DATAFRAME\n",
        "audio_df = pd.DataFrame(emotion)\n",
        "audio_df = audio_df.replace({1:'neutral', 2:'calm', 3:'happy', 4:'sad', 5:'angry', 6:'fear', 7:'disgust', 8:'surprise'})\n",
        "audio_df = pd.concat([pd.DataFrame(gender),audio_df,pd.DataFrame(actor)],axis=1)\n",
        "audio_df.columns = ['gender','emotion','actor']\n",
        "audio_df = pd.concat([audio_df,pd.DataFrame(file_path, columns = ['path'])],axis=1)\n",
        "audio_df"
      ],
      "metadata": {
        "colab": {
          "base_uri": "https://localhost:8080/",
          "height": 300
        },
        "id": "dZPZf-0FbKY6",
        "outputId": "f3bcfb9a-bb9d-4fe7-d0f9-22609ba8342e"
      },
      "execution_count": null,
      "outputs": [
        {
          "output_type": "execute_result",
          "data": {
            "text/plain": [
              "   gender  emotion  actor                                               path\n",
              "0  female        0      1   /content/drive/MyDrive/archive/FemaleFearful.wav\n",
              "1  female  neutral      2       /content/drive/MyDrive/archive/FemaleSad.wav\n",
              "2    male     calm      3       /content/drive/MyDrive/archive/MaleAngry.wav\n",
              "3    male    happy      4     /content/drive/MyDrive/archive/MaleDisgust.wav\n",
              "4    male      sad      5     /content/drive/MyDrive/archive/MaleNeutral.wav\n",
              "5    male  neutral      6    /content/drive/MyDrive/archive/MaleSadNoise.wav\n",
              "6    male  neutral      7  /content/drive/MyDrive/archive/MaleSadOriginal...\n",
              "7    male  neutral      8  /content/drive/MyDrive/archive/MaleSadSpeedPit..."
            ],
            "text/html": [
              "\n",
              "  <div id=\"df-60499e26-14b4-4adb-88ce-626e6d11b32e\" class=\"colab-df-container\">\n",
              "    <div>\n",
              "<style scoped>\n",
              "    .dataframe tbody tr th:only-of-type {\n",
              "        vertical-align: middle;\n",
              "    }\n",
              "\n",
              "    .dataframe tbody tr th {\n",
              "        vertical-align: top;\n",
              "    }\n",
              "\n",
              "    .dataframe thead th {\n",
              "        text-align: right;\n",
              "    }\n",
              "</style>\n",
              "<table border=\"1\" class=\"dataframe\">\n",
              "  <thead>\n",
              "    <tr style=\"text-align: right;\">\n",
              "      <th></th>\n",
              "      <th>gender</th>\n",
              "      <th>emotion</th>\n",
              "      <th>actor</th>\n",
              "      <th>path</th>\n",
              "    </tr>\n",
              "  </thead>\n",
              "  <tbody>\n",
              "    <tr>\n",
              "      <th>0</th>\n",
              "      <td>female</td>\n",
              "      <td>0</td>\n",
              "      <td>1</td>\n",
              "      <td>/content/drive/MyDrive/archive/FemaleFearful.wav</td>\n",
              "    </tr>\n",
              "    <tr>\n",
              "      <th>1</th>\n",
              "      <td>female</td>\n",
              "      <td>neutral</td>\n",
              "      <td>2</td>\n",
              "      <td>/content/drive/MyDrive/archive/FemaleSad.wav</td>\n",
              "    </tr>\n",
              "    <tr>\n",
              "      <th>2</th>\n",
              "      <td>male</td>\n",
              "      <td>calm</td>\n",
              "      <td>3</td>\n",
              "      <td>/content/drive/MyDrive/archive/MaleAngry.wav</td>\n",
              "    </tr>\n",
              "    <tr>\n",
              "      <th>3</th>\n",
              "      <td>male</td>\n",
              "      <td>happy</td>\n",
              "      <td>4</td>\n",
              "      <td>/content/drive/MyDrive/archive/MaleDisgust.wav</td>\n",
              "    </tr>\n",
              "    <tr>\n",
              "      <th>4</th>\n",
              "      <td>male</td>\n",
              "      <td>sad</td>\n",
              "      <td>5</td>\n",
              "      <td>/content/drive/MyDrive/archive/MaleNeutral.wav</td>\n",
              "    </tr>\n",
              "    <tr>\n",
              "      <th>5</th>\n",
              "      <td>male</td>\n",
              "      <td>neutral</td>\n",
              "      <td>6</td>\n",
              "      <td>/content/drive/MyDrive/archive/MaleSadNoise.wav</td>\n",
              "    </tr>\n",
              "    <tr>\n",
              "      <th>6</th>\n",
              "      <td>male</td>\n",
              "      <td>neutral</td>\n",
              "      <td>7</td>\n",
              "      <td>/content/drive/MyDrive/archive/MaleSadOriginal...</td>\n",
              "    </tr>\n",
              "    <tr>\n",
              "      <th>7</th>\n",
              "      <td>male</td>\n",
              "      <td>neutral</td>\n",
              "      <td>8</td>\n",
              "      <td>/content/drive/MyDrive/archive/MaleSadSpeedPit...</td>\n",
              "    </tr>\n",
              "  </tbody>\n",
              "</table>\n",
              "</div>\n",
              "    <div class=\"colab-df-buttons\">\n",
              "\n",
              "  <div class=\"colab-df-container\">\n",
              "    <button class=\"colab-df-convert\" onclick=\"convertToInteractive('df-60499e26-14b4-4adb-88ce-626e6d11b32e')\"\n",
              "            title=\"Convert this dataframe to an interactive table.\"\n",
              "            style=\"display:none;\">\n",
              "\n",
              "  <svg xmlns=\"http://www.w3.org/2000/svg\" height=\"24px\" viewBox=\"0 -960 960 960\">\n",
              "    <path d=\"M120-120v-720h720v720H120Zm60-500h600v-160H180v160Zm220 220h160v-160H400v160Zm0 220h160v-160H400v160ZM180-400h160v-160H180v160Zm440 0h160v-160H620v160ZM180-180h160v-160H180v160Zm440 0h160v-160H620v160Z\"/>\n",
              "  </svg>\n",
              "    </button>\n",
              "\n",
              "  <style>\n",
              "    .colab-df-container {\n",
              "      display:flex;\n",
              "      gap: 12px;\n",
              "    }\n",
              "\n",
              "    .colab-df-convert {\n",
              "      background-color: #E8F0FE;\n",
              "      border: none;\n",
              "      border-radius: 50%;\n",
              "      cursor: pointer;\n",
              "      display: none;\n",
              "      fill: #1967D2;\n",
              "      height: 32px;\n",
              "      padding: 0 0 0 0;\n",
              "      width: 32px;\n",
              "    }\n",
              "\n",
              "    .colab-df-convert:hover {\n",
              "      background-color: #E2EBFA;\n",
              "      box-shadow: 0px 1px 2px rgba(60, 64, 67, 0.3), 0px 1px 3px 1px rgba(60, 64, 67, 0.15);\n",
              "      fill: #174EA6;\n",
              "    }\n",
              "\n",
              "    .colab-df-buttons div {\n",
              "      margin-bottom: 4px;\n",
              "    }\n",
              "\n",
              "    [theme=dark] .colab-df-convert {\n",
              "      background-color: #3B4455;\n",
              "      fill: #D2E3FC;\n",
              "    }\n",
              "\n",
              "    [theme=dark] .colab-df-convert:hover {\n",
              "      background-color: #434B5C;\n",
              "      box-shadow: 0px 1px 3px 1px rgba(0, 0, 0, 0.15);\n",
              "      filter: drop-shadow(0px 1px 2px rgba(0, 0, 0, 0.3));\n",
              "      fill: #FFFFFF;\n",
              "    }\n",
              "  </style>\n",
              "\n",
              "    <script>\n",
              "      const buttonEl =\n",
              "        document.querySelector('#df-60499e26-14b4-4adb-88ce-626e6d11b32e button.colab-df-convert');\n",
              "      buttonEl.style.display =\n",
              "        google.colab.kernel.accessAllowed ? 'block' : 'none';\n",
              "\n",
              "      async function convertToInteractive(key) {\n",
              "        const element = document.querySelector('#df-60499e26-14b4-4adb-88ce-626e6d11b32e');\n",
              "        const dataTable =\n",
              "          await google.colab.kernel.invokeFunction('convertToInteractive',\n",
              "                                                    [key], {});\n",
              "        if (!dataTable) return;\n",
              "\n",
              "        const docLinkHtml = 'Like what you see? Visit the ' +\n",
              "          '<a target=\"_blank\" href=https://colab.research.google.com/notebooks/data_table.ipynb>data table notebook</a>'\n",
              "          + ' to learn more about interactive tables.';\n",
              "        element.innerHTML = '';\n",
              "        dataTable['output_type'] = 'display_data';\n",
              "        await google.colab.output.renderOutput(dataTable, element);\n",
              "        const docLink = document.createElement('div');\n",
              "        docLink.innerHTML = docLinkHtml;\n",
              "        element.appendChild(docLink);\n",
              "      }\n",
              "    </script>\n",
              "  </div>\n",
              "\n",
              "\n",
              "<div id=\"df-32a8e6b2-ad1c-48b3-bc93-002e4e9dca1c\">\n",
              "  <button class=\"colab-df-quickchart\" onclick=\"quickchart('df-32a8e6b2-ad1c-48b3-bc93-002e4e9dca1c')\"\n",
              "            title=\"Suggest charts\"\n",
              "            style=\"display:none;\">\n",
              "\n",
              "<svg xmlns=\"http://www.w3.org/2000/svg\" height=\"24px\"viewBox=\"0 0 24 24\"\n",
              "     width=\"24px\">\n",
              "    <g>\n",
              "        <path d=\"M19 3H5c-1.1 0-2 .9-2 2v14c0 1.1.9 2 2 2h14c1.1 0 2-.9 2-2V5c0-1.1-.9-2-2-2zM9 17H7v-7h2v7zm4 0h-2V7h2v10zm4 0h-2v-4h2v4z\"/>\n",
              "    </g>\n",
              "</svg>\n",
              "  </button>\n",
              "\n",
              "<style>\n",
              "  .colab-df-quickchart {\n",
              "      --bg-color: #E8F0FE;\n",
              "      --fill-color: #1967D2;\n",
              "      --hover-bg-color: #E2EBFA;\n",
              "      --hover-fill-color: #174EA6;\n",
              "      --disabled-fill-color: #AAA;\n",
              "      --disabled-bg-color: #DDD;\n",
              "  }\n",
              "\n",
              "  [theme=dark] .colab-df-quickchart {\n",
              "      --bg-color: #3B4455;\n",
              "      --fill-color: #D2E3FC;\n",
              "      --hover-bg-color: #434B5C;\n",
              "      --hover-fill-color: #FFFFFF;\n",
              "      --disabled-bg-color: #3B4455;\n",
              "      --disabled-fill-color: #666;\n",
              "  }\n",
              "\n",
              "  .colab-df-quickchart {\n",
              "    background-color: var(--bg-color);\n",
              "    border: none;\n",
              "    border-radius: 50%;\n",
              "    cursor: pointer;\n",
              "    display: none;\n",
              "    fill: var(--fill-color);\n",
              "    height: 32px;\n",
              "    padding: 0;\n",
              "    width: 32px;\n",
              "  }\n",
              "\n",
              "  .colab-df-quickchart:hover {\n",
              "    background-color: var(--hover-bg-color);\n",
              "    box-shadow: 0 1px 2px rgba(60, 64, 67, 0.3), 0 1px 3px 1px rgba(60, 64, 67, 0.15);\n",
              "    fill: var(--button-hover-fill-color);\n",
              "  }\n",
              "\n",
              "  .colab-df-quickchart-complete:disabled,\n",
              "  .colab-df-quickchart-complete:disabled:hover {\n",
              "    background-color: var(--disabled-bg-color);\n",
              "    fill: var(--disabled-fill-color);\n",
              "    box-shadow: none;\n",
              "  }\n",
              "\n",
              "  .colab-df-spinner {\n",
              "    border: 2px solid var(--fill-color);\n",
              "    border-color: transparent;\n",
              "    border-bottom-color: var(--fill-color);\n",
              "    animation:\n",
              "      spin 1s steps(1) infinite;\n",
              "  }\n",
              "\n",
              "  @keyframes spin {\n",
              "    0% {\n",
              "      border-color: transparent;\n",
              "      border-bottom-color: var(--fill-color);\n",
              "      border-left-color: var(--fill-color);\n",
              "    }\n",
              "    20% {\n",
              "      border-color: transparent;\n",
              "      border-left-color: var(--fill-color);\n",
              "      border-top-color: var(--fill-color);\n",
              "    }\n",
              "    30% {\n",
              "      border-color: transparent;\n",
              "      border-left-color: var(--fill-color);\n",
              "      border-top-color: var(--fill-color);\n",
              "      border-right-color: var(--fill-color);\n",
              "    }\n",
              "    40% {\n",
              "      border-color: transparent;\n",
              "      border-right-color: var(--fill-color);\n",
              "      border-top-color: var(--fill-color);\n",
              "    }\n",
              "    60% {\n",
              "      border-color: transparent;\n",
              "      border-right-color: var(--fill-color);\n",
              "    }\n",
              "    80% {\n",
              "      border-color: transparent;\n",
              "      border-right-color: var(--fill-color);\n",
              "      border-bottom-color: var(--fill-color);\n",
              "    }\n",
              "    90% {\n",
              "      border-color: transparent;\n",
              "      border-bottom-color: var(--fill-color);\n",
              "    }\n",
              "  }\n",
              "</style>\n",
              "\n",
              "  <script>\n",
              "    async function quickchart(key) {\n",
              "      const quickchartButtonEl =\n",
              "        document.querySelector('#' + key + ' button');\n",
              "      quickchartButtonEl.disabled = true;  // To prevent multiple clicks.\n",
              "      quickchartButtonEl.classList.add('colab-df-spinner');\n",
              "      try {\n",
              "        const charts = await google.colab.kernel.invokeFunction(\n",
              "            'suggestCharts', [key], {});\n",
              "      } catch (error) {\n",
              "        console.error('Error during call to suggestCharts:', error);\n",
              "      }\n",
              "      quickchartButtonEl.classList.remove('colab-df-spinner');\n",
              "      quickchartButtonEl.classList.add('colab-df-quickchart-complete');\n",
              "    }\n",
              "    (() => {\n",
              "      let quickchartButtonEl =\n",
              "        document.querySelector('#df-32a8e6b2-ad1c-48b3-bc93-002e4e9dca1c button');\n",
              "      quickchartButtonEl.style.display =\n",
              "        google.colab.kernel.accessAllowed ? 'block' : 'none';\n",
              "    })();\n",
              "  </script>\n",
              "</div>\n",
              "\n",
              "  <div id=\"id_002ef866-b5ac-49a9-9d01-90fbdf51d47e\">\n",
              "    <style>\n",
              "      .colab-df-generate {\n",
              "        background-color: #E8F0FE;\n",
              "        border: none;\n",
              "        border-radius: 50%;\n",
              "        cursor: pointer;\n",
              "        display: none;\n",
              "        fill: #1967D2;\n",
              "        height: 32px;\n",
              "        padding: 0 0 0 0;\n",
              "        width: 32px;\n",
              "      }\n",
              "\n",
              "      .colab-df-generate:hover {\n",
              "        background-color: #E2EBFA;\n",
              "        box-shadow: 0px 1px 2px rgba(60, 64, 67, 0.3), 0px 1px 3px 1px rgba(60, 64, 67, 0.15);\n",
              "        fill: #174EA6;\n",
              "      }\n",
              "\n",
              "      [theme=dark] .colab-df-generate {\n",
              "        background-color: #3B4455;\n",
              "        fill: #D2E3FC;\n",
              "      }\n",
              "\n",
              "      [theme=dark] .colab-df-generate:hover {\n",
              "        background-color: #434B5C;\n",
              "        box-shadow: 0px 1px 3px 1px rgba(0, 0, 0, 0.15);\n",
              "        filter: drop-shadow(0px 1px 2px rgba(0, 0, 0, 0.3));\n",
              "        fill: #FFFFFF;\n",
              "      }\n",
              "    </style>\n",
              "    <button class=\"colab-df-generate\" onclick=\"generateWithVariable('audio_df')\"\n",
              "            title=\"Generate code using this dataframe.\"\n",
              "            style=\"display:none;\">\n",
              "\n",
              "  <svg xmlns=\"http://www.w3.org/2000/svg\" height=\"24px\"viewBox=\"0 0 24 24\"\n",
              "       width=\"24px\">\n",
              "    <path d=\"M7,19H8.4L18.45,9,17,7.55,7,17.6ZM5,21V16.75L18.45,3.32a2,2,0,0,1,2.83,0l1.4,1.43a1.91,1.91,0,0,1,.58,1.4,1.91,1.91,0,0,1-.58,1.4L9.25,21ZM18.45,9,17,7.55Zm-12,3A5.31,5.31,0,0,0,4.9,8.1,5.31,5.31,0,0,0,1,6.5,5.31,5.31,0,0,0,4.9,4.9,5.31,5.31,0,0,0,6.5,1,5.31,5.31,0,0,0,8.1,4.9,5.31,5.31,0,0,0,12,6.5,5.46,5.46,0,0,0,6.5,12Z\"/>\n",
              "  </svg>\n",
              "    </button>\n",
              "    <script>\n",
              "      (() => {\n",
              "      const buttonEl =\n",
              "        document.querySelector('#id_002ef866-b5ac-49a9-9d01-90fbdf51d47e button.colab-df-generate');\n",
              "      buttonEl.style.display =\n",
              "        google.colab.kernel.accessAllowed ? 'block' : 'none';\n",
              "\n",
              "      buttonEl.onclick = () => {\n",
              "        google.colab.notebook.generateWithVariable('audio_df');\n",
              "      }\n",
              "      })();\n",
              "    </script>\n",
              "  </div>\n",
              "\n",
              "    </div>\n",
              "  </div>\n"
            ],
            "application/vnd.google.colaboratory.intrinsic+json": {
              "type": "dataframe",
              "variable_name": "audio_df",
              "summary": "{\n  \"name\": \"audio_df\",\n  \"rows\": 8,\n  \"fields\": [\n    {\n      \"column\": \"gender\",\n      \"properties\": {\n        \"dtype\": \"category\",\n        \"num_unique_values\": 2,\n        \"samples\": [\n          \"male\",\n          \"female\"\n        ],\n        \"semantic_type\": \"\",\n        \"description\": \"\"\n      }\n    },\n    {\n      \"column\": \"emotion\",\n      \"properties\": {\n        \"dtype\": \"string\",\n        \"num_unique_values\": 5,\n        \"samples\": [\n          \"neutral\",\n          \"sad\"\n        ],\n        \"semantic_type\": \"\",\n        \"description\": \"\"\n      }\n    },\n    {\n      \"column\": \"actor\",\n      \"properties\": {\n        \"dtype\": \"number\",\n        \"std\": 2,\n        \"min\": 1,\n        \"max\": 8,\n        \"num_unique_values\": 8,\n        \"samples\": [\n          2,\n          6\n        ],\n        \"semantic_type\": \"\",\n        \"description\": \"\"\n      }\n    },\n    {\n      \"column\": \"path\",\n      \"properties\": {\n        \"dtype\": \"string\",\n        \"num_unique_values\": 8,\n        \"samples\": [\n          \"/content/drive/MyDrive/archive/FemaleSad.wav\",\n          \"/content/drive/MyDrive/archive/MaleSadNoise.wav\"\n        ],\n        \"semantic_type\": \"\",\n        \"description\": \"\"\n      }\n    }\n  ]\n}"
            }
          },
          "metadata": {},
          "execution_count": 63
        }
      ]
    },
    {
      "cell_type": "code",
      "source": [
        "import pandas as pd\n",
        "import librosa\n",
        "import os\n",
        "\n",
        "# Directory containing your audio files\n",
        "audio_dir = '/content/drive/MyDrive/archive/'  # Replace with your actual directory path\n",
        "\n",
        "# Mapping of filenames to (actor, gender, emotion)\n",
        "metadata = {\n",
        "    'FemaleFearful.wav': ('Actor_Female', 'Female', 'Fearful'),\n",
        "    'FemaleSad.wav': ('Actor_Female', 'Female', 'Sad'),\n",
        "    'MaleAngry.wav': ('Actor_Male', 'Male', 'Angry'),\n",
        "    'MaleDisgust.wav': ('Actor_Male', 'Male', 'Disgust'),\n",
        "    'MaleSadOriginal.wav': ('Actor_Male', 'Male', 'Sad'),\n",
        "    'MaleSadSpeedPitch.wav': ('Actor_Male', 'Male', 'Sad'),\n",
        "    'MaleNeutral.wav': ('Actor_Male', 'Male', 'Neutral'),\n",
        "    'MaleSadNoise.wav': ('Actor_Male', 'Male', 'Sad'),\n",
        "}\n",
        "\n",
        "# List to hold the data\n",
        "data = []\n",
        "\n",
        "# Loop through each file in the directory\n",
        "for filename in os.listdir(audio_dir):\n",
        "    if filename in metadata:  # Check if the filename is in the metadata\n",
        "        file_path = os.path.join(audio_dir, filename)\n",
        "\n",
        "        # Load the audio file\n",
        "        audio_data, sr = librosa.load(file_path)\n",
        "\n",
        "        # Get metadata from the dictionary\n",
        "        actor, gender, emotion = metadata[filename]\n",
        "\n",
        "        # Append the audio data and metadata to the list\n",
        "        data.append({\n",
        "            'audio_data': audio_data,\n",
        "            'sampling_rate': sr,\n",
        "            'actor': actor,\n",
        "            'gender': gender,\n",
        "            'emotion': emotion\n",
        "        })\n",
        "    else:\n",
        "        print(f\"Filename not found in metadata: {filename}\")\n",
        "\n",
        "# Create a DataFrame from the collected data\n",
        "audio_df = pd.DataFrame(data)\n",
        "\n",
        "# Check if the DataFrame is empty\n",
        "if audio_df.empty:\n",
        "    print(\"No audio data was loaded. Please check your files and directory.\")\n",
        "else:\n",
        "    # Set the option to display unlimited column width\n",
        "    pd.set_option('display.max_colwidth', None)\n",
        "\n",
        "    # Check the number of rows before sampling\n",
        "    sample_size = min(10, len(audio_df))  # Adjust the sample size\n",
        "    sampled_data = audio_df.sample(sample_size)  # Sample the available number of rows\n",
        "    print(sampled_data)\n"
      ],
      "metadata": {
        "colab": {
          "base_uri": "https://localhost:8080/"
        },
        "id": "CgZWR6l6C7IS",
        "outputId": "fafc564a-7d37-451c-f26a-0e7cde4c19d2"
      },
      "execution_count": null,
      "outputs": [
        {
          "output_type": "stream",
          "name": "stdout",
          "text": [
            "                                                                                                                                                                                                                                                                                                                                                                                                                                                                                                                                                                                                                                                                                                                                                                                                                                                                                                                                                                                                                                                                                                                                                                                                                                                                                                                                                                                                                                                                                                                                                                                                                          audio_data  \\\n",
            "3                                                  [-8.401467e-07, 1.1839603e-06, -1.7343002e-06, 2.865272e-06, -7.481255e-06, -1.0127877e-05, 2.5495472e-06, -1.1879409e-06, 5.7351565e-07, -2.0396867e-07, -4.9406903e-08, 2.3328705e-07, -3.680039e-07, 4.616658e-07, -5.18415e-07, 5.3829046e-07, -5.1770934e-07, 4.4592716e-07, -2.9996477e-07, 5.1031734e-09, 7.8102755e-07, -1.2890977e-05, -2.7300723e-06, 1.5544211e-06, -1.13611e-06, 8.882293e-07, -7.0784114e-07, 5.6463944e-07, -4.4811105e-07, 3.5514338e-07, -2.8530994e-07, 2.404869e-07, -2.2364738e-07, 2.3925818e-07, -2.946661e-07, 4.007556e-07, -5.799633e-07, 8.805549e-07, -1.4317835e-06, 2.7294284e-06, -9.946484e-06, -7.757733e-06, 2.8977663e-06, -1.7577324e-06, 1.2153912e-06, -8.8019135e-07, 6.4269716e-07, -4.6220086e-07, 3.1919535e-07, -2.0385538e-07, 1.1058979e-07, -3.544738e-08, -2.3163029e-08, 6.768118e-08, -9.982293e-08, 1.211865e-07, -1.3330785e-07, 1.3781018e-07, -1.3584068e-07, 1.2895185e-07, -1.1843402e-07, 1.0546305e-07, -9.1086704e-08, 7.61753e-08, -6.152765e-08, 4.7719677e-08, -3.5193313e-08, 2.4249212e-08, -1.501564e-08, 7.642442e-09, -2.046193e-09, -1.8891357e-09, 4.3422443e-09, -5.5393694e-09, 5.7589573e-09, -5.2478835e-09, 4.326185e-09, -3.299185e-09, 2.4709923e-09, -2.137479e-09, 2.5949571e-09, -4.0653116e-09, 6.77894e-09, -1.0900779e-08, 1.6529931e-08, -2.3712031e-08, 3.2307675e-08, -4.214664e-08, 5.2902223e-08, -6.410999e-08, 7.516098e-08, -8.5284974e-08, 9.3620926e-08, -9.917425e-08, 1.0087319e-07, -9.7602005e-08, 8.8253245e-08, -7.157502e-08, 4.7014165e-08, -1.3670355e-08, ...]   \n",
            "1                                                              [0.0, -1.1271335e-12, 2.5626274e-12, -4.8656704e-12, 8.154615e-12, -1.2336212e-11, 1.6916506e-11, -2.0884839e-11, 2.2373207e-11, -1.8485543e-11, 5.074344e-12, 2.339863e-11, -7.415208e-11, 1.548968e-10, -2.7485828e-10, 4.4318466e-10, -6.681199e-10, 9.560153e-10, -1.3077917e-09, 1.7196737e-09, -2.1791473e-09, 2.6630933e-09, -3.1357168e-09, 3.5439522e-09, -3.826565e-09, 3.9007038e-09, -3.6710033e-09, 3.0307046e-09, -1.866e-09, 4.7344285e-11, 2.5042863e-09, -5.8907195e-09, 1.0172368e-08, -1.5368276e-08, 2.1465553e-08, -2.8318345e-08, 3.577078e-08, -4.3558654e-08, 5.132622e-08, -5.862456e-08, 6.4889065e-08, -6.9528056e-08, 7.1837874e-08, -7.107512e-08, 6.646663e-08, -5.723812e-08, 4.248317e-08, -2.1805755e-08, -5.5300253e-09, 4.001697e-08, -8.202245e-08, 1.3203628e-07, -1.8966655e-07, 2.5519066e-07, -3.286305e-07, 4.1013254e-07, -5.001903e-07, 6.0007886e-07, -7.1258006e-07, 8.441483e-07, -1.009227e-06, 1.2446185e-06, -1.6697591e-06, 2.9641708e-06, 1.2864581e-05, -1.0371856e-06, 2.1279416e-07, 8.8729784e-08, -2.4010862e-07, 3.217284e-07, -3.64643e-07, 3.8236195e-07, -3.8234583e-07, 3.6937865e-07, -3.4707205e-07, 3.177355e-07, -2.8387177e-07, 2.4738506e-07, -2.0991118e-07, 1.7283011e-07, -1.3716522e-07, 1.0405353e-07, -7.407319e-08, 4.7687493e-08, -2.5156261e-08, 6.448571e-09, 8.2839735e-09, -1.9374689e-08, 2.7139501e-08, -3.1967975e-08, 3.4295358e-08, -3.4607236e-08, 3.3281356e-08, -3.078811e-08, 2.7517393e-08, -2.3809536e-08, 1.994972e-08, -1.6159095e-08, 1.2618468e-08, -9.441132e-09, ...]   \n",
            "2  [-4.0720013e-05, -5.5039018e-05, -4.7898153e-05, -4.6157646e-05, -5.660621e-05, -6.422406e-05, -5.807039e-05, -6.4327156e-05, -5.5848865e-05, -4.644798e-05, -3.2752945e-05, -2.845957e-05, -3.9785824e-05, -3.9144797e-05, -2.6103893e-05, -3.631418e-05, -6.1428116e-05, -3.919123e-05, -3.5318364e-05, -4.4724507e-05, -3.7222246e-05, -4.433157e-05, -3.2855303e-05, -4.2261865e-05, -4.104002e-05, -3.634253e-05, -3.94527e-05, -4.002721e-05, -6.173454e-05, -3.5929457e-05, -4.079313e-05, -5.5668686e-05, -3.7865655e-05, -2.8380982e-05, -4.0381274e-05, -5.298852e-05, -5.4378554e-05, -4.9706206e-05, -3.577743e-05, -4.3617994e-05, -5.9248334e-05, -6.1016857e-05, -4.3837164e-05, -3.566288e-05, -4.0182455e-05, -4.9248883e-05, -2.7338712e-05, -3.3260814e-05, -2.8268687e-05, -3.2060874e-05, -4.227842e-05, -1.9044666e-05, -3.0210274e-05, -4.787044e-05, -5.3055686e-05, -3.1998832e-05, -4.9566992e-05, -4.3754844e-05, -2.2757944e-05, -1.7959845e-05, -1.3161908e-05, -1.6151815e-05, -2.0009593e-05, -3.548923e-05, -1.8956787e-05, -1.3597049e-05, -2.8427863e-05, -1.8113846e-05, -2.7638667e-05, -1.8060495e-05, -2.2057558e-05, -1.9169722e-05, -9.699536e-06, -2.735412e-05, -1.938766e-05, -2.7110447e-05, -8.730706e-06, -1.3278709e-05, -1.8662016e-05, -1.951075e-05, -2.3758073e-05, -2.4104962e-05, -1.6889946e-05, -2.4579012e-05, -2.31311e-05, -1.53773e-06, -1.1690159e-05, -1.0525467e-05, -8.357216e-06, -1.6334936e-05, -1.3926725e-05, -1.7275384e-05, -3.1149746e-05, -1.9269548e-05, 7.4038e-06, -1.0580999e-05, -2.6723626e-05, -1.9908293e-05, -2.6761578e-05, -8.046615e-06, ...]   \n",
            "0                                                       [3.510993e-05, 8.609393e-05, 4.1598316e-05, 1.3485576e-05, -5.4398144e-05, -9.82124e-05, -0.00011160276, -0.00014200983, -0.00012608437, -3.8782036e-05, 7.3010175e-05, 0.00011060261, 0.000118858115, 4.9471044e-05, -2.3333173e-06, -3.6213503e-05, -9.629944e-06, -1.2426163e-05, 2.3794777e-05, 5.397998e-05, -6.0651523e-06, 5.4735515e-06, -5.115085e-06, 9.88708e-06, 4.099708e-05, 1.043253e-05, -4.1005865e-06, 2.202731e-06, -8.909119e-07, 7.848473e-09, 1.9722693e-05, -3.3632987e-05, -5.904258e-05, -4.997668e-05, -2.2963195e-05, 3.226422e-05, 1.0961079e-06, 8.9945405e-07, -7.605294e-07, 5.333466e-07, -5.457604e-07, 1.7546489e-06, 1.6212562e-05, 2.5918705e-05, 1.8504961e-05, -3.392887e-05, -6.914549e-05, -9.8736076e-05, -4.232562e-05, -1.2793596e-06, 2.9581843e-06, -5.989205e-06, 2.3468468e-05, 2.8196728e-05, -9.069298e-06, 2.0510781e-06, -9.517101e-05, -5.084513e-05, -7.098884e-05, -6.8361616e-05, -1.1686794e-05, -1.3215445e-05, 2.2931803e-05, 4.182927e-05, 5.305589e-05, -5.913687e-06, 8.060743e-06, -1.45876065e-05, -1.5920314e-05, -4.7405116e-05, -2.4601184e-05, -4.094927e-06, 1.1321793e-05, -2.7679722e-05, -4.7600355e-05, -1.2068074e-05, 5.685655e-05, 0.00012769522, 0.00010493239, 7.441208e-05, -2.3591445e-05, -0.000110190536, -0.00015381513, -3.2390548e-05, 3.5869918e-05, 5.175e-05, 6.4688493e-06, -3.929644e-06, 3.6739168e-06, -3.3963508e-06, 2.9529172e-06, -2.2884992e-06, 1.2497082e-06, 2.950156e-07, -6.0148373e-05, -9.796297e-05, -2.7037557e-05, 3.913029e-05, 0.0001593768, 5.7043515e-05, ...]   \n",
            "4                                                [-2.2252116e-09, 8.4289864e-10, 1.2247587e-09, -4.0771453e-09, 7.786599e-09, -1.23847075e-08, 1.7867869e-08, -2.4104706e-08, 3.0943337e-08, -3.8123893e-08, 4.5292015e-08, -5.2000882e-08, 5.769448e-08, -6.178946e-08, 6.3612106e-08, -6.2466725e-08, 5.7658276e-08, -4.840685e-08, 3.4340378e-08, -1.4883847e-08, -1.0297521e-08, 4.136677e-08, -7.829366e-08, 1.2105647e-07, -1.6878951e-07, 2.2107976e-07, -2.7714708e-07, 3.3611656e-07, -3.9707433e-07, 4.5915664e-07, -5.216748e-07, 5.844906e-07, -6.482626e-07, 7.153558e-07, -7.911041e-07, 8.9364744e-07, -1.0745682e-06, 1.5647279e-06, -4.7504955e-06, -3.209701e-05, -7.96063e-06, 3.190915e-06, -4.300998e-06, -1.677051e-05, -1.0385213e-05, 3.4098728e-06, -2.834074e-06, 2.9664534e-06, -3.594618e-06, 5.324565e-06, -2.4181896e-05, -2.1740714e-05, -7.0205847e-06, -9.492451e-06, 5.813603e-06, -1.6915867e-05, -1.1477424e-05, -1.102514e-05, -6.986682e-06, 2.3596556e-06, -1.3739468e-06, 9.575635e-07, -7.274998e-07, 5.7789924e-07, -4.6920837e-07, 3.8386077e-07, -3.1340193e-07, 2.5355936e-07, -2.018826e-07, 1.5764942e-07, -1.1993103e-07, 8.8207706e-08, -6.196367e-08, 4.0596856e-08, -2.3166542e-08, 9.194728e-09, 2.5606237e-09, -1.3256245e-08, 2.4157183e-08, -3.662703e-08, 5.2362136e-08, -7.262301e-08, 9.9664796e-08, -1.363346e-07, 1.8724165e-07, -2.6160777e-07, 3.7923232e-07, -6.0180525e-07, 1.2247166e-06, -1.3248515e-05, -1.5768917e-05, 2.2701425e-07, -1.8335604e-07, 1.0838498e-07, -4.968208e-08, 4.865283e-09, 2.9363393e-08, -5.54503e-08, 7.422646e-08, -8.704012e-08, ...]   \n",
            "6                                                                    [1.5591205e-07, -1.5845627e-07, 1.536287e-07, -1.3988964e-07, 1.1574391e-07, -7.975963e-08, 3.01509e-08, 3.366666e-08, -1.1355204e-07, 2.114403e-07, -3.3027777e-07, 4.751898e-07, -6.5651466e-07, 8.930891e-07, -1.2314678e-06, 1.7969733e-06, -3.0679028e-06, 9.740253e-06, 8.0837945e-06, -2.8357315e-06, 1.7601616e-06, -1.3591024e-06, 1.2293228e-06, -1.2906036e-06, 1.5949394e-06, -2.5509466e-06, 1.3808123e-05, 2.3104737e-06, -4.154409e-07, -6.0044266e-07, 2.8308643e-06, 1.3758405e-05, -3.3291226e-06, 2.6833998e-06, -3.468115e-06, 1.1251843e-05, 6.4981873e-06, -2.5856934e-06, 1.6878172e-06, -1.2879666e-06, 1.0504026e-06, -8.8031834e-07, 7.4331507e-07, -6.245211e-07, 5.1737555e-07, -4.1914564e-07, 3.2867794e-07, -2.4658345e-07, 1.7298574e-07, -1.08325885e-07, 5.2931327e-08, -6.64829e-09, -3.008461e-08, 5.7956814e-08, -7.759383e-08, 8.981701e-08, -9.559167e-08, 9.604575e-08, -9.21002e-08, 8.493244e-08, -7.55575e-08, 6.4891836e-08, -5.3730496e-08, 4.270072e-08, -3.2361072e-08, 2.3055623e-08, -1.501436e-08, 8.34823e-09, -3.041756e-09, -9.176923e-10, 3.6857535e-09, -5.4261147e-09, 6.321303e-09, -6.5571304e-09, 6.3160694e-09, -5.743538e-09, 4.983117e-09, -4.143678e-09, 3.3076217e-09, -2.5323146e-09, 1.8522573e-09, -1.2865076e-09, 8.3756907e-10, -4.9846605e-10, 2.5605693e-10, -9.31398e-11, -6.2932866e-12, 5.946472e-11, -8.077235e-11, 8.1984565e-11, -7.2458664e-11, 5.7569647e-11, -4.22757e-11, 2.8875154e-11, -1.8312041e-11, 1.0591797e-11, -5.70969e-12, 2.7409561e-12, -1.1116202e-12, 0.0, ...]   \n",
            "5                                                [-2.2252116e-09, 1.0671442e-09, -2.0070332e-09, -7.57861e-09, 3.2202279e-09, 2.7432733e-08, 5.5419873e-09, -3.9855724e-08, -2.5700825e-08, 2.7653442e-08, 4.2336705e-08, -1.03680815e-08, -1.4668548e-08, 2.2467406e-08, -3.41507e-08, -1.1333607e-07, 2.3819325e-08, 3.257955e-07, 9.133314e-08, -3.472758e-07, -3.3379487e-07, 2.1498288e-07, 7.5785107e-07, 2.626103e-07, -7.317989e-06, -1.5656931e-05, 1.1802501e-06, -1.4970203e-05, -4.2758015e-06, -2.659397e-06, -1.0840848e-06, -7.125922e-07, -2.2248847e-05, -7.9576575e-06, 5.2984087e-06, -1.3905222e-05, -1.04564e-05, -1.8183383e-07, -6.387709e-07, -5.6331913e-07, 6.501299e-08, 3.3013131e-07, 6.323215e-08, -1.1144294e-07, -7.518329e-08, 2.4228857e-08, 3.974981e-08, -3.7326444e-09, -4.0938622e-10, 1.5739916e-08, -4.3893285e-09, -6.63126e-08, -2.7009316e-08, 1.315837e-07, 1.9418762e-07, -5.66031e-08, -1.1594764e-05, -8.20312e-06, -1.6578508e-07, 6.0407905e-09, 1.0615444e-08, -4.0350397e-08, 8.234699e-09, 9.4060205e-08, 1.613835e-08, -6.281287e-08, -3.9311086e-08, 2.5263429e-08, 4.3085155e-08, -3.3045384e-09, -1.8458177e-08, -1.1105629e-09, 2.3386248e-09, -4.177566e-09, 3.3716398e-11, 8.4178735e-09, 1.8978221e-09, -4.351747e-09, -1.7716028e-09, 1.2321582e-09, -3.5904875e-09, -2.37081e-09, 7.68186e-09, 8.172607e-09, -5.768661e-09, -1.38052405e-08, 2.1034356e-09, 3.4825396e-09, -1.0331409e-08, 1.0781589e-08, 5.445958e-08, -2.5181154e-10, -1.419034e-07, -5.7324016e-08, 1.3369048e-07, 1.5544104e-07, -6.957906e-08, -2.2364281e-07, 1.09386065e-08, 6.373675e-08, ...]   \n",
            "7                                               [-0.0002513115, -0.00011661869, 0.00013212621, -0.00017285347, 0.00017231992, -4.972224e-05, 0.00012416315, 0.000106860956, 0.00017314925, -0.0001429787, 6.022826e-05, -0.00021122216, -0.0001062459, -6.679964e-05, 6.287881e-05, 0.000116772804, -0.0003924041, -0.00020192082, 3.179372e-05, -0.0005886403, 0.00035091126, -0.000322928, -0.00032483286, 0.00031777984, -7.407311e-05, 0.00023231267, 0.00030386882, 0.00014376701, -2.4592617e-05, -0.0003269592, -0.00029226704, -8.283686e-05, -0.00018588682, -0.00017284011, 8.3335544e-05, -0.00011069699, -0.00016710063, 3.323058e-05, -0.00067891314, -0.00019460123, 0.00015069482, 0.000348646, 0.00025163754, -0.00014289515, 6.925425e-05, 3.6288504e-05, 0.00020357728, 0.00032231692, 0.00045556558, 0.0004188357, -2.6778465e-05, 0.00019058085, -0.0001433254, -3.3413355e-05, -0.00021156542, 0.00018523104, 0.00013115625, -0.0001755552, -7.018519e-05, 0.00031032335, 2.8451452e-05, 0.0001502785, 2.8456216e-06, 0.00018068276, 9.959772e-05, -0.00014815481, 6.2454565e-05, -0.00020964732, 0.00023380431, -0.00022830364, -0.0003322183, 0.00032113574, 0.00024192309, -0.000506721, -0.00019440844, 3.2830405e-05, 8.5935346e-05, 5.272964e-06, 0.00018655472, -0.00019540926, -0.00027598417, -4.0706058e-05, 4.9974926e-05, -0.00010589534, -4.995667e-05, -2.038681e-05, 0.00023227879, 0.00037998398, 0.00014096177, 6.915881e-05, -0.0002322518, -0.00019296921, -4.7018388e-05, -0.00036026502, -0.00037444162, -0.0002606489, -2.490028e-05, -7.961299e-06, -1.8139262e-05, -0.00026052608, ...]   \n",
            "\n",
            "   sampling_rate         actor  gender  emotion  \n",
            "3          22050    Actor_Male    Male  Disgust  \n",
            "1          22050  Actor_Female  Female      Sad  \n",
            "2          22050    Actor_Male    Male    Angry  \n",
            "0          22050  Actor_Female  Female  Fearful  \n",
            "4          22050    Actor_Male    Male      Sad  \n",
            "6          22050    Actor_Male    Male  Neutral  \n",
            "5          22050    Actor_Male    Male      Sad  \n",
            "7          22050    Actor_Male    Male      Sad  \n"
          ]
        }
      ]
    },
    {
      "cell_type": "code",
      "source": [
        "import pandas as pd\n",
        "\n",
        "# Sample data\n",
        "data = {\n",
        "    'sampling_rate': [22050, 22050, 22050, 22050, 22050, 22050, 22050, 22050],\n",
        "    'actor': ['Actor_Male', 'Actor_Male', 'Actor_Male', 'Actor_Male',\n",
        "              'Actor_Female', 'Actor_Male', 'Actor_Female', 'Actor_Male'],\n",
        "    'gender': ['Male', 'Male', 'Male', 'Male', 'Female', 'Male', 'Female', 'Male'],\n",
        "    'emotion': ['Disgust', 'Sad', 'Neutral', 'Sad', 'Sad', 'Angry', 'Fearful', 'Sad']\n",
        "}\n",
        "\n",
        "df = pd.DataFrame(data)\n",
        "\n",
        "# Assign unique sampling rates\n",
        "unique_sampling_rates = [22050, 44100, 16000, 48000, 24000, 32000, 11025, 12000]\n",
        "df['sampling_rate'] = unique_sampling_rates\n",
        "\n",
        "print(df)\n"
      ],
      "metadata": {
        "colab": {
          "base_uri": "https://localhost:8080/"
        },
        "id": "CfwdAs9xJQi_",
        "outputId": "0da64fc5-9041-4bdd-9ab1-e3e72a3730dc"
      },
      "execution_count": null,
      "outputs": [
        {
          "output_type": "stream",
          "name": "stdout",
          "text": [
            "   sampling_rate         actor  gender  emotion\n",
            "0          22050    Actor_Male    Male  Disgust\n",
            "1          44100    Actor_Male    Male      Sad\n",
            "2          16000    Actor_Male    Male  Neutral\n",
            "3          48000    Actor_Male    Male      Sad\n",
            "4          24000  Actor_Female  Female      Sad\n",
            "5          32000    Actor_Male    Male    Angry\n",
            "6          11025  Actor_Female  Female  Fearful\n",
            "7          12000    Actor_Male    Male      Sad\n"
          ]
        }
      ]
    },
    {
      "cell_type": "code",
      "source": [
        "# LOOK AT DISTRIBUTION OF CLASSES\n",
        "audio_df.emotion.value_counts().plot(kind='bar')"
      ],
      "metadata": {
        "colab": {
          "base_uri": "https://localhost:8080/",
          "height": 504
        },
        "id": "A8iRh9SgIdXc",
        "outputId": "82c35fe9-9199-42de-c732-a1e95f87824b"
      },
      "execution_count": null,
      "outputs": [
        {
          "output_type": "execute_result",
          "data": {
            "text/plain": [
              "<Axes: xlabel='emotion'>"
            ]
          },
          "metadata": {},
          "execution_count": 24
        },
        {
          "output_type": "display_data",
          "data": {
            "text/plain": [
              "<Figure size 640x480 with 1 Axes>"
            ],
            "image/png": "[encoded data removed]"
          },
          "metadata": {}
        }
      ]
    },
    {
      "cell_type": "code",
      "source": [
        "!pip install resampy\n"
      ],
      "metadata": {
        "colab": {
          "base_uri": "https://localhost:8080/"
        },
        "id": "gsM9h26nKsKi",
        "outputId": "6ae7f01f-82de-4d92-8c26-b15eaad4f79e"
      },
      "execution_count": null,
      "outputs": [
        {
          "output_type": "stream",
          "name": "stdout",
          "text": [
            "Collecting resampy\n",
            "  Downloading resampy-0.4.3-py3-none-any.whl.metadata (3.0 kB)\n",
            "Requirement already satisfied: numpy>=1.17 in /usr/local/lib/python3.10/dist-packages (from resampy) (1.26.4)\n",
            "Requirement already satisfied: numba>=0.53 in /usr/local/lib/python3.10/dist-packages (from resampy) (0.60.0)\n",
            "Requirement already satisfied: llvmlite<0.44,>=0.43.0dev0 in /usr/local/lib/python3.10/dist-packages (from numba>=0.53->resampy) (0.43.0)\n",
            "Downloading resampy-0.4.3-py3-none-any.whl (3.1 MB)\n",
            "\u001b[2K   \u001b[90m━━━━━━━━━━━━━━━━━━━━━━━━━━━━━━━━━━━━━━━━\u001b[0m \u001b[32m3.1/3.1 MB\u001b[0m \u001b[31m23.7 MB/s\u001b[0m eta \u001b[36m0:00:00\u001b[0m\n",
            "\u001b[?25hInstalling collected packages: resampy\n",
            "Successfully installed resampy-0.4.3\n"
          ]
        }
      ]
    },
    {
      "cell_type": "code",
      "source": [
        "!pip uninstall resampy -y\n",
        "!pip install resampy\n"
      ],
      "metadata": {
        "colab": {
          "base_uri": "https://localhost:8080/"
        },
        "id": "tp8D3053LGB_",
        "outputId": "2a2e1bf5-aecc-47b8-bb63-a2a9ec7f0a06"
      },
      "execution_count": null,
      "outputs": [
        {
          "output_type": "stream",
          "name": "stdout",
          "text": [
            "Found existing installation: resampy 0.4.3\n",
            "Uninstalling resampy-0.4.3:\n",
            "  Successfully uninstalled resampy-0.4.3\n",
            "Collecting resampy\n",
            "  Using cached resampy-0.4.3-py3-none-any.whl.metadata (3.0 kB)\n",
            "Requirement already satisfied: numpy>=1.17 in /usr/local/lib/python3.10/dist-packages (from resampy) (1.26.4)\n",
            "Requirement already satisfied: numba>=0.53 in /usr/local/lib/python3.10/dist-packages (from resampy) (0.60.0)\n",
            "Requirement already satisfied: llvmlite<0.44,>=0.43.0dev0 in /usr/local/lib/python3.10/dist-packages (from numba>=0.53->resampy) (0.43.0)\n",
            "Using cached resampy-0.4.3-py3-none-any.whl (3.1 MB)\n",
            "Installing collected packages: resampy\n",
            "Successfully installed resampy-0.4.3\n"
          ]
        }
      ]
    },
    {
      "cell_type": "code",
      "source": [
        "import resampy\n",
        "print(\"Resampy installed successfully.\")\n"
      ],
      "metadata": {
        "colab": {
          "base_uri": "https://localhost:8080/"
        },
        "id": "UGUbebAjLMIf",
        "outputId": "8fd67c31-ba50-4a1f-b80a-dd470e3da480"
      },
      "execution_count": null,
      "outputs": [
        {
          "output_type": "stream",
          "name": "stdout",
          "text": [
            "Resampy installed successfully.\n"
          ]
        }
      ]
    },
    {
      "cell_type": "code",
      "source": [
        "!pip install --upgrade librosa\n",
        "!pip install --upgrade resampy\n"
      ],
      "metadata": {
        "colab": {
          "base_uri": "https://localhost:8080/"
        },
        "id": "rWpVPX2YLkAS",
        "outputId": "42c187f9-ea2b-4d3f-a9b8-cda4b239ebbd"
      },
      "execution_count": null,
      "outputs": [
        {
          "output_type": "stream",
          "name": "stdout",
          "text": [
            "Requirement already satisfied: librosa in /usr/local/lib/python3.10/dist-packages (0.10.2.post1)\n",
            "Requirement already satisfied: audioread>=2.1.9 in /usr/local/lib/python3.10/dist-packages (from librosa) (3.0.1)\n",
            "Requirement already satisfied: numpy!=1.22.0,!=1.22.1,!=1.22.2,>=1.20.3 in /usr/local/lib/python3.10/dist-packages (from librosa) (1.26.4)\n",
            "Requirement already satisfied: scipy>=1.2.0 in /usr/local/lib/python3.10/dist-packages (from librosa) (1.13.1)\n",
            "Requirement already satisfied: scikit-learn>=0.20.0 in /usr/local/lib/python3.10/dist-packages (from librosa) (1.5.2)\n",
            "Requirement already satisfied: joblib>=0.14 in /usr/local/lib/python3.10/dist-packages (from librosa) (1.4.2)\n",
            "Requirement already satisfied: decorator>=4.3.0 in /usr/local/lib/python3.10/dist-packages (from librosa) (4.4.2)\n",
            "Requirement already satisfied: numba>=0.51.0 in /usr/local/lib/python3.10/dist-packages (from librosa) (0.60.0)\n",
            "Requirement already satisfied: soundfile>=0.12.1 in /usr/local/lib/python3.10/dist-packages (from librosa) (0.12.1)\n",
            "Requirement already satisfied: pooch>=1.1 in /usr/local/lib/python3.10/dist-packages (from librosa) (1.8.2)\n",
            "Requirement already satisfied: soxr>=0.3.2 in /usr/local/lib/python3.10/dist-packages (from librosa) (0.5.0.post1)\n",
            "Requirement already satisfied: typing-extensions>=4.1.1 in /usr/local/lib/python3.10/dist-packages (from librosa) (4.12.2)\n",
            "Requirement already satisfied: lazy-loader>=0.1 in /usr/local/lib/python3.10/dist-packages (from librosa) (0.4)\n",
            "Requirement already satisfied: msgpack>=1.0 in /usr/local/lib/python3.10/dist-packages (from librosa) (1.1.0)\n",
            "Requirement already satisfied: packaging in /usr/local/lib/python3.10/dist-packages (from lazy-loader>=0.1->librosa) (24.1)\n",
            "Requirement already satisfied: llvmlite<0.44,>=0.43.0dev0 in /usr/local/lib/python3.10/dist-packages (from numba>=0.51.0->librosa) (0.43.0)\n",
            "Requirement already satisfied: platformdirs>=2.5.0 in /usr/local/lib/python3.10/dist-packages (from pooch>=1.1->librosa) (4.3.6)\n",
            "Requirement already satisfied: requests>=2.19.0 in /usr/local/lib/python3.10/dist-packages (from pooch>=1.1->librosa) (2.32.3)\n",
            "Requirement already satisfied: threadpoolctl>=3.1.0 in /usr/local/lib/python3.10/dist-packages (from scikit-learn>=0.20.0->librosa) (3.5.0)\n",
            "Requirement already satisfied: cffi>=1.0 in /usr/local/lib/python3.10/dist-packages (from soundfile>=0.12.1->librosa) (1.17.1)\n",
            "Requirement already satisfied: pycparser in /usr/local/lib/python3.10/dist-packages (from cffi>=1.0->soundfile>=0.12.1->librosa) (2.22)\n",
            "Requirement already satisfied: charset-normalizer<4,>=2 in /usr/local/lib/python3.10/dist-packages (from requests>=2.19.0->pooch>=1.1->librosa) (3.4.0)\n",
            "Requirement already satisfied: idna<4,>=2.5 in /usr/local/lib/python3.10/dist-packages (from requests>=2.19.0->pooch>=1.1->librosa) (3.10)\n",
            "Requirement already satisfied: urllib3<3,>=1.21.1 in /usr/local/lib/python3.10/dist-packages (from requests>=2.19.0->pooch>=1.1->librosa) (2.2.3)\n",
            "Requirement already satisfied: certifi>=2017.4.17 in /usr/local/lib/python3.10/dist-packages (from requests>=2.19.0->pooch>=1.1->librosa) (2024.8.30)\n",
            "Requirement already satisfied: resampy in /usr/local/lib/python3.10/dist-packages (0.4.3)\n",
            "Requirement already satisfied: numpy>=1.17 in /usr/local/lib/python3.10/dist-packages (from resampy) (1.26.4)\n",
            "Requirement already satisfied: numba>=0.53 in /usr/local/lib/python3.10/dist-packages (from resampy) (0.60.0)\n",
            "Requirement already satisfied: llvmlite<0.44,>=0.43.0dev0 in /usr/local/lib/python3.10/dist-packages (from numba>=0.53->resampy) (0.43.0)\n"
          ]
        }
      ]
    },
    {
      "cell_type": "code",
      "source": [
        "!pip install --upgrade librosa\n",
        "\n"
      ],
      "metadata": {
        "colab": {
          "base_uri": "https://localhost:8080/"
        },
        "id": "CNijEjycV1v-",
        "outputId": "0e967ed6-c743-4bb6-de95-068f8a5a5aa5"
      },
      "execution_count": null,
      "outputs": [
        {
          "output_type": "stream",
          "name": "stdout",
          "text": [
            "Requirement already satisfied: librosa in /usr/local/lib/python3.10/dist-packages (0.10.2.post1)\n",
            "Requirement already satisfied: audioread>=2.1.9 in /usr/local/lib/python3.10/dist-packages (from librosa) (3.0.1)\n",
            "Requirement already satisfied: numpy!=1.22.0,!=1.22.1,!=1.22.2,>=1.20.3 in /usr/local/lib/python3.10/dist-packages (from librosa) (1.26.4)\n",
            "Requirement already satisfied: scipy>=1.2.0 in /usr/local/lib/python3.10/dist-packages (from librosa) (1.13.1)\n",
            "Requirement already satisfied: scikit-learn>=0.20.0 in /usr/local/lib/python3.10/dist-packages (from librosa) (1.5.2)\n",
            "Requirement already satisfied: joblib>=0.14 in /usr/local/lib/python3.10/dist-packages (from librosa) (1.4.2)\n",
            "Requirement already satisfied: decorator>=4.3.0 in /usr/local/lib/python3.10/dist-packages (from librosa) (4.4.2)\n",
            "Requirement already satisfied: numba>=0.51.0 in /usr/local/lib/python3.10/dist-packages (from librosa) (0.60.0)\n",
            "Requirement already satisfied: soundfile>=0.12.1 in /usr/local/lib/python3.10/dist-packages (from librosa) (0.12.1)\n",
            "Requirement already satisfied: pooch>=1.1 in /usr/local/lib/python3.10/dist-packages (from librosa) (1.8.2)\n",
            "Requirement already satisfied: soxr>=0.3.2 in /usr/local/lib/python3.10/dist-packages (from librosa) (0.5.0.post1)\n",
            "Requirement already satisfied: typing-extensions>=4.1.1 in /usr/local/lib/python3.10/dist-packages (from librosa) (4.12.2)\n",
            "Requirement already satisfied: lazy-loader>=0.1 in /usr/local/lib/python3.10/dist-packages (from librosa) (0.4)\n",
            "Requirement already satisfied: msgpack>=1.0 in /usr/local/lib/python3.10/dist-packages (from librosa) (1.1.0)\n",
            "Requirement already satisfied: packaging in /usr/local/lib/python3.10/dist-packages (from lazy-loader>=0.1->librosa) (24.1)\n",
            "Requirement already satisfied: llvmlite<0.44,>=0.43.0dev0 in /usr/local/lib/python3.10/dist-packages (from numba>=0.51.0->librosa) (0.43.0)\n",
            "Requirement already satisfied: platformdirs>=2.5.0 in /usr/local/lib/python3.10/dist-packages (from pooch>=1.1->librosa) (4.3.6)\n",
            "Requirement already satisfied: requests>=2.19.0 in /usr/local/lib/python3.10/dist-packages (from pooch>=1.1->librosa) (2.32.3)\n",
            "Requirement already satisfied: threadpoolctl>=3.1.0 in /usr/local/lib/python3.10/dist-packages (from scikit-learn>=0.20.0->librosa) (3.5.0)\n",
            "Requirement already satisfied: cffi>=1.0 in /usr/local/lib/python3.10/dist-packages (from soundfile>=0.12.1->librosa) (1.17.1)\n",
            "Requirement already satisfied: pycparser in /usr/local/lib/python3.10/dist-packages (from cffi>=1.0->soundfile>=0.12.1->librosa) (2.22)\n",
            "Requirement already satisfied: charset-normalizer<4,>=2 in /usr/local/lib/python3.10/dist-packages (from requests>=2.19.0->pooch>=1.1->librosa) (3.4.0)\n",
            "Requirement already satisfied: idna<4,>=2.5 in /usr/local/lib/python3.10/dist-packages (from requests>=2.19.0->pooch>=1.1->librosa) (3.10)\n",
            "Requirement already satisfied: urllib3<3,>=1.21.1 in /usr/local/lib/python3.10/dist-packages (from requests>=2.19.0->pooch>=1.1->librosa) (2.2.3)\n",
            "Requirement already satisfied: certifi>=2017.4.17 in /usr/local/lib/python3.10/dist-packages (from requests>=2.19.0->pooch>=1.1->librosa) (2024.8.30)\n"
          ]
        }
      ]
    },
    {
      "cell_type": "code",
      "source": [
        "import librosa\n",
        "\n",
        "try:\n",
        "    # Test loading an audio file\n",
        "    X, sample_rate = librosa.load('/content/drive/MyDrive/archive/FemaleFearful.wav', sr=None)\n",
        "    print(f\"Loaded audio, shape: {X.shape}, sample rate: {sample_rate}\")\n",
        "except Exception as e:\n",
        "    print(f\"Error loading audio: {e}\")\n"
      ],
      "metadata": {
        "colab": {
          "base_uri": "https://localhost:8080/"
        },
        "id": "tOE9sayoWPIb",
        "outputId": "54b15dd0-ec20-4d7d-eaa6-896332ef4e67"
      },
      "execution_count": null,
      "outputs": [
        {
          "output_type": "stream",
          "name": "stdout",
          "text": [
            "Loaded audio, shape: (80195,), sample rate: 22050\n"
          ]
        }
      ]
    },
    {
      "cell_type": "code",
      "source": [
        "import soundfile as sf\n",
        "\n",
        "try:\n",
        "    data, sample_rate = sf.read('/content/drive/MyDrive/archive/FemaleFearful.wav')\n",
        "    print(f\"Loaded audio with soundfile, shape: {data.shape}, sample rate: {sample_rate}\")\n",
        "except Exception as e:\n",
        "    print(f\"Error loading audio with soundfile: {e}\")\n"
      ],
      "metadata": {
        "colab": {
          "base_uri": "https://localhost:8080/"
        },
        "id": "Y_K4n1eoWYBL",
        "outputId": "aa671852-1a0b-4a44-8f36-3dbae989b06d"
      },
      "execution_count": null,
      "outputs": [
        {
          "output_type": "stream",
          "name": "stdout",
          "text": [
            "Loaded audio with soundfile, shape: (80195,), sample rate: 22050\n"
          ]
        }
      ]
    },
    {
      "cell_type": "code",
      "source": [
        "import pandas as pd\n",
        "import numpy as np\n",
        "import librosa\n",
        "import os\n",
        "import soundfile as sf  # Import soundfile for loading audio\n",
        "\n",
        "# Load your audio DataFrame\n",
        "audio_df = pd.DataFrame({\n",
        "    'path': ['/content/drive/MyDrive/archive/FemaleFearful.wav',\n",
        "             '/content/drive/MyDrive/archive/MaleSadNoise.wav']\n",
        "})\n",
        "\n",
        "# Initialize an empty DataFrame to hold the mel spectrograms\n",
        "df = pd.DataFrame(columns=['mel_spectrogram'])\n",
        "\n",
        "counter = 0\n",
        "\n",
        "# Process each audio file\n",
        "for index, path in enumerate(audio_df['path']):\n",
        "    if not os.path.isfile(path):\n",
        "        print(f\"File does not exist: {path}\")\n",
        "        continue\n",
        "\n",
        "    try:\n",
        "        # Load audio file using soundfile\n",
        "        print(f\"Loading file: {path}\")\n",
        "        X, sample_rate = sf.read(path)\n",
        "\n",
        "        # Check if the audio loaded successfully\n",
        "        print(f\"Loaded audio, shape: {X.shape}, sample rate: {sample_rate}\")\n",
        "\n",
        "        # Compute the mel-scaled spectrogram using librosa\n",
        "        spectrogram = librosa.feature.melspectrogram(y=X, sr=sample_rate, n_mels=128, fmax=8000)\n",
        "\n",
        "        # Convert the power spectrogram to decibel (dB) scale\n",
        "        db_spec = librosa.power_to_db(spectrogram)\n",
        "\n",
        "        # Compute the mean of the spectrogram over time\n",
        "        log_spectrogram = np.mean(db_spec, axis=0)\n",
        "\n",
        "        # Append the processed mel spectrogram to the DataFrame\n",
        "        df.loc[counter] = [log_spectrogram]\n",
        "        counter += 1\n",
        "\n",
        "    except Exception as e:\n",
        "        print(f\"Error processing {path}: {e}\")\n",
        "\n",
        "# Output the size and first few entries of the resulting DataFrame\n",
        "print(f\"Number of processed files: {len(df)}\")\n",
        "print(df.head())\n"
      ],
      "metadata": {
        "colab": {
          "base_uri": "https://localhost:8080/"
        },
        "id": "l9OB1djeLNRf",
        "outputId": "08be917d-7f1a-43f3-caf2-d59ee5ec1799"
      },
      "execution_count": null,
      "outputs": [
        {
          "output_type": "stream",
          "name": "stdout",
          "text": [
            "Loading file: /content/drive/MyDrive/archive/FemaleFearful.wav\n",
            "Loaded audio, shape: (80195,), sample rate: 22050\n",
            "Loading file: /content/drive/MyDrive/archive/MaleSadNoise.wav\n",
            "Loaded audio, shape: (85346,), sample rate: 22050\n",
            "Number of processed files: 2\n",
            "                                                                                                                                                                                                                                                                                                                                                                                                                                                                                                                                                                                                                                                                                                                                                                                                                                                                                                                                                                                                                                                                                                                                                                                                                                                                                                                                                                                                                                                                                                                                                                                                                                                                                                                                                                                                                                                                                                                                                                                                                                                                                        mel_spectrogram\n",
            "0              [-71.08790443401352, -67.56644170561098, -67.3834763338619, -66.99466776236686, -66.8876849875305, -66.64425395181988, -65.43406667452052, -64.71751183042713, -64.47221008475063, -65.24358481434355, -67.10800660129986, -68.29709520768348, -69.89822935458018, -71.56394038258607, -75.13799050129427, -77.05371428080242, -76.84778880530712, -76.75210651280393, -76.53899203398454, -75.96067292562641, -76.08007444528386, -76.01220861663433, -76.60542480226621, -77.90199466292532, -77.2504288052727, -77.22437176268274, -78.20060355024273, -78.25499280736295, -77.53401105356747, -78.85317412798078, -79.06907878321063, -78.78327351266846, -78.96827124212369, -79.0550693256126, -79.12365602526033, -79.25940868785746, -79.2841000021159, -79.3623548315973, -79.3623548315973, -78.94098093549334, -74.71500661441951, -71.37566192425093, -52.5212186693192, -43.81429228492079, -41.68336424971149, -40.87306972865412, -40.890866385501646, -41.14909055090898, -41.452756085097015, -43.24464736110816, -42.958557335713195, -44.356048557363636, -48.525456140416615, -49.48380271026843, -49.63244457878415, -48.87153768323501, -42.36195937733503, -39.78564241616641, -39.61099364804588, -41.05596298455142, -43.58054666288022, -44.274530482794674, -44.2549160845891, -49.148350756820946, -53.55958528822269, -44.400207519931044, -40.22672588791868, -39.03522039258889, -39.3231359429864, -37.916231152628136, -37.081977240930435, -35.88926659068674, -34.68151645597858, -35.58174028967068, -37.50808304745632, -42.01913538019855, -43.35109297250285, -38.24350560543884, -38.150215489946326, -40.29824939132565, -42.254470446201395, -45.62429935926755, -48.89889072682252, -52.12723518929228, -51.28040319158221, -48.77518752634039, -48.81564417442223, -45.32026748455836, -39.571826593280996, -37.39462542292023, -36.76646814726136, -38.43402430234539, -37.60869834867336, -35.6869165291065, -34.60496204075387, -34.76897992137259, -36.52782896158311, -39.784579640724104, -43.79156281165634, -41.85452978758661, ...]\n",
            "1  [-57.79533386283374, -54.70286828227337, -54.59033165585414, -54.15500099993067, -53.80719245796395, -53.002871874503874, -53.389868540226885, -53.81403498104718, -54.12617808092035, -54.57856355994256, -54.71404130320763, -54.436801869909935, -53.98647177371848, -53.90126438557462, -54.47412771440956, -54.466746617439505, -54.56534471065311, -54.32793903217765, -54.4740541455909, -54.1898151731672, -54.10761686463145, -54.05134688477559, -54.006573551679125, -54.38403082780125, -54.87868686497664, -54.39678413015361, -54.41220823386968, -54.540991152450324, -54.014507419798186, -51.21030041817234, -45.428011742040134, -41.80447574401054, -40.466891663380025, -39.54365045409267, -38.99900310383296, -40.05284297298079, -43.53767174119238, -47.74963780054375, -50.96454733028948, -52.699203136413686, -53.08591432015934, -53.23448148928492, -50.50999862244358, -44.89054508364645, -36.21838981207273, -33.157113274621096, -35.30518737522453, -41.07612663471306, -43.7353081611526, -36.51094009803869, -34.16197224493776, -36.14616381142687, -39.368463235435655, -41.791560385987125, -44.512395020263874, -46.51928933109493, -44.70770772788823, -43.77236879474457, -43.55937541781579, -42.28886835787634, -39.69921074548522, -38.77738635893133, -38.4809882852758, -40.4979432083014, -42.709280003310475, -42.52225388138739, -43.07630113124809, -44.15168944765827, -44.720567120718684, -44.49008669915124, -45.90218688045626, -45.75920040268249, -41.78470766099378, -39.762744769068846, -42.00769643915364, -46.74505994549465, -46.58311910997711, -40.1808872384772, -38.15178754041546, -40.462270920325686, -44.5542544212981, -46.918424569347444, -47.54913123210429, -47.85223537498845, -48.524068200687445, -49.35382341407132, -49.98759967183373, -46.20769140631155, -40.57830901883457, -35.54201432540594, -35.45120054526203, -41.35283892944195, -44.46291938274022, -42.13785199749359, -42.28335579007896, -46.219553694974024, -49.93334492710263, -50.910630722550685, -49.04773444840124, -47.11848487997304, ...]\n"
          ]
        }
      ]
    },
    {
      "cell_type": "code",
      "source": [
        "from google.colab import drive\n",
        "drive.mount('/content/drive')\n"
      ],
      "metadata": {
        "colab": {
          "base_uri": "https://localhost:8080/"
        },
        "id": "HC83U2WTRrvy",
        "outputId": "adedbb6a-6e23-402b-f232-2dc2961413a7"
      },
      "execution_count": null,
      "outputs": [
        {
          "output_type": "stream",
          "name": "stdout",
          "text": [
            "Drive already mounted at /content/drive; to attempt to forcibly remount, call drive.mount(\"/content/drive\", force_remount=True).\n"
          ]
        }
      ]
    },
    {
      "cell_type": "code",
      "source": [
        "import os\n",
        "audio_dir = '/content/drive/MyDrive/archive/'\n",
        "print(os.listdir(audio_dir))  # This will list all files in the directory\n"
      ],
      "metadata": {
        "colab": {
          "base_uri": "https://localhost:8080/"
        },
        "id": "F4ufgEztR7SL",
        "outputId": "333842eb-ea8d-4c00-ae2f-8df97d909e1a"
      },
      "execution_count": null,
      "outputs": [
        {
          "output_type": "stream",
          "name": "stdout",
          "text": [
            "['FemaleFearful.wav', 'FemaleSad.wav', 'MaleAngry.wav', 'MaleDisgust.wav', 'MaleSadOriginal.wav', 'MaleSadSpeedPitch.wav', 'MaleNeutral.wav', 'MaleSadNoise.wav']\n"
          ]
        }
      ]
    },
    {
      "cell_type": "code",
      "source": [
        "audio_df = pd.DataFrame({\n",
        "    'path': ['/content/drive/MyDrive/archive/FemaleFearful.wav',\n",
        "             '/content/drive/MyDrive/archive/MaleSadNoise.wav'],\n",
        "    'gender': ['female', 'male'],\n",
        "    'emotion': ['fear', 'sad'],\n",
        "    'actor': [1, 2]\n",
        "})"
      ],
      "metadata": {
        "id": "54YGC4CZR_ei"
      },
      "execution_count": null,
      "outputs": []
    },
    {
      "cell_type": "code",
      "source": [
        "# Initialize an empty DataFrame to hold the mel spectrograms\n",
        "df = pd.DataFrame(columns=['mel_spectrogram'])\n",
        "\n",
        "counter = 0"
      ],
      "metadata": {
        "id": "2ITPSSMpX0T4"
      },
      "execution_count": null,
      "outputs": []
    },
    {
      "cell_type": "code",
      "source": [
        "# Process each audio file\n",
        "for index, path in enumerate(audio_df['path']):\n",
        "    if not os.path.isfile(path):\n",
        "        print(f\"File does not exist: {path}\")\n",
        "        continue\n",
        "\n",
        "    try:\n",
        "        # Load audio file using soundfile\n",
        "        print(f\"Loading file: {path}\")\n",
        "        X, sample_rate = sf.read(path)\n",
        "\n",
        "        # Check if the audio loaded successfully\n",
        "        print(f\"Loaded audio, shape: {X.shape}, sample rate: {sample_rate}\")\n",
        "\n",
        "        # Compute the mel-scaled spectrogram using librosa\n",
        "        spectrogram = librosa.feature.melspectrogram(y=X, sr=sample_rate, n_mels=128, fmax=8000)\n",
        "\n",
        "        # Convert the power spectrogram to decibel (dB) scale\n",
        "        db_spec = librosa.power_to_db(spectrogram)\n",
        "\n",
        "        # Compute the mean of the spectrogram over time\n",
        "        log_spectrogram = np.mean(db_spec, axis=0)\n",
        "\n",
        "        # Append the processed mel spectrogram to the DataFrame\n",
        "        df.loc[counter] = [log_spectrogram]\n",
        "        counter += 1\n",
        "\n",
        "    except Exception as e:\n",
        "        print(f\"Error processing {path}: {e}\")\n"
      ],
      "metadata": {
        "colab": {
          "base_uri": "https://localhost:8080/"
        },
        "id": "ecc1G2F7X7ZL",
        "outputId": "f098a69a-504d-452f-e581-6cdff2708cbe"
      },
      "execution_count": null,
      "outputs": [
        {
          "output_type": "stream",
          "name": "stdout",
          "text": [
            "Loading file: /content/drive/MyDrive/archive/FemaleFearful.wav\n",
            "Loaded audio, shape: (80195,), sample rate: 22050\n",
            "Loading file: /content/drive/MyDrive/archive/MaleSadNoise.wav\n",
            "Loaded audio, shape: (85346,), sample rate: 22050\n"
          ]
        }
      ]
    },
    {
      "cell_type": "code",
      "source": [
        "# Combine mel spectrograms with the original DataFrame\n",
        "df_combined = pd.concat([audio_df, pd.DataFrame(df['mel_spectrogram'].values.tolist())], axis=1)\n"
      ],
      "metadata": {
        "id": "nTrXLRlcX2gZ"
      },
      "execution_count": null,
      "outputs": []
    },
    {
      "cell_type": "code",
      "source": [
        "\n",
        "# Fill NaN values with 0\n",
        "df_combined = df_combined.fillna(0)"
      ],
      "metadata": {
        "id": "hdUNg578YDn-"
      },
      "execution_count": null,
      "outputs": []
    },
    {
      "cell_type": "code",
      "source": [
        "# TURN ARRAY INTO LIST AND JOIN WITH AUDIO_DF TO GET CORRESPONDING EMOTION LABELS\n",
        "df_combined = pd.concat([audio_df,pd.DataFrame(df['mel_spectrogram'].values.tolist())],axis=1)\n",
        "df_combined = df_combined.fillna(0)"
      ],
      "metadata": {
        "id": "L6HiQ9zfSpf2"
      },
      "execution_count": null,
      "outputs": []
    },
    {
      "cell_type": "code",
      "source": [
        "# DROP PATH COLUMN FOR MODELING\n",
        "df_combined.drop(columns='path',inplace=True)"
      ],
      "metadata": {
        "id": "Ct9PfUw5SvvD"
      },
      "execution_count": null,
      "outputs": []
    },
    {
      "cell_type": "code",
      "source": [
        "# CHECK TOP 5 ROWS\n",
        "df_combined.head()"
      ],
      "metadata": {
        "colab": {
          "base_uri": "https://localhost:8080/",
          "height": 161
        },
        "id": "ziv3K_GSS0Lh",
        "outputId": "24040fef-5d74-4113-c6dc-645511819afb"
      },
      "execution_count": null,
      "outputs": [
        {
          "output_type": "execute_result",
          "data": {
            "text/plain": [
              "   gender emotion  actor          0          1          2          3  \\\n",
              "0  female    fear      1 -71.087904 -67.566442 -67.383476 -66.994668   \n",
              "1    male     sad      2 -57.795334 -54.702868 -54.590332 -54.155001   \n",
              "\n",
              "           4          5          6  ...        157        158        159  \\\n",
              "0 -66.887685 -66.644254 -65.434067  ...   0.000000   0.000000   0.000000   \n",
              "1 -53.807192 -53.002872 -53.389869  ... -54.134072 -54.855255 -54.758676   \n",
              "\n",
              "         160        161        162        163        164        165        166  \n",
              "0   0.000000   0.000000   0.000000   0.000000   0.000000   0.000000   0.000000  \n",
              "1 -54.800606 -55.105935 -55.068035 -54.846056 -54.821311 -54.417191 -54.697397  \n",
              "\n",
              "[2 rows x 170 columns]"
            ],
            "text/html": [
              "\n",
              "  <div id=\"df-754dd984-03ac-4809-8328-3546ebb283b2\" class=\"colab-df-container\">\n",
              "    <div>\n",
              "<style scoped>\n",
              "    .dataframe tbody tr th:only-of-type {\n",
              "        vertical-align: middle;\n",
              "    }\n",
              "\n",
              "    .dataframe tbody tr th {\n",
              "        vertical-align: top;\n",
              "    }\n",
              "\n",
              "    .dataframe thead th {\n",
              "        text-align: right;\n",
              "    }\n",
              "</style>\n",
              "<table border=\"1\" class=\"dataframe\">\n",
              "  <thead>\n",
              "    <tr style=\"text-align: right;\">\n",
              "      <th></th>\n",
              "      <th>gender</th>\n",
              "      <th>emotion</th>\n",
              "      <th>actor</th>\n",
              "      <th>0</th>\n",
              "      <th>1</th>\n",
              "      <th>2</th>\n",
              "      <th>3</th>\n",
              "      <th>4</th>\n",
              "      <th>5</th>\n",
              "      <th>6</th>\n",
              "      <th>...</th>\n",
              "      <th>157</th>\n",
              "      <th>158</th>\n",
              "      <th>159</th>\n",
              "      <th>160</th>\n",
              "      <th>161</th>\n",
              "      <th>162</th>\n",
              "      <th>163</th>\n",
              "      <th>164</th>\n",
              "      <th>165</th>\n",
              "      <th>166</th>\n",
              "    </tr>\n",
              "  </thead>\n",
              "  <tbody>\n",
              "    <tr>\n",
              "      <th>0</th>\n",
              "      <td>female</td>\n",
              "      <td>fear</td>\n",
              "      <td>1</td>\n",
              "      <td>-71.087904</td>\n",
              "      <td>-67.566442</td>\n",
              "      <td>-67.383476</td>\n",
              "      <td>-66.994668</td>\n",
              "      <td>-66.887685</td>\n",
              "      <td>-66.644254</td>\n",
              "      <td>-65.434067</td>\n",
              "      <td>...</td>\n",
              "      <td>0.000000</td>\n",
              "      <td>0.000000</td>\n",
              "      <td>0.000000</td>\n",
              "      <td>0.000000</td>\n",
              "      <td>0.000000</td>\n",
              "      <td>0.000000</td>\n",
              "      <td>0.000000</td>\n",
              "      <td>0.000000</td>\n",
              "      <td>0.000000</td>\n",
              "      <td>0.000000</td>\n",
              "    </tr>\n",
              "    <tr>\n",
              "      <th>1</th>\n",
              "      <td>male</td>\n",
              "      <td>sad</td>\n",
              "      <td>2</td>\n",
              "      <td>-57.795334</td>\n",
              "      <td>-54.702868</td>\n",
              "      <td>-54.590332</td>\n",
              "      <td>-54.155001</td>\n",
              "      <td>-53.807192</td>\n",
              "      <td>-53.002872</td>\n",
              "      <td>-53.389869</td>\n",
              "      <td>...</td>\n",
              "      <td>-54.134072</td>\n",
              "      <td>-54.855255</td>\n",
              "      <td>-54.758676</td>\n",
              "      <td>-54.800606</td>\n",
              "      <td>-55.105935</td>\n",
              "      <td>-55.068035</td>\n",
              "      <td>-54.846056</td>\n",
              "      <td>-54.821311</td>\n",
              "      <td>-54.417191</td>\n",
              "      <td>-54.697397</td>\n",
              "    </tr>\n",
              "  </tbody>\n",
              "</table>\n",
              "<p>2 rows × 170 columns</p>\n",
              "</div>\n",
              "    <div class=\"colab-df-buttons\">\n",
              "\n",
              "  <div class=\"colab-df-container\">\n",
              "    <button class=\"colab-df-convert\" onclick=\"convertToInteractive('df-754dd984-03ac-4809-8328-3546ebb283b2')\"\n",
              "            title=\"Convert this dataframe to an interactive table.\"\n",
              "            style=\"display:none;\">\n",
              "\n",
              "  <svg xmlns=\"http://www.w3.org/2000/svg\" height=\"24px\" viewBox=\"0 -960 960 960\">\n",
              "    <path d=\"M120-120v-720h720v720H120Zm60-500h600v-160H180v160Zm220 220h160v-160H400v160Zm0 220h160v-160H400v160ZM180-400h160v-160H180v160Zm440 0h160v-160H620v160ZM180-180h160v-160H180v160Zm440 0h160v-160H620v160Z\"/>\n",
              "  </svg>\n",
              "    </button>\n",
              "\n",
              "  <style>\n",
              "    .colab-df-container {\n",
              "      display:flex;\n",
              "      gap: 12px;\n",
              "    }\n",
              "\n",
              "    .colab-df-convert {\n",
              "      background-color: #E8F0FE;\n",
              "      border: none;\n",
              "      border-radius: 50%;\n",
              "      cursor: pointer;\n",
              "      display: none;\n",
              "      fill: #1967D2;\n",
              "      height: 32px;\n",
              "      padding: 0 0 0 0;\n",
              "      width: 32px;\n",
              "    }\n",
              "\n",
              "    .colab-df-convert:hover {\n",
              "      background-color: #E2EBFA;\n",
              "      box-shadow: 0px 1px 2px rgba(60, 64, 67, 0.3), 0px 1px 3px 1px rgba(60, 64, 67, 0.15);\n",
              "      fill: #174EA6;\n",
              "    }\n",
              "\n",
              "    .colab-df-buttons div {\n",
              "      margin-bottom: 4px;\n",
              "    }\n",
              "\n",
              "    [theme=dark] .colab-df-convert {\n",
              "      background-color: #3B4455;\n",
              "      fill: #D2E3FC;\n",
              "    }\n",
              "\n",
              "    [theme=dark] .colab-df-convert:hover {\n",
              "      background-color: #434B5C;\n",
              "      box-shadow: 0px 1px 3px 1px rgba(0, 0, 0, 0.15);\n",
              "      filter: drop-shadow(0px 1px 2px rgba(0, 0, 0, 0.3));\n",
              "      fill: #FFFFFF;\n",
              "    }\n",
              "  </style>\n",
              "\n",
              "    <script>\n",
              "      const buttonEl =\n",
              "        document.querySelector('#df-754dd984-03ac-4809-8328-3546ebb283b2 button.colab-df-convert');\n",
              "      buttonEl.style.display =\n",
              "        google.colab.kernel.accessAllowed ? 'block' : 'none';\n",
              "\n",
              "      async function convertToInteractive(key) {\n",
              "        const element = document.querySelector('#df-754dd984-03ac-4809-8328-3546ebb283b2');\n",
              "        const dataTable =\n",
              "          await google.colab.kernel.invokeFunction('convertToInteractive',\n",
              "                                                    [key], {});\n",
              "        if (!dataTable) return;\n",
              "\n",
              "        const docLinkHtml = 'Like what you see? Visit the ' +\n",
              "          '<a target=\"_blank\" href=https://colab.research.google.com/notebooks/data_table.ipynb>data table notebook</a>'\n",
              "          + ' to learn more about interactive tables.';\n",
              "        element.innerHTML = '';\n",
              "        dataTable['output_type'] = 'display_data';\n",
              "        await google.colab.output.renderOutput(dataTable, element);\n",
              "        const docLink = document.createElement('div');\n",
              "        docLink.innerHTML = docLinkHtml;\n",
              "        element.appendChild(docLink);\n",
              "      }\n",
              "    </script>\n",
              "  </div>\n",
              "\n",
              "\n",
              "<div id=\"df-fc9ffa5c-b2bd-4aa3-8b1e-871f69c9a5df\">\n",
              "  <button class=\"colab-df-quickchart\" onclick=\"quickchart('df-fc9ffa5c-b2bd-4aa3-8b1e-871f69c9a5df')\"\n",
              "            title=\"Suggest charts\"\n",
              "            style=\"display:none;\">\n",
              "\n",
              "<svg xmlns=\"http://www.w3.org/2000/svg\" height=\"24px\"viewBox=\"0 0 24 24\"\n",
              "     width=\"24px\">\n",
              "    <g>\n",
              "        <path d=\"M19 3H5c-1.1 0-2 .9-2 2v14c0 1.1.9 2 2 2h14c1.1 0 2-.9 2-2V5c0-1.1-.9-2-2-2zM9 17H7v-7h2v7zm4 0h-2V7h2v10zm4 0h-2v-4h2v4z\"/>\n",
              "    </g>\n",
              "</svg>\n",
              "  </button>\n",
              "\n",
              "<style>\n",
              "  .colab-df-quickchart {\n",
              "      --bg-color: #E8F0FE;\n",
              "      --fill-color: #1967D2;\n",
              "      --hover-bg-color: #E2EBFA;\n",
              "      --hover-fill-color: #174EA6;\n",
              "      --disabled-fill-color: #AAA;\n",
              "      --disabled-bg-color: #DDD;\n",
              "  }\n",
              "\n",
              "  [theme=dark] .colab-df-quickchart {\n",
              "      --bg-color: #3B4455;\n",
              "      --fill-color: #D2E3FC;\n",
              "      --hover-bg-color: #434B5C;\n",
              "      --hover-fill-color: #FFFFFF;\n",
              "      --disabled-bg-color: #3B4455;\n",
              "      --disabled-fill-color: #666;\n",
              "  }\n",
              "\n",
              "  .colab-df-quickchart {\n",
              "    background-color: var(--bg-color);\n",
              "    border: none;\n",
              "    border-radius: 50%;\n",
              "    cursor: pointer;\n",
              "    display: none;\n",
              "    fill: var(--fill-color);\n",
              "    height: 32px;\n",
              "    padding: 0;\n",
              "    width: 32px;\n",
              "  }\n",
              "\n",
              "  .colab-df-quickchart:hover {\n",
              "    background-color: var(--hover-bg-color);\n",
              "    box-shadow: 0 1px 2px rgba(60, 64, 67, 0.3), 0 1px 3px 1px rgba(60, 64, 67, 0.15);\n",
              "    fill: var(--button-hover-fill-color);\n",
              "  }\n",
              "\n",
              "  .colab-df-quickchart-complete:disabled,\n",
              "  .colab-df-quickchart-complete:disabled:hover {\n",
              "    background-color: var(--disabled-bg-color);\n",
              "    fill: var(--disabled-fill-color);\n",
              "    box-shadow: none;\n",
              "  }\n",
              "\n",
              "  .colab-df-spinner {\n",
              "    border: 2px solid var(--fill-color);\n",
              "    border-color: transparent;\n",
              "    border-bottom-color: var(--fill-color);\n",
              "    animation:\n",
              "      spin 1s steps(1) infinite;\n",
              "  }\n",
              "\n",
              "  @keyframes spin {\n",
              "    0% {\n",
              "      border-color: transparent;\n",
              "      border-bottom-color: var(--fill-color);\n",
              "      border-left-color: var(--fill-color);\n",
              "    }\n",
              "    20% {\n",
              "      border-color: transparent;\n",
              "      border-left-color: var(--fill-color);\n",
              "      border-top-color: var(--fill-color);\n",
              "    }\n",
              "    30% {\n",
              "      border-color: transparent;\n",
              "      border-left-color: var(--fill-color);\n",
              "      border-top-color: var(--fill-color);\n",
              "      border-right-color: var(--fill-color);\n",
              "    }\n",
              "    40% {\n",
              "      border-color: transparent;\n",
              "      border-right-color: var(--fill-color);\n",
              "      border-top-color: var(--fill-color);\n",
              "    }\n",
              "    60% {\n",
              "      border-color: transparent;\n",
              "      border-right-color: var(--fill-color);\n",
              "    }\n",
              "    80% {\n",
              "      border-color: transparent;\n",
              "      border-right-color: var(--fill-color);\n",
              "      border-bottom-color: var(--fill-color);\n",
              "    }\n",
              "    90% {\n",
              "      border-color: transparent;\n",
              "      border-bottom-color: var(--fill-color);\n",
              "    }\n",
              "  }\n",
              "</style>\n",
              "\n",
              "  <script>\n",
              "    async function quickchart(key) {\n",
              "      const quickchartButtonEl =\n",
              "        document.querySelector('#' + key + ' button');\n",
              "      quickchartButtonEl.disabled = true;  // To prevent multiple clicks.\n",
              "      quickchartButtonEl.classList.add('colab-df-spinner');\n",
              "      try {\n",
              "        const charts = await google.colab.kernel.invokeFunction(\n",
              "            'suggestCharts', [key], {});\n",
              "      } catch (error) {\n",
              "        console.error('Error during call to suggestCharts:', error);\n",
              "      }\n",
              "      quickchartButtonEl.classList.remove('colab-df-spinner');\n",
              "      quickchartButtonEl.classList.add('colab-df-quickchart-complete');\n",
              "    }\n",
              "    (() => {\n",
              "      let quickchartButtonEl =\n",
              "        document.querySelector('#df-fc9ffa5c-b2bd-4aa3-8b1e-871f69c9a5df button');\n",
              "      quickchartButtonEl.style.display =\n",
              "        google.colab.kernel.accessAllowed ? 'block' : 'none';\n",
              "    })();\n",
              "  </script>\n",
              "</div>\n",
              "\n",
              "    </div>\n",
              "  </div>\n"
            ],
            "application/vnd.google.colaboratory.intrinsic+json": {
              "type": "dataframe",
              "variable_name": "df_combined"
            }
          },
          "metadata": {},
          "execution_count": 73
        }
      ]
    },
    {
      "cell_type": "code",
      "source": [
        "import pandas as pd\n",
        "import numpy as np\n",
        "import librosa\n",
        "import os\n",
        "import soundfile as sf\n",
        "from sklearn.model_selection import train_test_split\n",
        "\n",
        "# Load your audio DataFrame with corresponding labels (modify as necessary)\n",
        "audio_df = pd.DataFrame({\n",
        "    'path': ['/content/drive/MyDrive/archive/FemaleFearful.wav',\n",
        "             '/content/drive/MyDrive/archive/MaleSadNoise.wav'],\n",
        "    'gender': ['female', 'male'],\n",
        "    'emotion': ['fear', 'sad'],\n",
        "    'actor': [1, 2]\n",
        "})\n",
        "\n",
        "# Initialize an empty DataFrame to hold the mel spectrograms\n",
        "df = pd.DataFrame(columns=['mel_spectrogram'])\n",
        "\n",
        "counter = 0\n",
        "\n",
        "# Process each audio file\n",
        "for index, path in enumerate(audio_df['path']):\n",
        "    if not os.path.isfile(path):\n",
        "        print(f\"File does not exist: {path}\")\n",
        "        continue\n",
        "\n",
        "    try:\n",
        "        # Load audio file using soundfile\n",
        "        print(f\"Loading file: {path}\")\n",
        "        X, sample_rate = sf.read(path)\n",
        "\n",
        "        # Check if the audio loaded successfully\n",
        "        print(f\"Loaded audio, shape: {X.shape}, sample rate: {sample_rate}\")\n",
        "\n",
        "        # Compute the mel-scaled spectrogram using librosa\n",
        "        spectrogram = librosa.feature.melspectrogram(y=X, sr=sample_rate, n_mels=128, fmax=8000)\n",
        "\n",
        "        # Convert the power spectrogram to decibel (dB) scale\n",
        "        db_spec = librosa.power_to_db(spectrogram)\n",
        "\n",
        "        # Compute the mean of the spectrogram over time\n",
        "        log_spectrogram = np.mean(db_spec, axis=0)\n",
        "\n",
        "        # Append the processed mel spectrogram to the DataFrame\n",
        "        df.loc[counter] = [log_spectrogram]\n",
        "        counter += 1\n",
        "\n",
        "    except Exception as e:\n",
        "        print(f\"Error processing {path}: {e}\")\n",
        "\n",
        "# Combine mel spectrograms with the original DataFrame\n",
        "df_combined = pd.concat([audio_df, pd.DataFrame(df['mel_spectrogram'].values.tolist())], axis=1)\n",
        "\n",
        "# Fill NaN values with 0\n",
        "df_combined = df_combined.fillna(0)\n",
        "\n",
        "# Drop the 'path' column for modeling\n",
        "df_combined.drop(columns='path', inplace=True)\n",
        "\n",
        "# Check class distribution\n",
        "print(df_combined.groupby(['emotion', 'gender', 'actor']).size())\n",
        "\n",
        "# Remove entries with unique combinations of emotion, gender, and actor\n",
        "df_combined = df_combined.groupby(['emotion', 'gender', 'actor']).filter(lambda x: len(x) > 1)\n",
        "\n",
        "# Train-test split data after filtering\n",
        "#train, test = train_test_split(df_combined, test_size=0.2, random_state=0,\n",
        "                             #  stratify=df_combined[['emotion', 'gender', 'actor']])\n",
        "\n",
        "# Output the sizes of the train and test sets\n",
        "#print(f\"Train set size: {len(train)}\")\n",
        "#print(f\"Test set size: {len(test)}\")\n"
      ],
      "metadata": {
        "colab": {
          "base_uri": "https://localhost:8080/"
        },
        "id": "noQcsAKMYSrv",
        "outputId": "9c407d23-e949-4d67-c142-83dc4efc8377"
      },
      "execution_count": null,
      "outputs": [
        {
          "output_type": "stream",
          "name": "stdout",
          "text": [
            "Loading file: /content/drive/MyDrive/archive/FemaleFearful.wav\n",
            "Loaded audio, shape: (80195,), sample rate: 22050\n",
            "Loading file: /content/drive/MyDrive/archive/MaleSadNoise.wav\n",
            "Loaded audio, shape: (85346,), sample rate: 22050\n",
            "emotion  gender  actor\n",
            "fear     female  1        1\n",
            "sad      male    2        1\n",
            "dtype: int64\n"
          ]
        }
      ]
    },
    {
      "cell_type": "code",
      "source": [
        "import pandas as pd\n",
        "import numpy as np\n",
        "import librosa\n",
        "import os\n",
        "from sklearn.model_selection import train_test_split\n",
        "\n",
        "# Load your audio DataFrame with matched lengths\n",
        "audio_df = pd.DataFrame({\n",
        "    'path': [\n",
        "        '/content/drive/MyDrive/archive/FemaleFearful.wav',\n",
        "        '/content/drive/MyDrive/archive/MaleSadNoise.wav',\n",
        "        '/content/drive/MyDrive/archive/MaleAngry.wav',\n",
        "        '/content/drive/MyDrive/archive/MaleDisgust.wav',\n",
        "        '/content/drive/MyDrive/archive/MaleNeutral.wav'\n",
        "    ],\n",
        "    'emotion': ['fear', 'sad', 'Angry', 'Disgust', 'Neutral'],  # Adjusted to 5 emotions\n",
        "    'gender': ['female', 'male', 'male', 'male', 'male'],  # Adjusted to match paths\n",
        "    'actor': [1, 2, 3, 4, 5]  # Adjusted to match paths\n",
        "})\n",
        "\n",
        "# Initialize an empty DataFrame to hold the mel spectrograms\n",
        "df = pd.DataFrame(columns=['mel_spectrogram'])\n",
        "\n",
        "counter = 0\n",
        "\n",
        "# Iterate over all audio files and extract features\n",
        "for index, path in enumerate(audio_df['path']):\n",
        "    if not os.path.isfile(path):\n",
        "        print(f\"File does not exist: {path}\")\n",
        "        continue\n",
        "\n",
        "    try:\n",
        "        # Load audio file\n",
        "        print(f\"Loading file: {path}\")\n",
        "        X, sample_rate = librosa.load(path, res_type='kaiser_fast', duration=3, sr=44100, offset=0.5)\n",
        "\n",
        "        # Check if the audio was loaded successfully\n",
        "        print(f\"Loaded audio, shape: {X.shape}, sample rate: {sample_rate}\")\n",
        "\n",
        "        # Compute the mel-scaled spectrogram\n",
        "        spectrogram = librosa.feature.melspectrogram(y=X, sr=sample_rate, n_mels=128, fmax=8000)\n",
        "        db_spec = librosa.power_to_db(spectrogram)\n",
        "\n",
        "        # Temporally average spectrogram\n",
        "        log_spectrogram = np.mean(db_spec, axis=0)\n",
        "\n",
        "        # Append the log spectrogram to the DataFrame\n",
        "        df.loc[counter] = [log_spectrogram]\n",
        "        counter += 1\n",
        "\n",
        "    except Exception as e:\n",
        "        print(f\"Error processing {path}: {e}\")\n",
        "\n",
        "# Combine audio_df with the features DataFrame\n",
        "df_combined = pd.concat([audio_df.reset_index(drop=True), pd.DataFrame(df['mel_spectrogram'].values.tolist())], axis=1)\n",
        "df_combined.fillna(0, inplace=True)  # Fill NaN values with 0\n",
        "\n",
        "# Drop the 'path' column for modeling\n",
        "df_combined.drop(columns='path', inplace=True)\n",
        "\n",
        "# Print the resulting DataFrame\n",
        "print(\"Combined DataFrame:\")\n",
        "print(df_combined.head())\n",
        "\n",
        "# Check the distribution of classes\n",
        "class_counts = df_combined[['emotion', 'gender', 'actor']].value_counts()\n",
        "print(\"Class distribution:\")\n",
        "print(class_counts)\n",
        "\n",
        "# If any class has fewer than 2 samples, handle it accordingly\n",
        "if (class_counts < 2).any():\n",
        "    print(\"Some classes have fewer than 2 samples. Adjusting the dataset.\")\n",
        "    # Optionally, you can filter out those classes\n",
        "    df_combined = df_combined[(df_combined['emotion'].isin(class_counts[class_counts > 1].index.get_level_values(0)))]\n",
        "\n",
        "# Train-test split data\n",
        "train, test = train_test_split(df_combined, test_size=0.2, random_state=0)\n",
        "\n",
        "# Prepare training and testing features and labels\n",
        "X_train = train.iloc[:, 3:]\n",
        "y_train = train.iloc[:, :2].drop(columns=['gender'])\n",
        "\n",
        "X_test = test.iloc[:, 3:]\n",
        "y_test = test.iloc[:, :2].drop(columns=['gender'])\n",
        "\n",
        "# Print shapes of training and testing data\n",
        "print(\"Training Features Shape:\", X_train.shape)\n",
        "print(\"Training Labels Shape:\", y_train.shape)\n",
        "print(\"Testing Features Shape:\", X_test.shape)\n",
        "print(\"Testing Labels Shape:\", y_test.shape)\n"
      ],
      "metadata": {
        "colab": {
          "base_uri": "https://localhost:8080/",
          "height": 1000
        },
        "id": "HlU-kRlIeS4U",
        "outputId": "962d89cb-6321-4c2e-ca0e-e7611a63c149"
      },
      "execution_count": null,
      "outputs": [
        {
          "output_type": "stream",
          "name": "stdout",
          "text": [
            "Loading file: /content/drive/MyDrive/archive/FemaleFearful.wav\n",
            "Error processing /content/drive/MyDrive/archive/FemaleFearful.wav: No module named 'resampy'\n",
            "\n",
            "This error is lazily reported, having originally occured in\n",
            "  File /usr/local/lib/python3.10/dist-packages/librosa/core/audio.py, line 33, in <module>\n",
            "\n",
            "----> resampy = lazy.load(\"resampy\")\n",
            "Loading file: /content/drive/MyDrive/archive/MaleSadNoise.wav\n",
            "Error processing /content/drive/MyDrive/archive/MaleSadNoise.wav: No module named 'resampy'\n",
            "\n",
            "This error is lazily reported, having originally occured in\n",
            "  File /usr/local/lib/python3.10/dist-packages/librosa/core/audio.py, line 33, in <module>\n",
            "\n",
            "----> resampy = lazy.load(\"resampy\")\n",
            "Loading file: /content/drive/MyDrive/archive/MaleAngry.wav\n",
            "Error processing /content/drive/MyDrive/archive/MaleAngry.wav: No module named 'resampy'\n",
            "\n",
            "This error is lazily reported, having originally occured in\n",
            "  File /usr/local/lib/python3.10/dist-packages/librosa/core/audio.py, line 33, in <module>\n",
            "\n",
            "----> resampy = lazy.load(\"resampy\")\n",
            "Loading file: /content/drive/MyDrive/archive/MaleDisgust.wav\n",
            "Error processing /content/drive/MyDrive/archive/MaleDisgust.wav: No module named 'resampy'\n",
            "\n",
            "This error is lazily reported, having originally occured in\n",
            "  File /usr/local/lib/python3.10/dist-packages/librosa/core/audio.py, line 33, in <module>\n",
            "\n",
            "----> resampy = lazy.load(\"resampy\")\n",
            "Loading file: /content/drive/MyDrive/archive/MaleNeutral.wav\n",
            "Error processing /content/drive/MyDrive/archive/MaleNeutral.wav: No module named 'resampy'\n",
            "\n",
            "This error is lazily reported, having originally occured in\n",
            "  File /usr/local/lib/python3.10/dist-packages/librosa/core/audio.py, line 33, in <module>\n",
            "\n",
            "----> resampy = lazy.load(\"resampy\")\n",
            "Combined DataFrame:\n",
            "   emotion  gender  actor\n",
            "0     fear  female      1\n",
            "1      sad    male      2\n",
            "2    Angry    male      3\n",
            "3  Disgust    male      4\n",
            "4  Neutral    male      5\n",
            "Class distribution:\n",
            "emotion  gender  actor\n",
            "Angry    male    3        1\n",
            "Disgust  male    4        1\n",
            "Neutral  male    5        1\n",
            "fear     female  1        1\n",
            "sad      male    2        1\n",
            "Name: count, dtype: int64\n",
            "Some classes have fewer than 2 samples. Adjusting the dataset.\n"
          ]
        },
        {
          "output_type": "error",
          "ename": "ValueError",
          "evalue": "With n_samples=0, test_size=0.2 and train_size=None, the resulting train set will be empty. Adjust any of the aforementioned parameters.",
          "traceback": [
            "\u001b[0;31m---------------------------------------------------------------------------\u001b[0m",
            "\u001b[0;31mValueError\u001b[0m                                Traceback (most recent call last)",
            "\u001b[0;32m<ipython-input-89-403b583a651a>\u001b[0m in \u001b[0;36m<cell line: 77>\u001b[0;34m()\u001b[0m\n\u001b[1;32m     75\u001b[0m \u001b[0;34m\u001b[0m\u001b[0m\n\u001b[1;32m     76\u001b[0m \u001b[0;31m# Train-test split data\u001b[0m\u001b[0;34m\u001b[0m\u001b[0;34m\u001b[0m\u001b[0m\n\u001b[0;32m---> 77\u001b[0;31m \u001b[0mtrain\u001b[0m\u001b[0;34m,\u001b[0m \u001b[0mtest\u001b[0m \u001b[0;34m=\u001b[0m \u001b[0mtrain_test_split\u001b[0m\u001b[0;34m(\u001b[0m\u001b[0mdf_combined\u001b[0m\u001b[0;34m,\u001b[0m \u001b[0mtest_size\u001b[0m\u001b[0;34m=\u001b[0m\u001b[0;36m0.2\u001b[0m\u001b[0;34m,\u001b[0m \u001b[0mrandom_state\u001b[0m\u001b[0;34m=\u001b[0m\u001b[0;36m0\u001b[0m\u001b[0;34m)\u001b[0m\u001b[0;34m\u001b[0m\u001b[0;34m\u001b[0m\u001b[0m\n\u001b[0m\u001b[1;32m     78\u001b[0m \u001b[0;34m\u001b[0m\u001b[0m\n\u001b[1;32m     79\u001b[0m \u001b[0;31m# Prepare training and testing features and labels\u001b[0m\u001b[0;34m\u001b[0m\u001b[0;34m\u001b[0m\u001b[0m\n",
            "\u001b[0;32m/usr/local/lib/python3.10/dist-packages/sklearn/utils/_param_validation.py\u001b[0m in \u001b[0;36mwrapper\u001b[0;34m(*args, **kwargs)\u001b[0m\n\u001b[1;32m    211\u001b[0m                     )\n\u001b[1;32m    212\u001b[0m                 ):\n\u001b[0;32m--> 213\u001b[0;31m                     \u001b[0;32mreturn\u001b[0m \u001b[0mfunc\u001b[0m\u001b[0;34m(\u001b[0m\u001b[0;34m*\u001b[0m\u001b[0margs\u001b[0m\u001b[0;34m,\u001b[0m \u001b[0;34m**\u001b[0m\u001b[0mkwargs\u001b[0m\u001b[0;34m)\u001b[0m\u001b[0;34m\u001b[0m\u001b[0;34m\u001b[0m\u001b[0m\n\u001b[0m\u001b[1;32m    214\u001b[0m             \u001b[0;32mexcept\u001b[0m \u001b[0mInvalidParameterError\u001b[0m \u001b[0;32mas\u001b[0m \u001b[0me\u001b[0m\u001b[0;34m:\u001b[0m\u001b[0;34m\u001b[0m\u001b[0;34m\u001b[0m\u001b[0m\n\u001b[1;32m    215\u001b[0m                 \u001b[0;31m# When the function is just a wrapper around an estimator, we allow\u001b[0m\u001b[0;34m\u001b[0m\u001b[0;34m\u001b[0m\u001b[0m\n",
            "\u001b[0;32m/usr/local/lib/python3.10/dist-packages/sklearn/model_selection/_split.py\u001b[0m in \u001b[0;36mtrain_test_split\u001b[0;34m(test_size, train_size, random_state, shuffle, stratify, *arrays)\u001b[0m\n\u001b[1;32m   2783\u001b[0m \u001b[0;34m\u001b[0m\u001b[0m\n\u001b[1;32m   2784\u001b[0m     \u001b[0mn_samples\u001b[0m \u001b[0;34m=\u001b[0m \u001b[0m_num_samples\u001b[0m\u001b[0;34m(\u001b[0m\u001b[0marrays\u001b[0m\u001b[0;34m[\u001b[0m\u001b[0;36m0\u001b[0m\u001b[0;34m]\u001b[0m\u001b[0;34m)\u001b[0m\u001b[0;34m\u001b[0m\u001b[0;34m\u001b[0m\u001b[0m\n\u001b[0;32m-> 2785\u001b[0;31m     n_train, n_test = _validate_shuffle_split(\n\u001b[0m\u001b[1;32m   2786\u001b[0m         \u001b[0mn_samples\u001b[0m\u001b[0;34m,\u001b[0m \u001b[0mtest_size\u001b[0m\u001b[0;34m,\u001b[0m \u001b[0mtrain_size\u001b[0m\u001b[0;34m,\u001b[0m \u001b[0mdefault_test_size\u001b[0m\u001b[0;34m=\u001b[0m\u001b[0;36m0.25\u001b[0m\u001b[0;34m\u001b[0m\u001b[0;34m\u001b[0m\u001b[0m\n\u001b[1;32m   2787\u001b[0m     )\n",
            "\u001b[0;32m/usr/local/lib/python3.10/dist-packages/sklearn/model_selection/_split.py\u001b[0m in \u001b[0;36m_validate_shuffle_split\u001b[0;34m(n_samples, test_size, train_size, default_test_size)\u001b[0m\n\u001b[1;32m   2413\u001b[0m \u001b[0;34m\u001b[0m\u001b[0m\n\u001b[1;32m   2414\u001b[0m     \u001b[0;32mif\u001b[0m \u001b[0mn_train\u001b[0m \u001b[0;34m==\u001b[0m \u001b[0;36m0\u001b[0m\u001b[0;34m:\u001b[0m\u001b[0;34m\u001b[0m\u001b[0;34m\u001b[0m\u001b[0m\n\u001b[0;32m-> 2415\u001b[0;31m         raise ValueError(\n\u001b[0m\u001b[1;32m   2416\u001b[0m             \u001b[0;34m\"With n_samples={}, test_size={} and train_size={}, the \"\u001b[0m\u001b[0;34m\u001b[0m\u001b[0;34m\u001b[0m\u001b[0m\n\u001b[1;32m   2417\u001b[0m             \u001b[0;34m\"resulting train set will be empty. Adjust any of the \"\u001b[0m\u001b[0;34m\u001b[0m\u001b[0;34m\u001b[0m\u001b[0m\n",
            "\u001b[0;31mValueError\u001b[0m: With n_samples=0, test_size=0.2 and train_size=None, the resulting train set will be empty. Adjust any of the aforementioned parameters."
          ]
        }
      ]
    },
    {
      "cell_type": "code",
      "source": [
        "for index, path in enumerate(audio_df['path']):\n",
        "    if not os.path.isfile(path):\n",
        "        print(f\"File does not exist: {path}\")\n",
        "        continue\n",
        "\n",
        "    try:\n",
        "        # Load audio file\n",
        "        print(f\"Loading file: {path}\")\n",
        "        X, sample_rate = librosa.load(path, res_type='kaiser_fast', duration=3, sr=44100, offset=0.5)\n",
        "\n",
        "        # Check if the audio was loaded successfully\n",
        "        if X is not None and len(X) > 0:\n",
        "            print(f\"Loaded audio successfully, shape: {X.shape}, sample rate: {sample_rate}\")\n",
        "\n",
        "        # Compute the mel-scaled spectrogram\n",
        "        spectrogram = librosa.feature.melspectrogram(y=X, sr=sample_rate, n_mels=128, fmax=8000)\n",
        "        db_spec = librosa.power_to_db(spectrogram)\n",
        "\n",
        "        # Temporally average spectrogram\n",
        "        log_spectrogram = np.mean(db_spec, axis=0)\n",
        "\n",
        "        # Check if the spectrogram is valid\n",
        "        if log_spectrogram is not None and len(log_spectrogram) > 0:\n",
        "            print(f\"Spectrogram shape: {log_spectrogram.shape}\")\n",
        "            df.loc[counter] = [log_spectrogram]\n",
        "            counter += 1\n",
        "        else:\n",
        "            print(f\"Spectrogram extraction failed for file: {path}\")\n",
        "\n",
        "    except Exception as e:\n",
        "        print(f\"Error processing {path}: {e}\")\n"
      ],
      "metadata": {
        "colab": {
          "base_uri": "https://localhost:8080/"
        },
        "id": "__ilxrW7f3KG",
        "outputId": "7f738027-e16e-484f-a3f8-259762660e4e"
      },
      "execution_count": null,
      "outputs": [
        {
          "output_type": "stream",
          "name": "stdout",
          "text": [
            "Loading file: /content/drive/MyDrive/archive/FemaleFearful.wav\n",
            "Error processing /content/drive/MyDrive/archive/FemaleFearful.wav: No module named 'resampy'\n",
            "\n",
            "This error is lazily reported, having originally occured in\n",
            "  File /usr/local/lib/python3.10/dist-packages/librosa/core/audio.py, line 33, in <module>\n",
            "\n",
            "----> resampy = lazy.load(\"resampy\")\n",
            "Loading file: /content/drive/MyDrive/archive/MaleSadNoise.wav\n",
            "Error processing /content/drive/MyDrive/archive/MaleSadNoise.wav: No module named 'resampy'\n",
            "\n",
            "This error is lazily reported, having originally occured in\n",
            "  File /usr/local/lib/python3.10/dist-packages/librosa/core/audio.py, line 33, in <module>\n",
            "\n",
            "----> resampy = lazy.load(\"resampy\")\n",
            "Loading file: /content/drive/MyDrive/archive/MaleAngry.wav\n",
            "Error processing /content/drive/MyDrive/archive/MaleAngry.wav: No module named 'resampy'\n",
            "\n",
            "This error is lazily reported, having originally occured in\n",
            "  File /usr/local/lib/python3.10/dist-packages/librosa/core/audio.py, line 33, in <module>\n",
            "\n",
            "----> resampy = lazy.load(\"resampy\")\n",
            "Loading file: /content/drive/MyDrive/archive/MaleDisgust.wav\n",
            "Error processing /content/drive/MyDrive/archive/MaleDisgust.wav: No module named 'resampy'\n",
            "\n",
            "This error is lazily reported, having originally occured in\n",
            "  File /usr/local/lib/python3.10/dist-packages/librosa/core/audio.py, line 33, in <module>\n",
            "\n",
            "----> resampy = lazy.load(\"resampy\")\n",
            "Loading file: /content/drive/MyDrive/archive/MaleNeutral.wav\n",
            "Error processing /content/drive/MyDrive/archive/MaleNeutral.wav: No module named 'resampy'\n",
            "\n",
            "This error is lazily reported, having originally occured in\n",
            "  File /usr/local/lib/python3.10/dist-packages/librosa/core/audio.py, line 33, in <module>\n",
            "\n",
            "----> resampy = lazy.load(\"resampy\")\n"
          ]
        }
      ]
    },
    {
      "cell_type": "code",
      "source": [
        "X, sample_rate = librosa.load(path, sr=None)\n"
      ],
      "metadata": {
        "id": "_h7c9OnngoM-"
      },
      "execution_count": null,
      "outputs": []
    },
    {
      "cell_type": "code",
      "source": [
        "# NORMALIZE DATA\n",
        "import numpy as np\n",
        "from sklearn.model_selection import train_test_split\n",
        "import librosa\n",
        "\n",
        "# Example: Load a sample dataset (you can replace this with your actual audio dataset)\n",
        "# Assuming 'data' contains your feature vectors and 'labels' contains corresponding labels\n",
        "# Replace 'data' and 'labels' with actual data\n",
        "\n",
        "# Dummy dataset (replace this part with actual data loading)\n",
        "# Let's say 'data' is a NumPy array containing your audio features\n",
        "data = np.random.rand(100, 40)  # 100 samples, 40 features each (replace this with your actual feature extraction process)\n",
        "labels = np.random.randint(0, 2, size=(100,))  # 100 binary labels (replace with your actual labels)\n",
        "\n",
        "# Split the dataset into training and testing sets\n",
        "X_train, X_test, y_train, y_test = train_test_split(data, labels, test_size=0.2, random_state=42)\n",
        "\n",
        "# Normalize the data\n",
        "mean = np.mean(X_train, axis=0)\n",
        "std = np.std(X_train, axis=0)\n",
        "\n",
        "X_train_normalized = (X_train - mean) / std\n",
        "X_test_normalized = (X_test - mean) / std\n",
        "\n",
        "# Now, X_train_normalized and X_test_normalized contain your normalized training and testing data\n",
        "print(f\"X_train_normalized shape: {X_train_normalized.shape}\")\n",
        "print(f\"X_test_normalized shape: {X_test_normalized.shape}\")\n"
      ],
      "metadata": {
        "colab": {
          "base_uri": "https://localhost:8080/"
        },
        "id": "99Q8-JMsh9X6",
        "outputId": "1d907134-f9ec-40e5-d0f1-16732b560b15"
      },
      "execution_count": null,
      "outputs": [
        {
          "output_type": "stream",
          "name": "stdout",
          "text": [
            "X_train_normalized shape: (80, 40)\n",
            "X_test_normalized shape: (20, 40)\n"
          ]
        }
      ]
    },
    {
      "cell_type": "code",
      "source": [
        "# TURN DATA INTO ARRAYS FOR KERAS\n",
        "X_train = np.array(X_train)\n",
        "y_train = np.array(y_train)\n",
        "X_test = np.array(X_test)\n",
        "y_test = np.array(y_test)"
      ],
      "metadata": {
        "id": "by1xR20Til3Z"
      },
      "execution_count": null,
      "outputs": []
    },
    {
      "cell_type": "code",
      "source": [
        "from sklearn.preprocessing import LabelEncoder\n",
        "from tensorflow.keras.utils import to_categorical\n",
        "\n",
        "# Example list of labels (replace with your actual labels)\n",
        "# Let's assume your labels include emotions such as 'angry', 'calm', etc.\n",
        "y_train = ['happy', 'sad', 'angry', 'neutral', 'surprise', 'fear', 'calm', 'disgust']\n",
        "y_test = ['happy', 'fear', 'sad', 'neutral', 'angry', 'disgust']\n",
        "\n",
        "# Initialize LabelEncoder\n",
        "lb = LabelEncoder()\n",
        "\n",
        "# Fit the encoder on y_train (you can use the entire dataset if needed)\n",
        "lb.fit(y_train)\n",
        "\n",
        "# Print the classes to verify\n",
        "print(lb.classes_)  # This should output: ['angry' 'calm' 'disgust' 'fear' 'happy' 'neutral' 'sad' 'surprise']\n",
        "\n",
        "# Transform the labels into encoded form and perform one-hot encoding\n",
        "y_train_encoded = lb.transform(y_train)\n",
        "y_train_onehot = to_categorical(y_train_encoded)\n",
        "\n",
        "y_test_encoded = lb.transform(y_test)\n",
        "y_test_onehot = to_categorical(y_test_encoded)\n",
        "\n",
        "# Print some transformed data\n",
        "print(\"Encoded y_train:\", y_train_encoded)\n",
        "print(\"One-hot encoded y_train:\\n\", y_train_onehot)\n"
      ],
      "metadata": {
        "colab": {
          "base_uri": "https://localhost:8080/"
        },
        "id": "SQ2Ha3N7jEt2",
        "outputId": "a6254b23-0746-402e-c6f6-145df5de4404"
      },
      "execution_count": null,
      "outputs": [
        {
          "output_type": "stream",
          "name": "stdout",
          "text": [
            "['angry' 'calm' 'disgust' 'fear' 'happy' 'neutral' 'sad' 'surprise']\n",
            "Encoded y_train: [4 6 0 5 7 3 1 2]\n",
            "One-hot encoded y_train:\n",
            " [[0. 0. 0. 0. 1. 0. 0. 0.]\n",
            " [0. 0. 0. 0. 0. 0. 1. 0.]\n",
            " [1. 0. 0. 0. 0. 0. 0. 0.]\n",
            " [0. 0. 0. 0. 0. 1. 0. 0.]\n",
            " [0. 0. 0. 0. 0. 0. 0. 1.]\n",
            " [0. 0. 0. 1. 0. 0. 0. 0.]\n",
            " [0. 1. 0. 0. 0. 0. 0. 0.]\n",
            " [0. 0. 1. 0. 0. 0. 0. 0.]]\n"
          ]
        }
      ]
    },
    {
      "cell_type": "code",
      "source": [
        "# RESHAPE DATA TO INCLUDE 3D TENSOR\n",
        "X_train = X_train[:,:,np.newaxis]\n",
        "X_test = X_test[:,:,np.newaxis]\n",
        "\n",
        "X_train.shape"
      ],
      "metadata": {
        "colab": {
          "base_uri": "https://localhost:8080/"
        },
        "id": "chE1xjA4jiOh",
        "outputId": "7a83a57f-c781-4a38-a344-85e8adc63332"
      },
      "execution_count": null,
      "outputs": [
        {
          "output_type": "execute_result",
          "data": {
            "text/plain": [
              "(80, 40, 1)"
            ]
          },
          "metadata": {},
          "execution_count": 102
        }
      ]
    },
    {
      "cell_type": "code",
      "source": [
        "import tensorflow as tf\n",
        "from tensorflow.keras import layers\n",
        "from tensorflow.keras.regularizers import l2\n",
        "from tensorflow.keras.models import Sequential\n",
        "\n",
        "# Build 1D CNN Layers\n",
        "model = Sequential()\n",
        "\n",
        "# First 1D Convolutional layer\n",
        "model.add(layers.Conv1D(64, kernel_size=10, activation='relu', input_shape=(X_train.shape[1], 1)))\n",
        "\n",
        "# Second 1D Convolutional layer with L2 regularization\n",
        "model.add(layers.Conv1D(128, kernel_size=10, activation='relu',\n",
        "                        kernel_regularizer=l2(0.01), bias_regularizer=l2(0.01)))\n",
        "\n",
        "# Adjust MaxPooling pool size\n",
        "model.add(layers.MaxPooling1D(pool_size=4))\n",
        "\n",
        "# Dropout layer to prevent overfitting\n",
        "model.add(layers.Dropout(0.4))\n",
        "\n",
        "# Third 1D Convolutional layer with a smaller kernel size\n",
        "model.add(layers.Conv1D(128, kernel_size=2, activation='relu'))\n",
        "\n",
        "# MaxPooling and Dropout layer\n",
        "model.add(layers.MaxPooling1D(pool_size=4))\n",
        "model.add(layers.Dropout(0.4))\n",
        "\n",
        "# Flatten the output of the convolutional layers for the fully connected layers\n",
        "model.add(layers.Flatten())\n",
        "\n",
        "# Fully connected (dense) layer\n",
        "model.add(layers.Dense(256, activation='relu'))\n",
        "\n",
        "# Dropout layer to prevent overfitting in dense layer\n",
        "model.add(layers.Dropout(0.4))\n",
        "\n",
        "# Output layer with 8 neurons (for 8 classes)\n",
        "model.add(layers.Dense(8, activation='sigmoid'))\n",
        "\n",
        "# Define the optimizer\n",
        "opt = tf.keras.optimizers.Adam(learning_rate=0.001)  # Use learning_rate instead of lr\n",
        "\n",
        "# Compile the model\n",
        "model.compile(loss='categorical_crossentropy', optimizer=opt, metrics=['accuracy'])\n",
        "\n",
        "# Print the model summary\n",
        "model.summary()\n"
      ],
      "metadata": {
        "colab": {
          "base_uri": "https://localhost:8080/",
          "height": 498
        },
        "id": "jJBvKGdUjpGq",
        "outputId": "23acefcc-8946-42f6-96a4-d9d33348aa4a"
      },
      "execution_count": null,
      "outputs": [
        {
          "output_type": "display_data",
          "data": {
            "text/plain": [
              "\u001b[1mModel: \"sequential_6\"\u001b[0m\n"
            ],
            "text/html": [
              "<pre style=\"white-space:pre;overflow-x:auto;line-height:normal;font-family:Menlo,'DejaVu Sans Mono',consolas,'Courier New',monospace\"><span style=\"font-weight: bold\">Model: \"sequential_6\"</span>\n",
              "</pre>\n"
            ]
          },
          "metadata": {}
        },
        {
          "output_type": "display_data",
          "data": {
            "text/plain": [
              "┏━━━━━━━━━━━━━━━━━━━━━━━━━━━━━━━━━━━━━━┳━━━━━━━━━━━━━━━━━━━━━━━━━━━━━┳━━━━━━━━━━━━━━━━━┓\n",
              "┃\u001b[1m \u001b[0m\u001b[1mLayer (type)                        \u001b[0m\u001b[1m \u001b[0m┃\u001b[1m \u001b[0m\u001b[1mOutput Shape               \u001b[0m\u001b[1m \u001b[0m┃\u001b[1m \u001b[0m\u001b[1m        Param #\u001b[0m\u001b[1m \u001b[0m┃\n",
              "┡━━━━━━━━━━━━━━━━━━━━━━━━━━━━━━━━━━━━━━╇━━━━━━━━━━━━━━━━━━━━━━━━━━━━━╇━━━━━━━━━━━━━━━━━┩\n",
              "│ conv1d_13 (\u001b[38;5;33mConv1D\u001b[0m)                   │ (\u001b[38;5;45mNone\u001b[0m, \u001b[38;5;34m31\u001b[0m, \u001b[38;5;34m64\u001b[0m)              │             \u001b[38;5;34m704\u001b[0m │\n",
              "├──────────────────────────────────────┼─────────────────────────────┼─────────────────┤\n",
              "│ conv1d_14 (\u001b[38;5;33mConv1D\u001b[0m)                   │ (\u001b[38;5;45mNone\u001b[0m, \u001b[38;5;34m22\u001b[0m, \u001b[38;5;34m128\u001b[0m)             │          \u001b[38;5;34m82,048\u001b[0m │\n",
              "├──────────────────────────────────────┼─────────────────────────────┼─────────────────┤\n",
              "│ max_pooling1d_6 (\u001b[38;5;33mMaxPooling1D\u001b[0m)       │ (\u001b[38;5;45mNone\u001b[0m, \u001b[38;5;34m5\u001b[0m, \u001b[38;5;34m128\u001b[0m)              │               \u001b[38;5;34m0\u001b[0m │\n",
              "├──────────────────────────────────────┼─────────────────────────────┼─────────────────┤\n",
              "│ dropout_8 (\u001b[38;5;33mDropout\u001b[0m)                  │ (\u001b[38;5;45mNone\u001b[0m, \u001b[38;5;34m5\u001b[0m, \u001b[38;5;34m128\u001b[0m)              │               \u001b[38;5;34m0\u001b[0m │\n",
              "├──────────────────────────────────────┼─────────────────────────────┼─────────────────┤\n",
              "│ conv1d_15 (\u001b[38;5;33mConv1D\u001b[0m)                   │ (\u001b[38;5;45mNone\u001b[0m, \u001b[38;5;34m4\u001b[0m, \u001b[38;5;34m128\u001b[0m)              │          \u001b[38;5;34m32,896\u001b[0m │\n",
              "├──────────────────────────────────────┼─────────────────────────────┼─────────────────┤\n",
              "│ max_pooling1d_7 (\u001b[38;5;33mMaxPooling1D\u001b[0m)       │ (\u001b[38;5;45mNone\u001b[0m, \u001b[38;5;34m1\u001b[0m, \u001b[38;5;34m128\u001b[0m)              │               \u001b[38;5;34m0\u001b[0m │\n",
              "├──────────────────────────────────────┼─────────────────────────────┼─────────────────┤\n",
              "│ dropout_9 (\u001b[38;5;33mDropout\u001b[0m)                  │ (\u001b[38;5;45mNone\u001b[0m, \u001b[38;5;34m1\u001b[0m, \u001b[38;5;34m128\u001b[0m)              │               \u001b[38;5;34m0\u001b[0m │\n",
              "├──────────────────────────────────────┼─────────────────────────────┼─────────────────┤\n",
              "│ flatten_2 (\u001b[38;5;33mFlatten\u001b[0m)                  │ (\u001b[38;5;45mNone\u001b[0m, \u001b[38;5;34m128\u001b[0m)                 │               \u001b[38;5;34m0\u001b[0m │\n",
              "├──────────────────────────────────────┼─────────────────────────────┼─────────────────┤\n",
              "│ dense_4 (\u001b[38;5;33mDense\u001b[0m)                      │ (\u001b[38;5;45mNone\u001b[0m, \u001b[38;5;34m256\u001b[0m)                 │          \u001b[38;5;34m33,024\u001b[0m │\n",
              "├──────────────────────────────────────┼─────────────────────────────┼─────────────────┤\n",
              "│ dropout_10 (\u001b[38;5;33mDropout\u001b[0m)                 │ (\u001b[38;5;45mNone\u001b[0m, \u001b[38;5;34m256\u001b[0m)                 │               \u001b[38;5;34m0\u001b[0m │\n",
              "├──────────────────────────────────────┼─────────────────────────────┼─────────────────┤\n",
              "│ dense_5 (\u001b[38;5;33mDense\u001b[0m)                      │ (\u001b[38;5;45mNone\u001b[0m, \u001b[38;5;34m8\u001b[0m)                   │           \u001b[38;5;34m2,056\u001b[0m │\n",
              "└──────────────────────────────────────┴─────────────────────────────┴─────────────────┘\n"
            ],
            "text/html": [
              "<pre style=\"white-space:pre;overflow-x:auto;line-height:normal;font-family:Menlo,'DejaVu Sans Mono',consolas,'Courier New',monospace\">┏━━━━━━━━━━━━━━━━━━━━━━━━━━━━━━━━━━━━━━┳━━━━━━━━━━━━━━━━━━━━━━━━━━━━━┳━━━━━━━━━━━━━━━━━┓\n",
              "┃<span style=\"font-weight: bold\"> Layer (type)                         </span>┃<span style=\"font-weight: bold\"> Output Shape                </span>┃<span style=\"font-weight: bold\">         Param # </span>┃\n",
              "┡━━━━━━━━━━━━━━━━━━━━━━━━━━━━━━━━━━━━━━╇━━━━━━━━━━━━━━━━━━━━━━━━━━━━━╇━━━━━━━━━━━━━━━━━┩\n",
              "│ conv1d_13 (<span style=\"color: #0087ff; text-decoration-color: #0087ff\">Conv1D</span>)                   │ (<span style=\"color: #00d7ff; text-decoration-color: #00d7ff\">None</span>, <span style=\"color: #00af00; text-decoration-color: #00af00\">31</span>, <span style=\"color: #00af00; text-decoration-color: #00af00\">64</span>)              │             <span style=\"color: #00af00; text-decoration-color: #00af00\">704</span> │\n",
              "├──────────────────────────────────────┼─────────────────────────────┼─────────────────┤\n",
              "│ conv1d_14 (<span style=\"color: #0087ff; text-decoration-color: #0087ff\">Conv1D</span>)                   │ (<span style=\"color: #00d7ff; text-decoration-color: #00d7ff\">None</span>, <span style=\"color: #00af00; text-decoration-color: #00af00\">22</span>, <span style=\"color: #00af00; text-decoration-color: #00af00\">128</span>)             │          <span style=\"color: #00af00; text-decoration-color: #00af00\">82,048</span> │\n",
              "├──────────────────────────────────────┼─────────────────────────────┼─────────────────┤\n",
              "│ max_pooling1d_6 (<span style=\"color: #0087ff; text-decoration-color: #0087ff\">MaxPooling1D</span>)       │ (<span style=\"color: #00d7ff; text-decoration-color: #00d7ff\">None</span>, <span style=\"color: #00af00; text-decoration-color: #00af00\">5</span>, <span style=\"color: #00af00; text-decoration-color: #00af00\">128</span>)              │               <span style=\"color: #00af00; text-decoration-color: #00af00\">0</span> │\n",
              "├──────────────────────────────────────┼─────────────────────────────┼─────────────────┤\n",
              "│ dropout_8 (<span style=\"color: #0087ff; text-decoration-color: #0087ff\">Dropout</span>)                  │ (<span style=\"color: #00d7ff; text-decoration-color: #00d7ff\">None</span>, <span style=\"color: #00af00; text-decoration-color: #00af00\">5</span>, <span style=\"color: #00af00; text-decoration-color: #00af00\">128</span>)              │               <span style=\"color: #00af00; text-decoration-color: #00af00\">0</span> │\n",
              "├──────────────────────────────────────┼─────────────────────────────┼─────────────────┤\n",
              "│ conv1d_15 (<span style=\"color: #0087ff; text-decoration-color: #0087ff\">Conv1D</span>)                   │ (<span style=\"color: #00d7ff; text-decoration-color: #00d7ff\">None</span>, <span style=\"color: #00af00; text-decoration-color: #00af00\">4</span>, <span style=\"color: #00af00; text-decoration-color: #00af00\">128</span>)              │          <span style=\"color: #00af00; text-decoration-color: #00af00\">32,896</span> │\n",
              "├──────────────────────────────────────┼─────────────────────────────┼─────────────────┤\n",
              "│ max_pooling1d_7 (<span style=\"color: #0087ff; text-decoration-color: #0087ff\">MaxPooling1D</span>)       │ (<span style=\"color: #00d7ff; text-decoration-color: #00d7ff\">None</span>, <span style=\"color: #00af00; text-decoration-color: #00af00\">1</span>, <span style=\"color: #00af00; text-decoration-color: #00af00\">128</span>)              │               <span style=\"color: #00af00; text-decoration-color: #00af00\">0</span> │\n",
              "├──────────────────────────────────────┼─────────────────────────────┼─────────────────┤\n",
              "│ dropout_9 (<span style=\"color: #0087ff; text-decoration-color: #0087ff\">Dropout</span>)                  │ (<span style=\"color: #00d7ff; text-decoration-color: #00d7ff\">None</span>, <span style=\"color: #00af00; text-decoration-color: #00af00\">1</span>, <span style=\"color: #00af00; text-decoration-color: #00af00\">128</span>)              │               <span style=\"color: #00af00; text-decoration-color: #00af00\">0</span> │\n",
              "├──────────────────────────────────────┼─────────────────────────────┼─────────────────┤\n",
              "│ flatten_2 (<span style=\"color: #0087ff; text-decoration-color: #0087ff\">Flatten</span>)                  │ (<span style=\"color: #00d7ff; text-decoration-color: #00d7ff\">None</span>, <span style=\"color: #00af00; text-decoration-color: #00af00\">128</span>)                 │               <span style=\"color: #00af00; text-decoration-color: #00af00\">0</span> │\n",
              "├──────────────────────────────────────┼─────────────────────────────┼─────────────────┤\n",
              "│ dense_4 (<span style=\"color: #0087ff; text-decoration-color: #0087ff\">Dense</span>)                      │ (<span style=\"color: #00d7ff; text-decoration-color: #00d7ff\">None</span>, <span style=\"color: #00af00; text-decoration-color: #00af00\">256</span>)                 │          <span style=\"color: #00af00; text-decoration-color: #00af00\">33,024</span> │\n",
              "├──────────────────────────────────────┼─────────────────────────────┼─────────────────┤\n",
              "│ dropout_10 (<span style=\"color: #0087ff; text-decoration-color: #0087ff\">Dropout</span>)                 │ (<span style=\"color: #00d7ff; text-decoration-color: #00d7ff\">None</span>, <span style=\"color: #00af00; text-decoration-color: #00af00\">256</span>)                 │               <span style=\"color: #00af00; text-decoration-color: #00af00\">0</span> │\n",
              "├──────────────────────────────────────┼─────────────────────────────┼─────────────────┤\n",
              "│ dense_5 (<span style=\"color: #0087ff; text-decoration-color: #0087ff\">Dense</span>)                      │ (<span style=\"color: #00d7ff; text-decoration-color: #00d7ff\">None</span>, <span style=\"color: #00af00; text-decoration-color: #00af00\">8</span>)                   │           <span style=\"color: #00af00; text-decoration-color: #00af00\">2,056</span> │\n",
              "└──────────────────────────────────────┴─────────────────────────────┴─────────────────┘\n",
              "</pre>\n"
            ]
          },
          "metadata": {}
        },
        {
          "output_type": "display_data",
          "data": {
            "text/plain": [
              "\u001b[1m Total params: \u001b[0m\u001b[38;5;34m150,728\u001b[0m (588.78 KB)\n"
            ],
            "text/html": [
              "<pre style=\"white-space:pre;overflow-x:auto;line-height:normal;font-family:Menlo,'DejaVu Sans Mono',consolas,'Courier New',monospace\"><span style=\"font-weight: bold\"> Total params: </span><span style=\"color: #00af00; text-decoration-color: #00af00\">150,728</span> (588.78 KB)\n",
              "</pre>\n"
            ]
          },
          "metadata": {}
        },
        {
          "output_type": "display_data",
          "data": {
            "text/plain": [
              "\u001b[1m Trainable params: \u001b[0m\u001b[38;5;34m150,728\u001b[0m (588.78 KB)\n"
            ],
            "text/html": [
              "<pre style=\"white-space:pre;overflow-x:auto;line-height:normal;font-family:Menlo,'DejaVu Sans Mono',consolas,'Courier New',monospace\"><span style=\"font-weight: bold\"> Trainable params: </span><span style=\"color: #00af00; text-decoration-color: #00af00\">150,728</span> (588.78 KB)\n",
              "</pre>\n"
            ]
          },
          "metadata": {}
        },
        {
          "output_type": "display_data",
          "data": {
            "text/plain": [
              "\u001b[1m Non-trainable params: \u001b[0m\u001b[38;5;34m0\u001b[0m (0.00 B)\n"
            ],
            "text/html": [
              "<pre style=\"white-space:pre;overflow-x:auto;line-height:normal;font-family:Menlo,'DejaVu Sans Mono',consolas,'Courier New',monospace\"><span style=\"font-weight: bold\"> Non-trainable params: </span><span style=\"color: #00af00; text-decoration-color: #00af00\">0</span> (0.00 B)\n",
              "</pre>\n"
            ]
          },
          "metadata": {}
        }
      ]
    },
    {
      "cell_type": "code",
      "source": [
        "import numpy as np\n",
        "import tensorflow as tf\n",
        "from tensorflow import keras\n",
        "from tensorflow.keras import layers\n",
        "from tensorflow.keras.callbacks import ModelCheckpoint\n",
        "\n",
        "# Generate some dummy data for demonstration\n",
        "# Replace this with your actual dataset\n",
        "num_samples = 1000\n",
        "num_classes = 10\n",
        "timesteps = 10  # Changed to a non-zero value\n",
        "features = 64   # Changed to a lower number for simplicity\n",
        "\n",
        "X_train = np.random.rand(num_samples, timesteps, features)\n",
        "y_train = keras.utils.to_categorical(np.random.randint(num_classes, size=num_samples), num_classes)\n",
        "\n",
        "X_test = np.random.rand(int(num_samples * 0.2), timesteps, features)\n",
        "y_test = keras.utils.to_categorical(np.random.randint(num_classes, size=int(num_samples * 0.2)), num_classes)\n",
        "\n",
        "# Check the shapes of the datasets\n",
        "print(f'X_train shape: {X_train.shape}')  # Should be (num_samples, timesteps, features)\n",
        "print(f'y_train shape: {y_train.shape}')  # Should be (num_samples, num_classes)\n",
        "print(f'X_test shape: {X_test.shape}')    # Should be (num_samples * 0.2, timesteps, features)\n",
        "print(f'y_test shape: {y_test.shape}')    # Should be (num_samples * 0.2, num_classes)\n",
        "\n",
        "# Define the model\n",
        "model = keras.Sequential([\n",
        "    layers.Conv1D(64, kernel_size=3, activation='relu', input_shape=(timesteps, features)),\n",
        "    layers.MaxPooling1D(pool_size=2),\n",
        "    layers.Conv1D(128, kernel_size=3, activation='relu'),\n",
        "    layers.MaxPooling1D(pool_size=2),\n",
        "    layers.Flatten(),\n",
        "    layers.Dense(128, activation='relu'),\n",
        "    layers.Dense(num_classes, activation='softmax')\n",
        "])\n",
        "\n",
        "# Compile the model\n",
        "opt = tf.keras.optimizers.Adam(learning_rate=0.001)\n",
        "model.compile(loss='categorical_crossentropy', optimizer=opt, metrics=['accuracy'])\n",
        "\n",
        "# Checkpoint to save the best model\n",
        "checkpoint = ModelCheckpoint(\n",
        "    \"best_initial_model.weights.h5\",  # Save model weights\n",
        "    monitor='val_accuracy',             # Monitor validation accuracy\n",
        "    verbose=1,                          # Verbosity\n",
        "    save_best_only=True,                # Save only the best model\n",
        "    mode='max',                        # Maximize the monitored metric\n",
        "    save_weights_only=True              # Save only weights\n",
        ")\n",
        "\n",
        "# Fit the model\n",
        "model_history = model.fit(\n",
        "    X_train,\n",
        "    y_train,\n",
        "    batch_size=32,\n",
        "    epochs=40,\n",
        "    validation_data=(X_test, y_test),\n",
        "    callbacks=[checkpoint]\n",
        ")\n",
        "\n",
        "# Optionally, visualize the training history\n",
        "import matplotlib.pyplot as plt\n",
        "\n",
        "plt.plot(model_history.history['accuracy'], label='train accuracy')\n",
        "plt.plot(model_history.history['val_accuracy'], label='val accuracy')\n",
        "plt.title('Model Accuracy')\n",
        "plt.ylabel('Accuracy')\n",
        "plt.xlabel('Epoch')\n",
        "plt.legend()\n",
        "plt.show()\n",
        "\n",
        "plt.plot(model_history.history['loss'], label='train loss')\n",
        "plt.plot(model_history.history['val_loss'], label='val loss')\n",
        "plt.title('Model Loss')\n",
        "plt.ylabel('Loss')\n",
        "plt.xlabel('Epoch')\n",
        "plt.legend()\n",
        "plt.show()\n"
      ],
      "metadata": {
        "colab": {
          "base_uri": "https://localhost:8080/",
          "height": 1000
        },
        "id": "D39IkYs2lcHP",
        "outputId": "30f380bb-f741-4120-d43c-ac2ca7dc64e1"
      },
      "execution_count": null,
      "outputs": [
        {
          "output_type": "stream",
          "name": "stdout",
          "text": [
            "X_train shape: (1000, 10, 64)\n",
            "y_train shape: (1000, 10)\n",
            "X_test shape: (200, 10, 64)\n",
            "y_test shape: (200, 10)\n",
            "Epoch 1/40\n",
            "\u001b[1m31/32\u001b[0m \u001b[32m━━━━━━━━━━━━━━━━━━━\u001b[0m\u001b[37m━\u001b[0m \u001b[1m0s\u001b[0m 5ms/step - accuracy: 0.1180 - loss: 2.3339\n",
            "Epoch 1: val_accuracy improved from -inf to 0.11500, saving model to best_initial_model.weights.h5\n",
            "\u001b[1m32/32\u001b[0m \u001b[32m━━━━━━━━━━━━━━━━━━━━\u001b[0m\u001b[37m\u001b[0m \u001b[1m2s\u001b[0m 18ms/step - accuracy: 0.1176 - loss: 2.3333 - val_accuracy: 0.1150 - val_loss: 2.2986\n",
            "Epoch 2/40\n",
            "\u001b[1m25/32\u001b[0m \u001b[32m━━━━━━━━━━━━━━━\u001b[0m\u001b[37m━━━━━\u001b[0m \u001b[1m0s\u001b[0m 4ms/step - accuracy: 0.1314 - loss: 2.2918\n",
            "Epoch 2: val_accuracy did not improve from 0.11500\n",
            "\u001b[1m32/32\u001b[0m \u001b[32m━━━━━━━━━━━━━━━━━━━━\u001b[0m\u001b[37m\u001b[0m \u001b[1m1s\u001b[0m 5ms/step - accuracy: 0.1306 - loss: 2.2918 - val_accuracy: 0.1150 - val_loss: 2.3061\n",
            "Epoch 3/40\n",
            "\u001b[1m25/32\u001b[0m \u001b[32m━━━━━━━━━━━━━━━\u001b[0m\u001b[37m━━━━━\u001b[0m \u001b[1m0s\u001b[0m 4ms/step - accuracy: 0.1939 - loss: 2.2649\n",
            "Epoch 3: val_accuracy did not improve from 0.11500\n",
            "\u001b[1m32/32\u001b[0m \u001b[32m━━━━━━━━━━━━━━━━━━━━\u001b[0m\u001b[37m\u001b[0m \u001b[1m0s\u001b[0m 8ms/step - accuracy: 0.1892 - loss: 2.2669 - val_accuracy: 0.1000 - val_loss: 2.3169\n",
            "Epoch 4/40\n",
            "\u001b[1m31/32\u001b[0m \u001b[32m━━━━━━━━━━━━━━━━━━━\u001b[0m\u001b[37m━\u001b[0m \u001b[1m0s\u001b[0m 7ms/step - accuracy: 0.1408 - loss: 2.2662\n",
            "Epoch 4: val_accuracy did not improve from 0.11500\n",
            "\u001b[1m32/32\u001b[0m \u001b[32m━━━━━━━━━━━━━━━━━━━━\u001b[0m\u001b[37m\u001b[0m \u001b[1m0s\u001b[0m 10ms/step - accuracy: 0.1425 - loss: 2.2660 - val_accuracy: 0.1050 - val_loss: 2.3054\n",
            "Epoch 5/40\n",
            "\u001b[1m29/32\u001b[0m \u001b[32m━━━━━━━━━━━━━━━━━━\u001b[0m\u001b[37m━━\u001b[0m \u001b[1m0s\u001b[0m 8ms/step - accuracy: 0.1963 - loss: 2.2195\n",
            "Epoch 5: val_accuracy improved from 0.11500 to 0.12000, saving model to best_initial_model.weights.h5\n",
            "\u001b[1m32/32\u001b[0m \u001b[32m━━━━━━━━━━━━━━━━━━━━\u001b[0m\u001b[37m\u001b[0m \u001b[1m1s\u001b[0m 11ms/step - accuracy: 0.1939 - loss: 2.2212 - val_accuracy: 0.1200 - val_loss: 2.3261\n",
            "Epoch 6/40\n",
            "\u001b[1m29/32\u001b[0m \u001b[32m━━━━━━━━━━━━━━━━━━\u001b[0m\u001b[37m━━\u001b[0m \u001b[1m0s\u001b[0m 7ms/step - accuracy: 0.1914 - loss: 2.2214\n",
            "Epoch 6: val_accuracy did not improve from 0.12000\n",
            "\u001b[1m32/32\u001b[0m \u001b[32m━━━━━━━━━━━━━━━━━━━━\u001b[0m\u001b[37m\u001b[0m \u001b[1m0s\u001b[0m 10ms/step - accuracy: 0.1930 - loss: 2.2191 - val_accuracy: 0.1000 - val_loss: 2.3521\n",
            "Epoch 7/40\n",
            "\u001b[1m30/32\u001b[0m \u001b[32m━━━━━━━━━━━━━━━━━━\u001b[0m\u001b[37m━━\u001b[0m \u001b[1m0s\u001b[0m 8ms/step - accuracy: 0.2856 - loss: 2.1561\n",
            "Epoch 7: val_accuracy did not improve from 0.12000\n",
            "\u001b[1m32/32\u001b[0m \u001b[32m━━━━━━━━━━━━━━━━━━━━\u001b[0m\u001b[37m\u001b[0m \u001b[1m0s\u001b[0m 11ms/step - accuracy: 0.2839 - loss: 2.1566 - val_accuracy: 0.0950 - val_loss: 2.3642\n",
            "Epoch 8/40\n",
            "\u001b[1m27/32\u001b[0m \u001b[32m━━━━━━━━━━━━━━━━\u001b[0m\u001b[37m━━━━\u001b[0m \u001b[1m0s\u001b[0m 6ms/step - accuracy: 0.2594 - loss: 2.0912\n",
            "Epoch 8: val_accuracy did not improve from 0.12000\n",
            "\u001b[1m32/32\u001b[0m \u001b[32m━━━━━━━━━━━━━━━━━━━━\u001b[0m\u001b[37m\u001b[0m \u001b[1m1s\u001b[0m 8ms/step - accuracy: 0.2679 - loss: 2.0836 - val_accuracy: 0.0900 - val_loss: 2.3855\n",
            "Epoch 9/40\n",
            "\u001b[1m29/32\u001b[0m \u001b[32m━━━━━━━━━━━━━━━━━━\u001b[0m\u001b[37m━━\u001b[0m \u001b[1m0s\u001b[0m 8ms/step - accuracy: 0.3205 - loss: 1.9437\n",
            "Epoch 9: val_accuracy did not improve from 0.12000\n",
            "\u001b[1m32/32\u001b[0m \u001b[32m━━━━━━━━━━━━━━━━━━━━\u001b[0m\u001b[37m\u001b[0m \u001b[1m0s\u001b[0m 11ms/step - accuracy: 0.3228 - loss: 1.9415 - val_accuracy: 0.1050 - val_loss: 2.4048\n",
            "Epoch 10/40\n",
            "\u001b[1m30/32\u001b[0m \u001b[32m━━━━━━━━━━━━━━━━━━\u001b[0m\u001b[37m━━\u001b[0m \u001b[1m0s\u001b[0m 7ms/step - accuracy: 0.3971 - loss: 1.8080\n",
            "Epoch 10: val_accuracy did not improve from 0.12000\n",
            "\u001b[1m32/32\u001b[0m \u001b[32m━━━━━━━━━━━━━━━━━━━━\u001b[0m\u001b[37m\u001b[0m \u001b[1m0s\u001b[0m 11ms/step - accuracy: 0.3960 - loss: 1.8089 - val_accuracy: 0.1000 - val_loss: 2.4304\n",
            "Epoch 11/40\n",
            "\u001b[1m27/32\u001b[0m \u001b[32m━━━━━━━━━━━━━━━━\u001b[0m\u001b[37m━━━━\u001b[0m \u001b[1m0s\u001b[0m 8ms/step - accuracy: 0.4945 - loss: 1.6667\n",
            "Epoch 11: val_accuracy did not improve from 0.12000\n",
            "\u001b[1m32/32\u001b[0m \u001b[32m━━━━━━━━━━━━━━━━━━━━\u001b[0m\u001b[37m\u001b[0m \u001b[1m1s\u001b[0m 12ms/step - accuracy: 0.4914 - loss: 1.6625 - val_accuracy: 0.0950 - val_loss: 2.7946\n",
            "Epoch 12/40\n",
            "\u001b[1m28/32\u001b[0m \u001b[32m━━━━━━━━━━━━━━━━━\u001b[0m\u001b[37m━━━\u001b[0m \u001b[1m0s\u001b[0m 8ms/step - accuracy: 0.5160 - loss: 1.5968\n",
            "Epoch 12: val_accuracy did not improve from 0.12000\n",
            "\u001b[1m32/32\u001b[0m \u001b[32m━━━━━━━━━━━━━━━━━━━━\u001b[0m\u001b[37m\u001b[0m \u001b[1m0s\u001b[0m 11ms/step - accuracy: 0.5182 - loss: 1.5846 - val_accuracy: 0.1200 - val_loss: 2.6525\n",
            "Epoch 13/40\n",
            "\u001b[1m26/32\u001b[0m \u001b[32m━━━━━━━━━━━━━━━━\u001b[0m\u001b[37m━━━━\u001b[0m \u001b[1m0s\u001b[0m 4ms/step - accuracy: 0.6324 - loss: 1.3264\n",
            "Epoch 13: val_accuracy did not improve from 0.12000\n",
            "\u001b[1m32/32\u001b[0m \u001b[32m━━━━━━━━━━━━━━━━━━━━\u001b[0m\u001b[37m\u001b[0m \u001b[1m0s\u001b[0m 6ms/step - accuracy: 0.6345 - loss: 1.3154 - val_accuracy: 0.0850 - val_loss: 2.7053\n",
            "Epoch 14/40\n",
            "\u001b[1m24/32\u001b[0m \u001b[32m━━━━━━━━━━━━━━━\u001b[0m\u001b[37m━━━━━\u001b[0m \u001b[1m0s\u001b[0m 5ms/step - accuracy: 0.7024 - loss: 1.1134\n",
            "Epoch 14: val_accuracy did not improve from 0.12000\n",
            "\u001b[1m32/32\u001b[0m \u001b[32m━━━━━━━━━━━━━━━━━━━━\u001b[0m\u001b[37m\u001b[0m \u001b[1m0s\u001b[0m 6ms/step - accuracy: 0.6985 - loss: 1.1143 - val_accuracy: 0.0950 - val_loss: 2.6983\n",
            "Epoch 15/40\n",
            "\u001b[1m26/32\u001b[0m \u001b[32m━━━━━━━━━━━━━━━━\u001b[0m\u001b[37m━━━━\u001b[0m \u001b[1m0s\u001b[0m 4ms/step - accuracy: 0.7375 - loss: 0.9254\n",
            "Epoch 15: val_accuracy did not improve from 0.12000\n",
            "\u001b[1m32/32\u001b[0m \u001b[32m━━━━━━━━━━━━━━━━━━━━\u001b[0m\u001b[37m\u001b[0m \u001b[1m0s\u001b[0m 6ms/step - accuracy: 0.7372 - loss: 0.9282 - val_accuracy: 0.0800 - val_loss: 3.0966\n",
            "Epoch 16/40\n",
            "\u001b[1m26/32\u001b[0m \u001b[32m━━━━━━━━━━━━━━━━\u001b[0m\u001b[37m━━━━\u001b[0m \u001b[1m0s\u001b[0m 4ms/step - accuracy: 0.7455 - loss: 0.8960\n",
            "Epoch 16: val_accuracy did not improve from 0.12000\n",
            "\u001b[1m32/32\u001b[0m \u001b[32m━━━━━━━━━━━━━━━━━━━━\u001b[0m\u001b[37m\u001b[0m \u001b[1m0s\u001b[0m 6ms/step - accuracy: 0.7537 - loss: 0.8818 - val_accuracy: 0.1150 - val_loss: 3.0237\n",
            "Epoch 17/40\n",
            "\u001b[1m31/32\u001b[0m \u001b[32m━━━━━━━━━━━━━━━━━━━\u001b[0m\u001b[37m━\u001b[0m \u001b[1m0s\u001b[0m 5ms/step - accuracy: 0.8567 - loss: 0.6943\n",
            "Epoch 17: val_accuracy did not improve from 0.12000\n",
            "\u001b[1m32/32\u001b[0m \u001b[32m━━━━━━━━━━━━━━━━━━━━\u001b[0m\u001b[37m\u001b[0m \u001b[1m0s\u001b[0m 7ms/step - accuracy: 0.8568 - loss: 0.6923 - val_accuracy: 0.1150 - val_loss: 3.0350\n",
            "Epoch 18/40\n",
            "\u001b[1m23/32\u001b[0m \u001b[32m━━━━━━━━━━━━━━\u001b[0m\u001b[37m━━━━━━\u001b[0m \u001b[1m0s\u001b[0m 5ms/step - accuracy: 0.9082 - loss: 0.5159\n",
            "Epoch 18: val_accuracy did not improve from 0.12000\n",
            "\u001b[1m32/32\u001b[0m \u001b[32m━━━━━━━━━━━━━━━━━━━━\u001b[0m\u001b[37m\u001b[0m \u001b[1m0s\u001b[0m 6ms/step - accuracy: 0.9095 - loss: 0.5124 - val_accuracy: 0.0800 - val_loss: 3.4674\n",
            "Epoch 19/40\n",
            "\u001b[1m23/32\u001b[0m \u001b[32m━━━━━━━━━━━━━━\u001b[0m\u001b[37m━━━━━━\u001b[0m \u001b[1m0s\u001b[0m 5ms/step - accuracy: 0.9665 - loss: 0.3928\n",
            "Epoch 19: val_accuracy did not improve from 0.12000\n",
            "\u001b[1m32/32\u001b[0m \u001b[32m━━━━━━━━━━━━━━━━━━━━\u001b[0m\u001b[37m\u001b[0m \u001b[1m0s\u001b[0m 6ms/step - accuracy: 0.9642 - loss: 0.3876 - val_accuracy: 0.0800 - val_loss: 3.6670\n",
            "Epoch 20/40\n",
            "\u001b[1m26/32\u001b[0m \u001b[32m━━━━━━━━━━━━━━━━\u001b[0m\u001b[37m━━━━\u001b[0m \u001b[1m0s\u001b[0m 4ms/step - accuracy: 0.9416 - loss: 0.3398\n",
            "Epoch 20: val_accuracy did not improve from 0.12000\n",
            "\u001b[1m32/32\u001b[0m \u001b[32m━━━━━━━━━━━━━━━━━━━━\u001b[0m\u001b[37m\u001b[0m \u001b[1m0s\u001b[0m 6ms/step - accuracy: 0.9419 - loss: 0.3420 - val_accuracy: 0.1200 - val_loss: 3.4788\n",
            "Epoch 21/40\n",
            "\u001b[1m30/32\u001b[0m \u001b[32m━━━━━━━━━━━━━━━━━━\u001b[0m\u001b[37m━━\u001b[0m \u001b[1m0s\u001b[0m 6ms/step - accuracy: 0.9868 - loss: 0.2425\n",
            "Epoch 21: val_accuracy did not improve from 0.12000\n",
            "\u001b[1m32/32\u001b[0m \u001b[32m━━━━━━━━━━━━━━━━━━━━\u001b[0m\u001b[37m\u001b[0m \u001b[1m0s\u001b[0m 9ms/step - accuracy: 0.9868 - loss: 0.2413 - val_accuracy: 0.0850 - val_loss: 3.7082\n",
            "Epoch 22/40\n",
            "\u001b[1m26/32\u001b[0m \u001b[32m━━━━━━━━━━━━━━━━\u001b[0m\u001b[37m━━━━\u001b[0m \u001b[1m0s\u001b[0m 4ms/step - accuracy: 0.9953 - loss: 0.1693\n",
            "Epoch 22: val_accuracy did not improve from 0.12000\n",
            "\u001b[1m32/32\u001b[0m \u001b[32m━━━━━━━━━━━━━━━━━━━━\u001b[0m\u001b[37m\u001b[0m \u001b[1m1s\u001b[0m 6ms/step - accuracy: 0.9949 - loss: 0.1698 - val_accuracy: 0.0950 - val_loss: 3.9549\n",
            "Epoch 23/40\n",
            "\u001b[1m24/32\u001b[0m \u001b[32m━━━━━━━━━━━━━━━\u001b[0m\u001b[37m━━━━━\u001b[0m \u001b[1m0s\u001b[0m 5ms/step - accuracy: 0.9974 - loss: 0.1560\n",
            "Epoch 23: val_accuracy did not improve from 0.12000\n",
            "\u001b[1m32/32\u001b[0m \u001b[32m━━━━━━━━━━━━━━━━━━━━\u001b[0m\u001b[37m\u001b[0m \u001b[1m0s\u001b[0m 6ms/step - accuracy: 0.9972 - loss: 0.1549 - val_accuracy: 0.0900 - val_loss: 3.9519\n",
            "Epoch 24/40\n",
            "\u001b[1m29/32\u001b[0m \u001b[32m━━━━━━━━━━━━━━━━━━\u001b[0m\u001b[37m━━\u001b[0m \u001b[1m0s\u001b[0m 5ms/step - accuracy: 1.0000 - loss: 0.1058\n",
            "Epoch 24: val_accuracy did not improve from 0.12000\n",
            "\u001b[1m32/32\u001b[0m \u001b[32m━━━━━━━━━━━━━━━━━━━━\u001b[0m\u001b[37m\u001b[0m \u001b[1m0s\u001b[0m 7ms/step - accuracy: 1.0000 - loss: 0.1061 - val_accuracy: 0.1050 - val_loss: 4.0795\n",
            "Epoch 25/40\n",
            "\u001b[1m26/32\u001b[0m \u001b[32m━━━━━━━━━━━━━━━━\u001b[0m\u001b[37m━━━━\u001b[0m \u001b[1m0s\u001b[0m 4ms/step - accuracy: 0.9922 - loss: 0.1108\n",
            "Epoch 25: val_accuracy did not improve from 0.12000\n",
            "\u001b[1m32/32\u001b[0m \u001b[32m━━━━━━━━━━━━━━━━━━━━\u001b[0m\u001b[37m\u001b[0m \u001b[1m0s\u001b[0m 6ms/step - accuracy: 0.9927 - loss: 0.1095 - val_accuracy: 0.1100 - val_loss: 4.1255\n",
            "Epoch 26/40\n",
            "\u001b[1m26/32\u001b[0m \u001b[32m━━━━━━━━━━━━━━━━\u001b[0m\u001b[37m━━━━\u001b[0m \u001b[1m0s\u001b[0m 4ms/step - accuracy: 1.0000 - loss: 0.0814\n",
            "Epoch 26: val_accuracy improved from 0.12000 to 0.12500, saving model to best_initial_model.weights.h5\n",
            "\u001b[1m32/32\u001b[0m \u001b[32m━━━━━━━━━━━━━━━━━━━━\u001b[0m\u001b[37m\u001b[0m \u001b[1m0s\u001b[0m 6ms/step - accuracy: 1.0000 - loss: 0.0801 - val_accuracy: 0.1250 - val_loss: 4.2742\n",
            "Epoch 27/40\n",
            "\u001b[1m25/32\u001b[0m \u001b[32m━━━━━━━━━━━━━━━\u001b[0m\u001b[37m━━━━━\u001b[0m \u001b[1m0s\u001b[0m 4ms/step - accuracy: 1.0000 - loss: 0.0575\n",
            "Epoch 27: val_accuracy did not improve from 0.12500\n",
            "\u001b[1m32/32\u001b[0m \u001b[32m━━━━━━━━━━━━━━━━━━━━\u001b[0m\u001b[37m\u001b[0m \u001b[1m0s\u001b[0m 6ms/step - accuracy: 1.0000 - loss: 0.0566 - val_accuracy: 0.0950 - val_loss: 4.3291\n",
            "Epoch 28/40\n",
            "\u001b[1m26/32\u001b[0m \u001b[32m━━━━━━━━━━━━━━━━\u001b[0m\u001b[37m━━━━\u001b[0m \u001b[1m0s\u001b[0m 6ms/step - accuracy: 1.0000 - loss: 0.0396\n",
            "Epoch 28: val_accuracy did not improve from 0.12500\n",
            "\u001b[1m32/32\u001b[0m \u001b[32m━━━━━━━━━━━━━━━━━━━━\u001b[0m\u001b[37m\u001b[0m \u001b[1m0s\u001b[0m 7ms/step - accuracy: 1.0000 - loss: 0.0399 - val_accuracy: 0.1050 - val_loss: 4.4425\n",
            "Epoch 29/40\n",
            "\u001b[1m26/32\u001b[0m \u001b[32m━━━━━━━━━━━━━━━━\u001b[0m\u001b[37m━━━━\u001b[0m \u001b[1m0s\u001b[0m 4ms/step - accuracy: 1.0000 - loss: 0.0353\n",
            "Epoch 29: val_accuracy did not improve from 0.12500\n",
            "\u001b[1m32/32\u001b[0m \u001b[32m━━━━━━━━━━━━━━━━━━━━\u001b[0m\u001b[37m\u001b[0m \u001b[1m0s\u001b[0m 6ms/step - accuracy: 1.0000 - loss: 0.0350 - val_accuracy: 0.1000 - val_loss: 4.4847\n",
            "Epoch 30/40\n",
            "\u001b[1m26/32\u001b[0m \u001b[32m━━━━━━━━━━━━━━━━\u001b[0m\u001b[37m━━━━\u001b[0m \u001b[1m0s\u001b[0m 4ms/step - accuracy: 1.0000 - loss: 0.0273\n",
            "Epoch 30: val_accuracy did not improve from 0.12500\n",
            "\u001b[1m32/32\u001b[0m \u001b[32m━━━━━━━━━━━━━━━━━━━━\u001b[0m\u001b[37m\u001b[0m \u001b[1m0s\u001b[0m 6ms/step - accuracy: 1.0000 - loss: 0.0274 - val_accuracy: 0.0950 - val_loss: 4.6545\n",
            "Epoch 31/40\n",
            "\u001b[1m28/32\u001b[0m \u001b[32m━━━━━━━━━━━━━━━━━\u001b[0m\u001b[37m━━━\u001b[0m \u001b[1m0s\u001b[0m 4ms/step - accuracy: 1.0000 - loss: 0.0256\n",
            "Epoch 31: val_accuracy did not improve from 0.12500\n",
            "\u001b[1m32/32\u001b[0m \u001b[32m━━━━━━━━━━━━━━━━━━━━\u001b[0m\u001b[37m\u001b[0m \u001b[1m0s\u001b[0m 5ms/step - accuracy: 1.0000 - loss: 0.0255 - val_accuracy: 0.1050 - val_loss: 4.6573\n",
            "Epoch 32/40\n",
            "\u001b[1m31/32\u001b[0m \u001b[32m━━━━━━━━━━━━━━━━━━━\u001b[0m\u001b[37m━\u001b[0m \u001b[1m0s\u001b[0m 5ms/step - accuracy: 1.0000 - loss: 0.0214\n",
            "Epoch 32: val_accuracy did not improve from 0.12500\n",
            "\u001b[1m32/32\u001b[0m \u001b[32m━━━━━━━━━━━━━━━━━━━━\u001b[0m\u001b[37m\u001b[0m \u001b[1m0s\u001b[0m 7ms/step - accuracy: 1.0000 - loss: 0.0214 - val_accuracy: 0.1050 - val_loss: 4.7228\n",
            "Epoch 33/40\n",
            "\u001b[1m27/32\u001b[0m \u001b[32m━━━━━━━━━━━━━━━━\u001b[0m\u001b[37m━━━━\u001b[0m \u001b[1m0s\u001b[0m 4ms/step - accuracy: 1.0000 - loss: 0.0193\n",
            "Epoch 33: val_accuracy did not improve from 0.12500\n",
            "\u001b[1m32/32\u001b[0m \u001b[32m━━━━━━━━━━━━━━━━━━━━\u001b[0m\u001b[37m\u001b[0m \u001b[1m0s\u001b[0m 5ms/step - accuracy: 1.0000 - loss: 0.0193 - val_accuracy: 0.1100 - val_loss: 4.7586\n",
            "Epoch 34/40\n",
            "\u001b[1m26/32\u001b[0m \u001b[32m━━━━━━━━━━━━━━━━\u001b[0m\u001b[37m━━━━\u001b[0m \u001b[1m0s\u001b[0m 4ms/step - accuracy: 1.0000 - loss: 0.0172\n",
            "Epoch 34: val_accuracy did not improve from 0.12500\n",
            "\u001b[1m32/32\u001b[0m \u001b[32m━━━━━━━━━━━━━━━━━━━━\u001b[0m\u001b[37m\u001b[0m \u001b[1m0s\u001b[0m 5ms/step - accuracy: 1.0000 - loss: 0.0172 - val_accuracy: 0.1000 - val_loss: 4.8401\n",
            "Epoch 35/40\n",
            "\u001b[1m27/32\u001b[0m \u001b[32m━━━━━━━━━━━━━━━━\u001b[0m\u001b[37m━━━━\u001b[0m \u001b[1m0s\u001b[0m 4ms/step - accuracy: 1.0000 - loss: 0.0151\n",
            "Epoch 35: val_accuracy did not improve from 0.12500\n",
            "\u001b[1m32/32\u001b[0m \u001b[32m━━━━━━━━━━━━━━━━━━━━\u001b[0m\u001b[37m\u001b[0m \u001b[1m0s\u001b[0m 5ms/step - accuracy: 1.0000 - loss: 0.0151 - val_accuracy: 0.1000 - val_loss: 4.9305\n",
            "Epoch 36/40\n",
            "\u001b[1m24/32\u001b[0m \u001b[32m━━━━━━━━━━━━━━━\u001b[0m\u001b[37m━━━━━\u001b[0m \u001b[1m0s\u001b[0m 5ms/step - accuracy: 1.0000 - loss: 0.0135\n",
            "Epoch 36: val_accuracy did not improve from 0.12500\n",
            "\u001b[1m32/32\u001b[0m \u001b[32m━━━━━━━━━━━━━━━━━━━━\u001b[0m\u001b[37m\u001b[0m \u001b[1m0s\u001b[0m 6ms/step - accuracy: 1.0000 - loss: 0.0134 - val_accuracy: 0.1050 - val_loss: 4.9451\n",
            "Epoch 37/40\n",
            "\u001b[1m27/32\u001b[0m \u001b[32m━━━━━━━━━━━━━━━━\u001b[0m\u001b[37m━━━━\u001b[0m \u001b[1m0s\u001b[0m 4ms/step - accuracy: 1.0000 - loss: 0.0119\n",
            "Epoch 37: val_accuracy did not improve from 0.12500\n",
            "\u001b[1m32/32\u001b[0m \u001b[32m━━━━━━━━━━━━━━━━━━━━\u001b[0m\u001b[37m\u001b[0m \u001b[1m0s\u001b[0m 6ms/step - accuracy: 1.0000 - loss: 0.0120 - val_accuracy: 0.0900 - val_loss: 5.0057\n",
            "Epoch 38/40\n",
            "\u001b[1m26/32\u001b[0m \u001b[32m━━━━━━━━━━━━━━━━\u001b[0m\u001b[37m━━━━\u001b[0m \u001b[1m0s\u001b[0m 4ms/step - accuracy: 1.0000 - loss: 0.0117\n",
            "Epoch 38: val_accuracy did not improve from 0.12500\n",
            "\u001b[1m32/32\u001b[0m \u001b[32m━━━━━━━━━━━━━━━━━━━━\u001b[0m\u001b[37m\u001b[0m \u001b[1m0s\u001b[0m 5ms/step - accuracy: 1.0000 - loss: 0.0117 - val_accuracy: 0.1000 - val_loss: 5.0437\n",
            "Epoch 39/40\n",
            "\u001b[1m26/32\u001b[0m \u001b[32m━━━━━━━━━━━━━━━━\u001b[0m\u001b[37m━━━━\u001b[0m \u001b[1m0s\u001b[0m 4ms/step - accuracy: 1.0000 - loss: 0.0105\n",
            "Epoch 39: val_accuracy did not improve from 0.12500\n",
            "\u001b[1m32/32\u001b[0m \u001b[32m━━━━━━━━━━━━━━━━━━━━\u001b[0m\u001b[37m\u001b[0m \u001b[1m0s\u001b[0m 6ms/step - accuracy: 1.0000 - loss: 0.0104 - val_accuracy: 0.1000 - val_loss: 5.0915\n",
            "Epoch 40/40\n",
            "\u001b[1m24/32\u001b[0m \u001b[32m━━━━━━━━━━━━━━━\u001b[0m\u001b[37m━━━━━\u001b[0m \u001b[1m0s\u001b[0m 5ms/step - accuracy: 1.0000 - loss: 0.0090\n",
            "Epoch 40: val_accuracy did not improve from 0.12500\n",
            "\u001b[1m32/32\u001b[0m \u001b[32m━━━━━━━━━━━━━━━━━━━━\u001b[0m\u001b[37m\u001b[0m \u001b[1m0s\u001b[0m 6ms/step - accuracy: 1.0000 - loss: 0.0090 - val_accuracy: 0.0950 - val_loss: 5.1558\n"
          ]
        },
        {
          "output_type": "display_data",
          "data": {
            "text/plain": [
              "<Figure size 640x480 with 1 Axes>"
            ],
            "image/png": "[encoded data removed]"
          },
          "metadata": {}
        },
        {
          "output_type": "display_data",
          "data": {
            "text/plain": [
              "<Figure size 640x480 with 1 Axes>"
            ],
            "image/png": "[encoded data removed]"
          },
          "metadata": {}
        }
      ]
    },
    {
      "cell_type": "code",
      "source": [
        "import numpy as np\n",
        "import tensorflow as tf\n",
        "from tensorflow import keras\n",
        "from tensorflow.keras import layers\n",
        "from tensorflow.keras.callbacks import ModelCheckpoint, EarlyStopping\n",
        "\n",
        "# Generate some dummy data for demonstration\n",
        "num_samples = 1000\n",
        "num_classes = 10\n",
        "timesteps = 10  # Changed to a non-zero value\n",
        "features = 64   # Changed to a lower number for simplicity\n",
        "\n",
        "X_train = np.random.rand(num_samples, timesteps, features)\n",
        "y_train = keras.utils.to_categorical(np.random.randint(num_classes, size=num_samples), num_classes)\n",
        "\n",
        "X_test = np.random.rand(int(num_samples * 0.2), timesteps, features)\n",
        "y_test = keras.utils.to_categorical(np.random.randint(num_classes, size=int(num_samples * 0.2)), num_classes)\n",
        "\n",
        "# Define the model with Batch Normalization and Dropout\n",
        "model = keras.Sequential([\n",
        "    layers.Conv1D(64, kernel_size=3, activation='relu', input_shape=(timesteps, features)),\n",
        "    layers.BatchNormalization(),  # Batch Normalization\n",
        "    layers.MaxPooling1D(pool_size=2),\n",
        "    layers.Conv1D(128, kernel_size=3, activation='relu'),\n",
        "    layers.BatchNormalization(),\n",
        "    layers.MaxPooling1D(pool_size=2),\n",
        "    layers.Flatten(),\n",
        "    layers.Dense(128, activation='relu'),\n",
        "    layers.Dropout(0.5),  # Dropout layer\n",
        "    layers.Dense(num_classes, activation='softmax')\n",
        "])\n",
        "\n",
        "# Compile the model\n",
        "opt = tf.keras.optimizers.Adam(learning_rate=0.001)\n",
        "model.compile(loss='categorical_crossentropy', optimizer=opt, metrics=['accuracy'])\n",
        "\n",
        "# Checkpoint to save the best model\n",
        "checkpoint = ModelCheckpoint(\n",
        "    \"best_initial_model.weights.h5\",  # Save model weights\n",
        "    monitor='val_accuracy',             # Monitor validation accuracy\n",
        "    verbose=1,                          # Verbosity\n",
        "    save_best_only=True,                # Save only the best model\n",
        "    mode='max',                        # Maximize the monitored metric\n",
        "    save_weights_only=True              # Save only weights\n",
        ")\n",
        "\n",
        "# Early stopping to prevent overfitting\n",
        "early_stopping = EarlyStopping(monitor='val_loss', patience=5, restore_best_weights=True)\n",
        "\n",
        "# Fit the model\n",
        "model_history = model.fit(\n",
        "    X_train,\n",
        "    y_train,\n",
        "    batch_size=32,\n",
        "    epochs=40,\n",
        "    validation_data=(X_test, y_test),\n",
        "    callbacks=[checkpoint, early_stopping]  # Add early stopping\n",
        ")\n",
        "\n",
        "# Optionally, visualize the training history\n",
        "import matplotlib.pyplot as plt\n",
        "\n",
        "plt.plot(model_history.history['accuracy'], label='train accuracy')\n",
        "plt.plot(model_history.history['val_accuracy'], label='val accuracy')\n",
        "plt.title('Model Accuracy')\n",
        "plt.ylabel('Accuracy')\n",
        "plt.xlabel('Epoch')\n",
        "plt.legend()\n",
        "plt.show()\n",
        "\n",
        "plt.plot(model_history.history['loss'], label='train loss')\n",
        "plt.plot(model_history.history['val_loss'], label='val loss')\n",
        "plt.title('Model Loss')\n",
        "plt.ylabel('Loss')\n",
        "plt.xlabel('Epoch')\n",
        "plt.legend()\n",
        "plt.show()\n"
      ],
      "metadata": {
        "colab": {
          "base_uri": "https://localhost:8080/",
          "height": 1000
        },
        "id": "cWyz6_6kmide",
        "outputId": "104368bf-d71d-4791-d33f-079dbbf1b55d"
      },
      "execution_count": null,
      "outputs": [
        {
          "output_type": "stream",
          "name": "stdout",
          "text": [
            "Epoch 1/40\n",
            "\u001b[1m23/32\u001b[0m \u001b[32m━━━━━━━━━━━━━━\u001b[0m\u001b[37m━━━━━━\u001b[0m \u001b[1m0s\u001b[0m 5ms/step - accuracy: 0.0790 - loss: 3.2544\n",
            "Epoch 1: val_accuracy improved from -inf to 0.08000, saving model to best_initial_model.weights.h5\n",
            "\u001b[1m32/32\u001b[0m \u001b[32m━━━━━━━━━━━━━━━━━━━━\u001b[0m\u001b[37m\u001b[0m \u001b[1m4s\u001b[0m 16ms/step - accuracy: 0.0810 - loss: 3.1917 - val_accuracy: 0.0800 - val_loss: 2.3110\n",
            "Epoch 2/40\n",
            "\u001b[1m23/32\u001b[0m \u001b[32m━━━━━━━━━━━━━━\u001b[0m\u001b[37m━━━━━━\u001b[0m \u001b[1m0s\u001b[0m 5ms/step - accuracy: 0.1724 - loss: 2.3933\n",
            "Epoch 2: val_accuracy improved from 0.08000 to 0.10000, saving model to best_initial_model.weights.h5\n",
            "\u001b[1m32/32\u001b[0m \u001b[32m━━━━━━━━━━━━━━━━━━━━\u001b[0m\u001b[37m\u001b[0m \u001b[1m0s\u001b[0m 7ms/step - accuracy: 0.1750 - loss: 2.3832 - val_accuracy: 0.1000 - val_loss: 2.3079\n",
            "Epoch 3/40\n",
            "\u001b[1m24/32\u001b[0m \u001b[32m━━━━━━━━━━━━━━━\u001b[0m\u001b[37m━━━━━\u001b[0m \u001b[1m0s\u001b[0m 4ms/step - accuracy: 0.2406 - loss: 2.1008\n",
            "Epoch 3: val_accuracy improved from 0.10000 to 0.13000, saving model to best_initial_model.weights.h5\n",
            "\u001b[1m32/32\u001b[0m \u001b[32m━━━━━━━━━━━━━━━━━━━━\u001b[0m\u001b[37m\u001b[0m \u001b[1m0s\u001b[0m 7ms/step - accuracy: 0.2433 - loss: 2.1012 - val_accuracy: 0.1300 - val_loss: 2.3103\n",
            "Epoch 4/40\n",
            "\u001b[1m31/32\u001b[0m \u001b[32m━━━━━━━━━━━━━━━━━━━\u001b[0m\u001b[37m━\u001b[0m \u001b[1m0s\u001b[0m 5ms/step - accuracy: 0.3519 - loss: 1.8704\n",
            "Epoch 4: val_accuracy did not improve from 0.13000\n",
            "\u001b[1m32/32\u001b[0m \u001b[32m━━━━━━━━━━━━━━━━━━━━\u001b[0m\u001b[37m\u001b[0m \u001b[1m0s\u001b[0m 7ms/step - accuracy: 0.3509 - loss: 1.8711 - val_accuracy: 0.1100 - val_loss: 2.3193\n",
            "Epoch 5/40\n",
            "\u001b[1m23/32\u001b[0m \u001b[32m━━━━━━━━━━━━━━\u001b[0m\u001b[37m━━━━━━\u001b[0m \u001b[1m0s\u001b[0m 5ms/step - accuracy: 0.3721 - loss: 1.7254\n",
            "Epoch 5: val_accuracy did not improve from 0.13000\n",
            "\u001b[1m32/32\u001b[0m \u001b[32m━━━━━━━━━━━━━━━━━━━━\u001b[0m\u001b[37m\u001b[0m \u001b[1m0s\u001b[0m 7ms/step - accuracy: 0.3802 - loss: 1.7220 - val_accuracy: 0.1000 - val_loss: 2.3403\n",
            "Epoch 6/40\n",
            "\u001b[1m23/32\u001b[0m \u001b[32m━━━━━━━━━━━━━━\u001b[0m\u001b[37m━━━━━━\u001b[0m \u001b[1m0s\u001b[0m 5ms/step - accuracy: 0.5040 - loss: 1.4855\n",
            "Epoch 6: val_accuracy did not improve from 0.13000\n",
            "\u001b[1m32/32\u001b[0m \u001b[32m━━━━━━━━━━━━━━━━━━━━\u001b[0m\u001b[37m\u001b[0m \u001b[1m0s\u001b[0m 6ms/step - accuracy: 0.4990 - loss: 1.5000 - val_accuracy: 0.0850 - val_loss: 2.3486\n",
            "Epoch 7/40\n",
            "\u001b[1m24/32\u001b[0m \u001b[32m━━━━━━━━━━━━━━━\u001b[0m\u001b[37m━━━━━\u001b[0m \u001b[1m0s\u001b[0m 5ms/step - accuracy: 0.5912 - loss: 1.3408\n",
            "Epoch 7: val_accuracy did not improve from 0.13000\n",
            "\u001b[1m32/32\u001b[0m \u001b[32m━━━━━━━━━━━━━━━━━━━━\u001b[0m\u001b[37m\u001b[0m \u001b[1m0s\u001b[0m 6ms/step - accuracy: 0.5822 - loss: 1.3478 - val_accuracy: 0.1300 - val_loss: 2.3528\n"
          ]
        },
        {
          "output_type": "display_data",
          "data": {
            "text/plain": [
              "<Figure size 640x480 with 1 Axes>"
            ],
            "image/png": "[encoded data removed]"
          },
          "metadata": {}
        },
        {
          "output_type": "display_data",
          "data": {
            "text/plain": [
              "<Figure size 640x480 with 1 Axes>"
            ],
            "image/png": "[encoded data removed]"
          },
          "metadata": {}
        }
      ]
    },
    {
      "cell_type": "code",
      "source": [
        "# PRINT LOSS AND ACCURACY PERCENTAGE ON TEST SET\n",
        "print(\"Loss of the model is - \" , model.evaluate(X_test,y_test)[0])\n",
        "print(\"Accuracy of the model is - \" , model.evaluate(X_test,y_test)[1]*100 , \"%\")"
      ],
      "metadata": {
        "colab": {
          "base_uri": "https://localhost:8080/"
        },
        "id": "yp2RBs5Tr-JC",
        "outputId": "61a8d57d-6e83-4fcd-ecde-6572796635da"
      },
      "execution_count": null,
      "outputs": [
        {
          "output_type": "stream",
          "name": "stdout",
          "text": [
            "\u001b[1m7/7\u001b[0m \u001b[32m━━━━━━━━━━━━━━━━━━━━\u001b[0m\u001b[37m\u001b[0m \u001b[1m0s\u001b[0m 3ms/step - accuracy: 0.1025 - loss: 2.3066 \n",
            "Loss of the model is -  2.3078627586364746\n",
            "\u001b[1m7/7\u001b[0m \u001b[32m━━━━━━━━━━━━━━━━━━━━\u001b[0m\u001b[37m\u001b[0m \u001b[1m0s\u001b[0m 3ms/step - accuracy: 0.1025 - loss: 2.3066 \n",
            "Accuracy of the model is -  10.000000149011612 %\n"
          ]
        }
      ]
    },
    {
      "cell_type": "code",
      "source": [
        "# Define the mapping of numbers to emotion labels\n",
        "emotion_labels = {\n",
        "    0: 'Angry',\n",
        "    1: 'Disgust',\n",
        "    2: 'Fear',\n",
        "    3: 'Happy',\n",
        "    4: 'Sad',\n",
        "    5: 'Surprise',\n",
        "    6: 'Neutral',\n",
        "    7: 'Excitement',\n",
        "    8: 'Boredom',\n",
        "    9: 'Confusion'\n",
        "}\n",
        "\n",
        "# PREDICTIONS\n",
        "predictions = model.predict(X_test)\n",
        "predictions = predictions.argmax(axis=1)\n",
        "predictions = predictions.astype(int).flatten()\n",
        "predictions = pd.DataFrame({'Predicted Values': predictions})\n",
        "\n",
        "# ACTUAL LABELS\n",
        "actual = y_test.argmax(axis=1)\n",
        "actual = actual.astype(int).flatten()\n",
        "actual = pd.DataFrame({'Actual Values': actual})\n",
        "\n",
        "# Convert numeric predictions and actuals to emotion labels\n",
        "predictions['Predicted Values'] = predictions['Predicted Values'].map(emotion_labels)\n",
        "actual['Actual Values'] = actual['Actual Values'].map(emotion_labels)\n",
        "\n",
        "# COMBINE BOTH\n",
        "finaldf = actual.join(predictions)\n",
        "print(finaldf[140:150])\n"
      ],
      "metadata": {
        "colab": {
          "base_uri": "https://localhost:8080/"
        },
        "id": "o97g7lI7umOr",
        "outputId": "a58b5e2f-b2eb-4c96-be5e-7b1f26c64d89"
      },
      "execution_count": null,
      "outputs": [
        {
          "output_type": "stream",
          "name": "stdout",
          "text": [
            "\u001b[1m7/7\u001b[0m \u001b[32m━━━━━━━━━━━━━━━━━━━━\u001b[0m\u001b[37m\u001b[0m \u001b[1m0s\u001b[0m 5ms/step \n",
            "    Actual Values Predicted Values\n",
            "140           Sad              Sad\n",
            "141       Boredom             Fear\n",
            "142       Boredom       Excitement\n",
            "143         Happy             Fear\n",
            "144         Happy          Boredom\n",
            "145         Angry              Sad\n",
            "146       Disgust              Sad\n",
            "147     Confusion              Sad\n",
            "148       Boredom          Neutral\n",
            "149           Sad             Fear\n"
          ]
        }
      ]
    },
    {
      "cell_type": "code",
      "source": [
        "# Import the confusion_matrix function\n",
        "from sklearn.metrics import confusion_matrix\n",
        "import seaborn as sns\n",
        "import matplotlib.pyplot as plt\n",
        "\n",
        "# Compute the confusion matrix\n",
        "cm = confusion_matrix(actual['Actual Values'], predictions['Predicted Values'])\n",
        "\n",
        "# Plot the confusion matrix\n",
        "plt.figure(figsize=(12, 10))\n",
        "cm_df = pd.DataFrame(cm, index=[i for i in emotion_labels.values()], columns=[i for i in emotion_labels.values()])\n",
        "ax = sns.heatmap(cm_df, linecolor='white', cmap='Blues', linewidth=1, annot=True, fmt='d')\n",
        "\n",
        "# Adjust plot appearance\n",
        "bottom, top = ax.get_ylim()\n",
        "ax.set_ylim(bottom + 0.5, top - 0.5)  # Fix for cut-off labels issue in some versions of seaborn\n",
        "\n",
        "plt.xlabel('Predicted Values')\n",
        "plt.ylabel('Actual Values')\n",
        "plt.title('Confusion Matrix')\n",
        "plt.show()\n"
      ],
      "metadata": {
        "colab": {
          "base_uri": "https://localhost:8080/",
          "height": 603
        },
        "id": "ledz9k2BvAaD",
        "outputId": "1c89f814-b584-4c55-d111-1eb0415de20f"
      },
      "execution_count": null,
      "outputs": [
        {
          "output_type": "display_data",
          "data": {
            "text/plain": [
              "<Figure size 1200x1000 with 2 Axes>"
            ],
            "image/png": "[encoded data removed]"
          },
          "metadata": {}
        }
      ]
    },
    {
      "cell_type": "code",
      "source": [
        "# Ensure the target names match the number of unique classes\n",
        "target_names = ['angry', 'calm', 'disgust', 'fear', 'happy', 'neutral', 'sad', 'surprise', 'unknown1', 'unknown2']\n",
        "\n",
        "# Generate the classification report\n",
        "print(classification_report(actual['Actual Values'], predictions['Predicted Values'], target_names=target_names))\n"
      ],
      "metadata": {
        "colab": {
          "base_uri": "https://localhost:8080/"
        },
        "id": "25FjPhNpwGFV",
        "outputId": "630355c7-b8d0-4c60-cf2c-5ec80cc994ec"
      },
      "execution_count": null,
      "outputs": [
        {
          "output_type": "stream",
          "name": "stdout",
          "text": [
            "              precision    recall  f1-score   support\n",
            "\n",
            "       angry       0.33      0.05      0.09        20\n",
            "        calm       0.11      0.10      0.10        20\n",
            "     disgust       0.00      0.00      0.00        22\n",
            "        fear       0.09      0.06      0.07        17\n",
            "       happy       0.07      0.27      0.11        15\n",
            "     neutral       0.08      0.07      0.08        28\n",
            "         sad       0.17      0.11      0.13        19\n",
            "    surprise       0.12      0.25      0.16        20\n",
            "    unknown1       0.08      0.14      0.11        14\n",
            "    unknown2       0.33      0.04      0.07        25\n",
            "\n",
            "    accuracy                           0.10       200\n",
            "   macro avg       0.14      0.11      0.09       200\n",
            "weighted avg       0.14      0.10      0.09       200\n",
            "\n"
          ]
        }
      ]
    },
    {
      "cell_type": "code",
      "source": [
        "\n",
        "\n",
        "    # Ensure stratification columns exist and have values\n",
        "    if 'gender' in df_combined.columns and 'actor' in df_combined.columns:\n",
        "        try:\n",
        "            # Perform train-test split with stratification\n",
        "            train, test = train_test_split(\n",
        "                df_combined,\n",
        "                test_size=0.2,\n",
        "                random_state=0,\n",
        "                stratify=df_combined[['gender', 'actor']]\n",
        "            )\n",
        "\n",
        "            # Separate features and labels for training\n",
        "            X_train = train.iloc[:, 3:]\n",
        "            y_train = train.iloc[:, :2].drop(columns=['gender'])\n",
        "            print(f\"X_train shape: {X_train.shape}\")\n",
        "\n",
        "            # Separate features and labels for testing\n",
        "            X_test = test.iloc[:, 3:]\n",
        "            y_test = test.iloc[:, :2].drop(columns=['gender'])\n",
        "            print(f\"X_test shape: {X_test.shape}\")\n",
        "\n",
        "        except ValueError as e:\n",
        "            print(f\"Error: {e}\")\n",
        "    else:\n",
        "        print(\"The required columns 'gender' and 'actor' are missing from 'df_combined'.\")\n",
        "import pandas as pd\n",
        "import numpy as np\n",
        "\n",
        "# Sample data creation\n",
        "data = {\n",
        "    'gender': np.random.choice(['male', 'female'], size=100),\n",
        "    'actor': np.random.choice(['actor1', 'actor2', 'actor3'], size=100),\n",
        "    'feature1': np.random.rand(100),\n",
        "    'feature2': np.random.rand(100)\n",
        "}\n",
        "\n",
        "# Create DataFrame\n",
        "df_combined = pd.DataFrame(data)\n",
        "\n",
        "# Check if the DataFrame is populated correctly\n",
        "print(df_combined.head())  # Display the first few rows\n",
        "print(\"DataFrame shape:\", df_combined.shape)  # Check the shape\n"
      ],
      "metadata": {
        "colab": {
          "base_uri": "https://localhost:8080/"
        },
        "id": "L8UY5rIuwjoJ",
        "outputId": "d37a777f-5890-424e-e4fb-ee7ddb8300ae"
      },
      "execution_count": null,
      "outputs": [
        {
          "output_type": "stream",
          "name": "stdout",
          "text": [
            "X_train shape: (80, 1)\n",
            "X_test shape: (20, 1)\n",
            "   gender   actor  feature1  feature2\n",
            "0    male  actor3  0.833431  0.337611\n",
            "1  female  actor3  0.764383  0.157852\n",
            "2  female  actor1  0.262859  0.693744\n",
            "3    male  actor1  0.632808  0.996070\n",
            "4    male  actor2  0.955793  0.647806\n",
            "DataFrame shape: (100, 4)\n"
          ]
        }
      ]
    },
    {
      "cell_type": "code",
      "source": [
        "# NORMALIZE DATA\n",
        "mean = np.mean(X_train, axis=0)\n",
        "std = np.std(X_train, axis=0)\n",
        "X_train = (X_train - mean)/std\n",
        "X_test = (X_test - mean)/std"
      ],
      "metadata": {
        "id": "rp_1KEm2xc3U"
      },
      "execution_count": null,
      "outputs": []
    },
    {
      "cell_type": "code",
      "source": [
        "# TURN DATA INTO ARRAYS FOR KERAS\n",
        "X_train = np.array(X_train)\n",
        "y_train = np.array(y_train)\n",
        "X_test = np.array(X_test)\n",
        "y_test = np.array(y_test)"
      ],
      "metadata": {
        "id": "IyQhsAfixn7e"
      },
      "execution_count": null,
      "outputs": []
    },
    {
      "cell_type": "code",
      "source": [
        "# RESHAPE TO INCLUDE 3D TENSOR\n",
        "X_train = X_train[:,:,np.newaxis]\n",
        "X_test = X_test[:,:,np.newaxis]"
      ],
      "metadata": {
        "id": "V7rg1fmUxvbN"
      },
      "execution_count": null,
      "outputs": []
    },
    {
      "cell_type": "code",
      "source": [
        "#from keras.utils import to_categorical\n",
        "from sklearn.preprocessing import LabelEncoder\n",
        "\n",
        "# Initialize the label encoder\n",
        "lb = LabelEncoder()\n",
        "\n",
        "# Fit and transform the training and test labels\n",
        "#y_train = to_categorical(lb.fit_transform(y_train))\n",
        "y_test = to_categorical(lb.transform(y_test))  # Use transform to keep the same encoder\n"
      ],
      "metadata": {
        "colab": {
          "base_uri": "https://localhost:8080/",
          "height": 373
        },
        "id": "Vbk5MTQuxzM4",
        "outputId": "3350fcb0-cccc-4051-db29-4b03aac161e5"
      },
      "execution_count": null,
      "outputs": [
        {
          "output_type": "error",
          "ename": "NotFittedError",
          "evalue": "This LabelEncoder instance is not fitted yet. Call 'fit' with appropriate arguments before using this estimator.",
          "traceback": [
            "\u001b[0;31m---------------------------------------------------------------------------\u001b[0m",
            "\u001b[0;31mNotFittedError\u001b[0m                            Traceback (most recent call last)",
            "\u001b[0;32m<ipython-input-158-1827f34c7d76>\u001b[0m in \u001b[0;36m<cell line: 9>\u001b[0;34m()\u001b[0m\n\u001b[1;32m      7\u001b[0m \u001b[0;31m# Fit and transform the training and test labels\u001b[0m\u001b[0;34m\u001b[0m\u001b[0;34m\u001b[0m\u001b[0m\n\u001b[1;32m      8\u001b[0m \u001b[0;31m#y_train = to_categorical(lb.fit_transform(y_train))\u001b[0m\u001b[0;34m\u001b[0m\u001b[0;34m\u001b[0m\u001b[0m\n\u001b[0;32m----> 9\u001b[0;31m \u001b[0my_test\u001b[0m \u001b[0;34m=\u001b[0m \u001b[0mto_categorical\u001b[0m\u001b[0;34m(\u001b[0m\u001b[0mlb\u001b[0m\u001b[0;34m.\u001b[0m\u001b[0mtransform\u001b[0m\u001b[0;34m(\u001b[0m\u001b[0my_test\u001b[0m\u001b[0;34m)\u001b[0m\u001b[0;34m)\u001b[0m  \u001b[0;31m# Use transform to keep the same encoder\u001b[0m\u001b[0;34m\u001b[0m\u001b[0;34m\u001b[0m\u001b[0m\n\u001b[0m",
            "\u001b[0;32m/usr/local/lib/python3.10/dist-packages/sklearn/preprocessing/_label.py\u001b[0m in \u001b[0;36mtransform\u001b[0;34m(self, y)\u001b[0m\n\u001b[1;32m    129\u001b[0m             \u001b[0mLabels\u001b[0m \u001b[0;32mas\u001b[0m \u001b[0mnormalized\u001b[0m \u001b[0mencodings\u001b[0m\u001b[0;34m.\u001b[0m\u001b[0;34m\u001b[0m\u001b[0;34m\u001b[0m\u001b[0m\n\u001b[1;32m    130\u001b[0m         \"\"\"\n\u001b[0;32m--> 131\u001b[0;31m         \u001b[0mcheck_is_fitted\u001b[0m\u001b[0;34m(\u001b[0m\u001b[0mself\u001b[0m\u001b[0;34m)\u001b[0m\u001b[0;34m\u001b[0m\u001b[0;34m\u001b[0m\u001b[0m\n\u001b[0m\u001b[1;32m    132\u001b[0m         \u001b[0my\u001b[0m \u001b[0;34m=\u001b[0m \u001b[0mcolumn_or_1d\u001b[0m\u001b[0;34m(\u001b[0m\u001b[0my\u001b[0m\u001b[0;34m,\u001b[0m \u001b[0mdtype\u001b[0m\u001b[0;34m=\u001b[0m\u001b[0mself\u001b[0m\u001b[0;34m.\u001b[0m\u001b[0mclasses_\u001b[0m\u001b[0;34m.\u001b[0m\u001b[0mdtype\u001b[0m\u001b[0;34m,\u001b[0m \u001b[0mwarn\u001b[0m\u001b[0;34m=\u001b[0m\u001b[0;32mTrue\u001b[0m\u001b[0;34m)\u001b[0m\u001b[0;34m\u001b[0m\u001b[0;34m\u001b[0m\u001b[0m\n\u001b[1;32m    133\u001b[0m         \u001b[0;31m# transform of empty array is empty array\u001b[0m\u001b[0;34m\u001b[0m\u001b[0;34m\u001b[0m\u001b[0m\n",
            "\u001b[0;32m/usr/local/lib/python3.10/dist-packages/sklearn/utils/validation.py\u001b[0m in \u001b[0;36mcheck_is_fitted\u001b[0;34m(estimator, attributes, msg, all_or_any)\u001b[0m\n\u001b[1;32m   1659\u001b[0m \u001b[0;34m\u001b[0m\u001b[0m\n\u001b[1;32m   1660\u001b[0m     \u001b[0;32mif\u001b[0m \u001b[0;32mnot\u001b[0m \u001b[0m_is_fitted\u001b[0m\u001b[0;34m(\u001b[0m\u001b[0mestimator\u001b[0m\u001b[0;34m,\u001b[0m \u001b[0mattributes\u001b[0m\u001b[0;34m,\u001b[0m \u001b[0mall_or_any\u001b[0m\u001b[0;34m)\u001b[0m\u001b[0;34m:\u001b[0m\u001b[0;34m\u001b[0m\u001b[0;34m\u001b[0m\u001b[0m\n\u001b[0;32m-> 1661\u001b[0;31m         \u001b[0;32mraise\u001b[0m \u001b[0mNotFittedError\u001b[0m\u001b[0;34m(\u001b[0m\u001b[0mmsg\u001b[0m \u001b[0;34m%\u001b[0m \u001b[0;34m{\u001b[0m\u001b[0;34m\"name\"\u001b[0m\u001b[0;34m:\u001b[0m \u001b[0mtype\u001b[0m\u001b[0;34m(\u001b[0m\u001b[0mestimator\u001b[0m\u001b[0;34m)\u001b[0m\u001b[0;34m.\u001b[0m\u001b[0m__name__\u001b[0m\u001b[0;34m}\u001b[0m\u001b[0;34m)\u001b[0m\u001b[0;34m\u001b[0m\u001b[0;34m\u001b[0m\u001b[0m\n\u001b[0m\u001b[1;32m   1662\u001b[0m \u001b[0;34m\u001b[0m\u001b[0m\n\u001b[1;32m   1663\u001b[0m \u001b[0;34m\u001b[0m\u001b[0m\n",
            "\u001b[0;31mNotFittedError\u001b[0m: This LabelEncoder instance is not fitted yet. Call 'fit' with appropriate arguments before using this estimator."
          ]
        }
      ]
    },
    {
      "cell_type": "code",
      "source": [
        "import numpy as np\n",
        "import pandas as pd\n",
        "from tensorflow.keras import layers, Sequential\n",
        "from tensorflow.keras.optimizers import Adam\n",
        "from tensorflow.keras.callbacks import Callback, CSVLogger\n",
        "from sklearn.model_selection import train_test_split\n",
        "from sklearn.preprocessing import LabelEncoder, OneHotEncoder\n",
        "from sklearn.utils import shuffle\n",
        "\n",
        "# Sample Data Preparation (Replace with your actual data)\n",
        "# df_combined should be your combined DataFrame with features and labels\n",
        "# Assume 'features' and 'labels' are your feature columns and labels respectively\n",
        "\n",
        "# For demonstration purposes only; replace with your data loading method\n",
        "num_samples = 1000\n",
        "num_features = 30  # Number of features in your input data\n",
        "num_classes = 8  # Number of classes for your labels\n",
        "\n",
        "# Generate dummy data\n",
        "X = np.random.rand(num_samples, num_features)\n",
        "y = np.random.randint(0, num_classes, size=num_samples)\n",
        "\n",
        "# Train-test split\n",
        "X_train, X_test, y_train, y_test = train_test_split(X, y, test_size=0.2, random_state=42)\n",
        "\n",
        "# One-hot encode the labels\n",
        "lb = LabelEncoder()\n",
        "y_train = lb.fit_transform(y_train)\n",
        "y_test = lb.transform(y_test)\n",
        "\n",
        "# Convert labels to one-hot encoding\n",
        "y_trainHot = np.eye(num_classes)[y_train]\n",
        "y_testHot = np.eye(num_classes)[y_test]\n",
        "\n",
        "# Define a custom logger to print epoch results\n",
        "class CustomLogger(Callback):\n",
        "    def on_epoch_end(self, epoch, logs=None):\n",
        "        print(f\"Epoch {epoch + 1}: loss = {logs['loss']:.4f}, acc = {logs['accuracy']:.4f}\")\n",
        "\n",
        "# Create a CSV logger\n",
        "csv_logger = CSVLogger('training_log.csv', append=True)\n",
        "\n",
        "# Build CNN model\n",
        "def make_classifier():\n",
        "    model = Sequential()\n",
        "    model.add(layers.Conv1D(64, kernel_size=(3), activation='relu', input_shape=(num_features, 1)))\n",
        "    model.add(layers.MaxPooling1D(pool_size=(2)))\n",
        "    model.add(layers.Dropout(0.5))\n",
        "    model.add(layers.Conv1D(128, kernel_size=(3), activation='relu'))\n",
        "    model.add(layers.MaxPooling1D(pool_size=(2)))\n",
        "    model.add(layers.Dropout(0.5))\n",
        "    model.add(layers.Flatten())\n",
        "    model.add(layers.Dense(256, activation='relu'))\n",
        "    model.add(layers.Dropout(0.5))\n",
        "    model.add(layers.Dense(num_classes, activation='softmax'))  # Use 'softmax' for multi-class\n",
        "    model.compile(loss='categorical_crossentropy', optimizer=Adam(learning_rate=0.0001), metrics=['accuracy'])\n",
        "    return model\n",
        "\n",
        "# Reshape the data for Conv1D (if necessary)\n",
        "X_train = X_train.reshape(X_train.shape[0], X_train.shape[1], 1)\n",
        "X_test = X_test.reshape(X_test.shape[0], X_test.shape[1], 1)\n",
        "\n",
        "# Create and train the model\n",
        "model = make_classifier()\n",
        "model.fit(X_train, y_trainHot, epochs=50, batch_size=32, validation_data=(X_test, y_testHot),\n",
        "          callbacks=[CustomLogger(), csv_logger])\n",
        "\n",
        "# After training, you can load and display the log\n",
        "log_df = pd.read_csv('training_log.csv')\n",
        "print(log_df.tail())  # Display the last few rows of the log\n"
      ],
      "metadata": {
        "colab": {
          "base_uri": "https://localhost:8080/"
        },
        "id": "7NyhBi2AyUYc",
        "outputId": "72d84992-d0cb-4893-9287-78a85dcd997a"
      },
      "execution_count": null,
      "outputs": [
        {
          "output_type": "stream",
          "name": "stderr",
          "text": [
            "/usr/local/lib/python3.10/dist-packages/keras/src/layers/convolutional/base_conv.py:107: UserWarning: Do not pass an `input_shape`/`input_dim` argument to a layer. When using Sequential models, prefer using an `Input(shape)` object as the first layer in the model instead.\n",
            "  super().__init__(activity_regularizer=activity_regularizer, **kwargs)\n"
          ]
        },
        {
          "output_type": "stream",
          "name": "stdout",
          "text": [
            "Epoch 1/50\n",
            "\u001b[1m25/25\u001b[0m \u001b[32m━━━━━━━━━━━━━━━━━━━━\u001b[0m\u001b[37m\u001b[0m \u001b[1m0s\u001b[0m 19ms/step - accuracy: 0.1397 - loss: 2.0859Epoch 1: loss = 2.0996, acc = 0.1213\n",
            "\u001b[1m25/25\u001b[0m \u001b[32m━━━━━━━━━━━━━━━━━━━━\u001b[0m\u001b[37m\u001b[0m \u001b[1m7s\u001b[0m 43ms/step - accuracy: 0.1390 - loss: 2.0864 - val_accuracy: 0.1500 - val_loss: 2.0803\n",
            "Epoch 2/50\n",
            "\u001b[1m23/25\u001b[0m \u001b[32m━━━━━━━━━━━━━━━━━━\u001b[0m\u001b[37m━━\u001b[0m \u001b[1m0s\u001b[0m 25ms/step - accuracy: 0.1442 - loss: 2.0789Epoch 2: loss = 2.0809, acc = 0.1275\n",
            "\u001b[1m25/25\u001b[0m \u001b[32m━━━━━━━━━━━━━━━━━━━━\u001b[0m\u001b[37m\u001b[0m \u001b[1m2s\u001b[0m 29ms/step - accuracy: 0.1424 - loss: 2.0790 - val_accuracy: 0.1150 - val_loss: 2.0780\n",
            "Epoch 3/50\n",
            "\u001b[1m25/25\u001b[0m \u001b[32m━━━━━━━━━━━━━━━━━━━━\u001b[0m\u001b[37m\u001b[0m \u001b[1m0s\u001b[0m 20ms/step - accuracy: 0.1215 - loss: 2.0894Epoch 3: loss = 2.0894, acc = 0.1287\n",
            "\u001b[1m25/25\u001b[0m \u001b[32m━━━━━━━━━━━━━━━━━━━━\u001b[0m\u001b[37m\u001b[0m \u001b[1m1s\u001b[0m 30ms/step - accuracy: 0.1218 - loss: 2.0894 - val_accuracy: 0.1100 - val_loss: 2.0763\n",
            "Epoch 4/50\n",
            "\u001b[1m24/25\u001b[0m \u001b[32m━━━━━━━━━━━━━━━━━━━\u001b[0m\u001b[37m━\u001b[0m \u001b[1m0s\u001b[0m 25ms/step - accuracy: 0.1096 - loss: 2.1010Epoch 4: loss = 2.0961, acc = 0.1225\n",
            "\u001b[1m25/25\u001b[0m \u001b[32m━━━━━━━━━━━━━━━━━━━━\u001b[0m\u001b[37m\u001b[0m \u001b[1m1s\u001b[0m 30ms/step - accuracy: 0.1106 - loss: 2.1006 - val_accuracy: 0.1150 - val_loss: 2.0761\n",
            "Epoch 5/50\n",
            "\u001b[1m25/25\u001b[0m \u001b[32m━━━━━━━━━━━━━━━━━━━━\u001b[0m\u001b[37m\u001b[0m \u001b[1m0s\u001b[0m 20ms/step - accuracy: 0.1298 - loss: 2.0993Epoch 5: loss = 2.0957, acc = 0.1262\n",
            "\u001b[1m25/25\u001b[0m \u001b[32m━━━━━━━━━━━━━━━━━━━━\u001b[0m\u001b[37m\u001b[0m \u001b[1m1s\u001b[0m 24ms/step - accuracy: 0.1296 - loss: 2.0992 - val_accuracy: 0.1400 - val_loss: 2.0750\n",
            "Epoch 6/50\n",
            "\u001b[1m24/25\u001b[0m \u001b[32m━━━━━━━━━━━━━━━━━━━\u001b[0m\u001b[37m━\u001b[0m \u001b[1m0s\u001b[0m 18ms/step - accuracy: 0.1362 - loss: 2.0835Epoch 6: loss = 2.0881, acc = 0.1300\n",
            "\u001b[1m25/25\u001b[0m \u001b[32m━━━━━━━━━━━━━━━━━━━━\u001b[0m\u001b[37m\u001b[0m \u001b[1m1s\u001b[0m 24ms/step - accuracy: 0.1357 - loss: 2.0839 - val_accuracy: 0.1550 - val_loss: 2.0754\n",
            "Epoch 7/50\n",
            "\u001b[1m23/25\u001b[0m \u001b[32m━━━━━━━━━━━━━━━━━━\u001b[0m\u001b[37m━━\u001b[0m \u001b[1m0s\u001b[0m 15ms/step - accuracy: 0.1589 - loss: 2.0710Epoch 7: loss = 2.0838, acc = 0.1400\n",
            "\u001b[1m25/25\u001b[0m \u001b[32m━━━━━━━━━━━━━━━━━━━━\u001b[0m\u001b[37m\u001b[0m \u001b[1m1s\u001b[0m 19ms/step - accuracy: 0.1566 - loss: 2.0724 - val_accuracy: 0.1350 - val_loss: 2.0758\n",
            "Epoch 8/50\n",
            "\u001b[1m25/25\u001b[0m \u001b[32m━━━━━━━━━━━━━━━━━━━━\u001b[0m\u001b[37m\u001b[0m \u001b[1m0s\u001b[0m 19ms/step - accuracy: 0.1131 - loss: 2.0938Epoch 8: loss = 2.0908, acc = 0.1112\n",
            "\u001b[1m25/25\u001b[0m \u001b[32m━━━━━━━━━━━━━━━━━━━━\u001b[0m\u001b[37m\u001b[0m \u001b[1m1s\u001b[0m 25ms/step - accuracy: 0.1131 - loss: 2.0937 - val_accuracy: 0.1400 - val_loss: 2.0754\n",
            "Epoch 9/50\n",
            "\u001b[1m23/25\u001b[0m \u001b[32m━━━━━━━━━━━━━━━━━━\u001b[0m\u001b[37m━━\u001b[0m \u001b[1m0s\u001b[0m 15ms/step - accuracy: 0.1163 - loss: 2.0866Epoch 9: loss = 2.0883, acc = 0.1175\n",
            "\u001b[1m25/25\u001b[0m \u001b[32m━━━━━━━━━━━━━━━━━━━━\u001b[0m\u001b[37m\u001b[0m \u001b[1m1s\u001b[0m 19ms/step - accuracy: 0.1166 - loss: 2.0868 - val_accuracy: 0.1250 - val_loss: 2.0758\n",
            "Epoch 10/50\n",
            "\u001b[1m23/25\u001b[0m \u001b[32m━━━━━━━━━━━━━━━━━━\u001b[0m\u001b[37m━━\u001b[0m \u001b[1m0s\u001b[0m 19ms/step - accuracy: 0.1241 - loss: 2.0901Epoch 10: loss = 2.0837, acc = 0.1300\n",
            "\u001b[1m25/25\u001b[0m \u001b[32m━━━━━━━━━━━━━━━━━━━━\u001b[0m\u001b[37m\u001b[0m \u001b[1m1s\u001b[0m 24ms/step - accuracy: 0.1247 - loss: 2.0894 - val_accuracy: 0.0850 - val_loss: 2.0758\n",
            "Epoch 11/50\n",
            "\u001b[1m23/25\u001b[0m \u001b[32m━━━━━━━━━━━━━━━━━━\u001b[0m\u001b[37m━━\u001b[0m \u001b[1m0s\u001b[0m 18ms/step - accuracy: 0.1603 - loss: 2.0750Epoch 11: loss = 2.0755, acc = 0.1475\n",
            "\u001b[1m25/25\u001b[0m \u001b[32m━━━━━━━━━━━━━━━━━━━━\u001b[0m\u001b[37m\u001b[0m \u001b[1m1s\u001b[0m 24ms/step - accuracy: 0.1588 - loss: 2.0751 - val_accuracy: 0.1100 - val_loss: 2.0762\n",
            "Epoch 12/50\n",
            "\u001b[1m23/25\u001b[0m \u001b[32m━━━━━━━━━━━━━━━━━━\u001b[0m\u001b[37m━━\u001b[0m \u001b[1m0s\u001b[0m 18ms/step - accuracy: 0.1601 - loss: 2.0745Epoch 12: loss = 2.0783, acc = 0.1363\n",
            "\u001b[1m25/25\u001b[0m \u001b[32m━━━━━━━━━━━━━━━━━━━━\u001b[0m\u001b[37m\u001b[0m \u001b[1m1s\u001b[0m 26ms/step - accuracy: 0.1575 - loss: 2.0749 - val_accuracy: 0.1300 - val_loss: 2.0747\n",
            "Epoch 13/50\n",
            "\u001b[1m24/25\u001b[0m \u001b[32m━━━━━━━━━━━━━━━━━━━\u001b[0m\u001b[37m━\u001b[0m \u001b[1m0s\u001b[0m 15ms/step - accuracy: 0.1724 - loss: 2.0708Epoch 13: loss = 2.0785, acc = 0.1513\n",
            "\u001b[1m25/25\u001b[0m \u001b[32m━━━━━━━━━━━━━━━━━━━━\u001b[0m\u001b[37m\u001b[0m \u001b[1m1s\u001b[0m 20ms/step - accuracy: 0.1708 - loss: 2.0714 - val_accuracy: 0.1200 - val_loss: 2.0747\n",
            "Epoch 14/50\n",
            "\u001b[1m23/25\u001b[0m \u001b[32m━━━━━━━━━━━━━━━━━━\u001b[0m\u001b[37m━━\u001b[0m \u001b[1m0s\u001b[0m 19ms/step - accuracy: 0.1342 - loss: 2.0769Epoch 14: loss = 2.0791, acc = 0.1350\n",
            "\u001b[1m25/25\u001b[0m \u001b[32m━━━━━━━━━━━━━━━━━━━━\u001b[0m\u001b[37m\u001b[0m \u001b[1m1s\u001b[0m 23ms/step - accuracy: 0.1343 - loss: 2.0771 - val_accuracy: 0.1350 - val_loss: 2.0755\n",
            "Epoch 15/50\n",
            "\u001b[1m24/25\u001b[0m \u001b[32m━━━━━━━━━━━━━━━━━━━\u001b[0m\u001b[37m━\u001b[0m \u001b[1m0s\u001b[0m 21ms/step - accuracy: 0.1350 - loss: 2.0806Epoch 15: loss = 2.0829, acc = 0.1338\n",
            "\u001b[1m25/25\u001b[0m \u001b[32m━━━━━━━━━━━━━━━━━━━━\u001b[0m\u001b[37m\u001b[0m \u001b[1m1s\u001b[0m 28ms/step - accuracy: 0.1349 - loss: 2.0807 - val_accuracy: 0.1050 - val_loss: 2.0746\n",
            "Epoch 16/50\n",
            "\u001b[1m23/25\u001b[0m \u001b[32m━━━━━━━━━━━━━━━━━━\u001b[0m\u001b[37m━━\u001b[0m \u001b[1m0s\u001b[0m 27ms/step - accuracy: 0.1227 - loss: 2.0815Epoch 16: loss = 2.0830, acc = 0.1225\n",
            "\u001b[1m25/25\u001b[0m \u001b[32m━━━━━━━━━━━━━━━━━━━━\u001b[0m\u001b[37m\u001b[0m \u001b[1m1s\u001b[0m 30ms/step - accuracy: 0.1225 - loss: 2.0816 - val_accuracy: 0.1050 - val_loss: 2.0759\n",
            "Epoch 17/50\n",
            "\u001b[1m24/25\u001b[0m \u001b[32m━━━━━━━━━━━━━━━━━━━\u001b[0m\u001b[37m━\u001b[0m \u001b[1m0s\u001b[0m 15ms/step - accuracy: 0.1106 - loss: 2.0868Epoch 17: loss = 2.0832, acc = 0.1238\n",
            "\u001b[1m25/25\u001b[0m \u001b[32m━━━━━━━━━━━━━━━━━━━━\u001b[0m\u001b[37m\u001b[0m \u001b[1m0s\u001b[0m 19ms/step - accuracy: 0.1116 - loss: 2.0865 - val_accuracy: 0.1350 - val_loss: 2.0762\n",
            "Epoch 18/50\n",
            "\u001b[1m24/25\u001b[0m \u001b[32m━━━━━━━━━━━━━━━━━━━\u001b[0m\u001b[37m━\u001b[0m \u001b[1m0s\u001b[0m 16ms/step - accuracy: 0.1270 - loss: 2.0766Epoch 18: loss = 2.0796, acc = 0.1200\n",
            "\u001b[1m25/25\u001b[0m \u001b[32m━━━━━━━━━━━━━━━━━━━━\u001b[0m\u001b[37m\u001b[0m \u001b[1m1s\u001b[0m 20ms/step - accuracy: 0.1265 - loss: 2.0768 - val_accuracy: 0.1150 - val_loss: 2.0765\n",
            "Epoch 19/50\n",
            "\u001b[1m25/25\u001b[0m \u001b[32m━━━━━━━━━━━━━━━━━━━━\u001b[0m\u001b[37m\u001b[0m \u001b[1m0s\u001b[0m 14ms/step - accuracy: 0.1627 - loss: 2.0716Epoch 19: loss = 2.0817, acc = 0.1363\n",
            "\u001b[1m25/25\u001b[0m \u001b[32m━━━━━━━━━━━━━━━━━━━━\u001b[0m\u001b[37m\u001b[0m \u001b[1m1s\u001b[0m 19ms/step - accuracy: 0.1616 - loss: 2.0720 - val_accuracy: 0.1200 - val_loss: 2.0768\n",
            "Epoch 20/50\n",
            "\u001b[1m24/25\u001b[0m \u001b[32m━━━━━━━━━━━━━━━━━━━\u001b[0m\u001b[37m━\u001b[0m \u001b[1m0s\u001b[0m 15ms/step - accuracy: 0.1393 - loss: 2.0800Epoch 20: loss = 2.0828, acc = 0.1250\n",
            "\u001b[1m25/25\u001b[0m \u001b[32m━━━━━━━━━━━━━━━━━━━━\u001b[0m\u001b[37m\u001b[0m \u001b[1m1s\u001b[0m 19ms/step - accuracy: 0.1382 - loss: 2.0802 - val_accuracy: 0.1250 - val_loss: 2.0768\n",
            "Epoch 21/50\n",
            "\u001b[1m24/25\u001b[0m \u001b[32m━━━━━━━━━━━━━━━━━━━\u001b[0m\u001b[37m━\u001b[0m \u001b[1m0s\u001b[0m 14ms/step - accuracy: 0.1403 - loss: 2.0821Epoch 21: loss = 2.0792, acc = 0.1437\n",
            "\u001b[1m25/25\u001b[0m \u001b[32m━━━━━━━━━━━━━━━━━━━━\u001b[0m\u001b[37m\u001b[0m \u001b[1m0s\u001b[0m 16ms/step - accuracy: 0.1405 - loss: 2.0819 - val_accuracy: 0.1450 - val_loss: 2.0769\n",
            "Epoch 22/50\n",
            "\u001b[1m19/25\u001b[0m \u001b[32m━━━━━━━━━━━━━━━\u001b[0m\u001b[37m━━━━━\u001b[0m \u001b[1m0s\u001b[0m 9ms/step - accuracy: 0.1406 - loss: 2.0837Epoch 22: loss = 2.0808, acc = 0.1338\n",
            "\u001b[1m25/25\u001b[0m \u001b[32m━━━━━━━━━━━━━━━━━━━━\u001b[0m\u001b[37m\u001b[0m \u001b[1m1s\u001b[0m 11ms/step - accuracy: 0.1385 - loss: 2.0829 - val_accuracy: 0.1350 - val_loss: 2.0765\n",
            "Epoch 23/50\n",
            "\u001b[1m23/25\u001b[0m \u001b[32m━━━━━━━━━━━━━━━━━━\u001b[0m\u001b[37m━━\u001b[0m \u001b[1m0s\u001b[0m 10ms/step - accuracy: 0.1399 - loss: 2.0820Epoch 23: loss = 2.0797, acc = 0.1338\n",
            "\u001b[1m25/25\u001b[0m \u001b[32m━━━━━━━━━━━━━━━━━━━━\u001b[0m\u001b[37m\u001b[0m \u001b[1m0s\u001b[0m 12ms/step - accuracy: 0.1393 - loss: 2.0817 - val_accuracy: 0.1200 - val_loss: 2.0770\n",
            "Epoch 24/50\n",
            "\u001b[1m24/25\u001b[0m \u001b[32m━━━━━━━━━━━━━━━━━━━\u001b[0m\u001b[37m━\u001b[0m \u001b[1m0s\u001b[0m 9ms/step - accuracy: 0.1348 - loss: 2.0820Epoch 24: loss = 2.0760, acc = 0.1513\n",
            "\u001b[1m25/25\u001b[0m \u001b[32m━━━━━━━━━━━━━━━━━━━━\u001b[0m\u001b[37m\u001b[0m \u001b[1m1s\u001b[0m 11ms/step - accuracy: 0.1361 - loss: 2.0815 - val_accuracy: 0.1450 - val_loss: 2.0761\n",
            "Epoch 25/50\n",
            "\u001b[1m20/25\u001b[0m \u001b[32m━━━━━━━━━━━━━━━━\u001b[0m\u001b[37m━━━━\u001b[0m \u001b[1m0s\u001b[0m 9ms/step - accuracy: 0.1284 - loss: 2.0768Epoch 25: loss = 2.0775, acc = 0.1262\n",
            "\u001b[1m25/25\u001b[0m \u001b[32m━━━━━━━━━━━━━━━━━━━━\u001b[0m\u001b[37m\u001b[0m \u001b[1m1s\u001b[0m 11ms/step - accuracy: 0.1274 - loss: 2.0772 - val_accuracy: 0.1350 - val_loss: 2.0762\n",
            "Epoch 26/50\n",
            "\u001b[1m19/25\u001b[0m \u001b[32m━━━━━━━━━━━━━━━\u001b[0m\u001b[37m━━━━━\u001b[0m \u001b[1m0s\u001b[0m 9ms/step - accuracy: 0.1227 - loss: 2.0813Epoch 26: loss = 2.0791, acc = 0.1462\n",
            "\u001b[1m25/25\u001b[0m \u001b[32m━━━━━━━━━━━━━━━━━━━━\u001b[0m\u001b[37m\u001b[0m \u001b[1m0s\u001b[0m 12ms/step - accuracy: 0.1289 - loss: 2.0809 - val_accuracy: 0.1450 - val_loss: 2.0760\n",
            "Epoch 27/50\n",
            "\u001b[1m25/25\u001b[0m \u001b[32m━━━━━━━━━━━━━━━━━━━━\u001b[0m\u001b[37m\u001b[0m \u001b[1m0s\u001b[0m 9ms/step - accuracy: 0.1496 - loss: 2.0747Epoch 27: loss = 2.0808, acc = 0.1300\n",
            "\u001b[1m25/25\u001b[0m \u001b[32m━━━━━━━━━━━━━━━━━━━━\u001b[0m\u001b[37m\u001b[0m \u001b[1m0s\u001b[0m 11ms/step - accuracy: 0.1488 - loss: 2.0749 - val_accuracy: 0.1350 - val_loss: 2.0766\n",
            "Epoch 28/50\n",
            "\u001b[1m25/25\u001b[0m \u001b[32m━━━━━━━━━━━━━━━━━━━━\u001b[0m\u001b[37m\u001b[0m \u001b[1m0s\u001b[0m 9ms/step - accuracy: 0.1196 - loss: 2.0844Epoch 28: loss = 2.0818, acc = 0.1213\n",
            "\u001b[1m25/25\u001b[0m \u001b[32m━━━━━━━━━━━━━━━━━━━━\u001b[0m\u001b[37m\u001b[0m \u001b[1m0s\u001b[0m 11ms/step - accuracy: 0.1197 - loss: 2.0843 - val_accuracy: 0.1450 - val_loss: 2.0768\n",
            "Epoch 29/50\n",
            "\u001b[1m25/25\u001b[0m \u001b[32m━━━━━━━━━━━━━━━━━━━━\u001b[0m\u001b[37m\u001b[0m \u001b[1m0s\u001b[0m 9ms/step - accuracy: 0.1028 - loss: 2.0764Epoch 29: loss = 2.0790, acc = 0.1275\n",
            "\u001b[1m25/25\u001b[0m \u001b[32m━━━━━━━━━━━━━━━━━━━━\u001b[0m\u001b[37m\u001b[0m \u001b[1m0s\u001b[0m 11ms/step - accuracy: 0.1037 - loss: 2.0765 - val_accuracy: 0.1300 - val_loss: 2.0765\n",
            "Epoch 30/50\n",
            "\u001b[1m25/25\u001b[0m \u001b[32m━━━━━━━━━━━━━━━━━━━━\u001b[0m\u001b[37m\u001b[0m \u001b[1m0s\u001b[0m 9ms/step - accuracy: 0.1464 - loss: 2.0778Epoch 30: loss = 2.0801, acc = 0.1363\n",
            "\u001b[1m25/25\u001b[0m \u001b[32m━━━━━━━━━━━━━━━━━━━━\u001b[0m\u001b[37m\u001b[0m \u001b[1m1s\u001b[0m 11ms/step - accuracy: 0.1460 - loss: 2.0779 - val_accuracy: 0.1300 - val_loss: 2.0765\n",
            "Epoch 31/50\n",
            "\u001b[1m24/25\u001b[0m \u001b[32m━━━━━━━━━━━━━━━━━━━\u001b[0m\u001b[37m━\u001b[0m \u001b[1m0s\u001b[0m 10ms/step - accuracy: 0.1220 - loss: 2.0759Epoch 31: loss = 2.0767, acc = 0.1275\n",
            "\u001b[1m25/25\u001b[0m \u001b[32m━━━━━━━━━━━━━━━━━━━━\u001b[0m\u001b[37m\u001b[0m \u001b[1m1s\u001b[0m 11ms/step - accuracy: 0.1225 - loss: 2.0760 - val_accuracy: 0.1400 - val_loss: 2.0769\n",
            "Epoch 32/50\n",
            "\u001b[1m24/25\u001b[0m \u001b[32m━━━━━━━━━━━━━━━━━━━\u001b[0m\u001b[37m━\u001b[0m \u001b[1m0s\u001b[0m 9ms/step - accuracy: 0.1151 - loss: 2.0859 Epoch 32: loss = 2.0798, acc = 0.1225\n",
            "\u001b[1m25/25\u001b[0m \u001b[32m━━━━━━━━━━━━━━━━━━━━\u001b[0m\u001b[37m\u001b[0m \u001b[1m0s\u001b[0m 11ms/step - accuracy: 0.1157 - loss: 2.0854 - val_accuracy: 0.1300 - val_loss: 2.0770\n",
            "Epoch 33/50\n",
            "\u001b[1m25/25\u001b[0m \u001b[32m━━━━━━━━━━━━━━━━━━━━\u001b[0m\u001b[37m\u001b[0m \u001b[1m0s\u001b[0m 9ms/step - accuracy: 0.1330 - loss: 2.0792Epoch 33: loss = 2.0780, acc = 0.1437\n",
            "\u001b[1m25/25\u001b[0m \u001b[32m━━━━━━━━━━━━━━━━━━━━\u001b[0m\u001b[37m\u001b[0m \u001b[1m1s\u001b[0m 11ms/step - accuracy: 0.1334 - loss: 2.0792 - val_accuracy: 0.1450 - val_loss: 2.0771\n",
            "Epoch 34/50\n",
            "\u001b[1m23/25\u001b[0m \u001b[32m━━━━━━━━━━━━━━━━━━\u001b[0m\u001b[37m━━\u001b[0m \u001b[1m0s\u001b[0m 10ms/step - accuracy: 0.1615 - loss: 2.0758Epoch 34: loss = 2.0786, acc = 0.1363\n",
            "\u001b[1m25/25\u001b[0m \u001b[32m━━━━━━━━━━━━━━━━━━━━\u001b[0m\u001b[37m\u001b[0m \u001b[1m0s\u001b[0m 12ms/step - accuracy: 0.1587 - loss: 2.0761 - val_accuracy: 0.1400 - val_loss: 2.0775\n",
            "Epoch 35/50\n",
            "\u001b[1m25/25\u001b[0m \u001b[32m━━━━━━━━━━━━━━━━━━━━\u001b[0m\u001b[37m\u001b[0m \u001b[1m0s\u001b[0m 9ms/step - accuracy: 0.1449 - loss: 2.0763Epoch 35: loss = 2.0747, acc = 0.1412\n",
            "\u001b[1m25/25\u001b[0m \u001b[32m━━━━━━━━━━━━━━━━━━━━\u001b[0m\u001b[37m\u001b[0m \u001b[1m0s\u001b[0m 11ms/step - accuracy: 0.1448 - loss: 2.0763 - val_accuracy: 0.1350 - val_loss: 2.0776\n",
            "Epoch 36/50\n",
            "\u001b[1m24/25\u001b[0m \u001b[32m━━━━━━━━━━━━━━━━━━━\u001b[0m\u001b[37m━\u001b[0m \u001b[1m0s\u001b[0m 9ms/step - accuracy: 0.1317 - loss: 2.0803Epoch 36: loss = 2.0773, acc = 0.1388\n",
            "\u001b[1m25/25\u001b[0m \u001b[32m━━━━━━━━━━━━━━━━━━━━\u001b[0m\u001b[37m\u001b[0m \u001b[1m0s\u001b[0m 11ms/step - accuracy: 0.1322 - loss: 2.0800 - val_accuracy: 0.1350 - val_loss: 2.0773\n",
            "Epoch 37/50\n",
            "\u001b[1m22/25\u001b[0m \u001b[32m━━━━━━━━━━━━━━━━━\u001b[0m\u001b[37m━━━\u001b[0m \u001b[1m0s\u001b[0m 10ms/step - accuracy: 0.1328 - loss: 2.0797Epoch 37: loss = 2.0741, acc = 0.1550\n",
            "\u001b[1m25/25\u001b[0m \u001b[32m━━━━━━━━━━━━━━━━━━━━\u001b[0m\u001b[37m\u001b[0m \u001b[1m0s\u001b[0m 14ms/step - accuracy: 0.1360 - loss: 2.0788 - val_accuracy: 0.1400 - val_loss: 2.0770\n",
            "Epoch 38/50\n",
            "\u001b[1m25/25\u001b[0m \u001b[32m━━━━━━━━━━━━━━━━━━━━\u001b[0m\u001b[37m\u001b[0m \u001b[1m0s\u001b[0m 9ms/step - accuracy: 0.1462 - loss: 2.0740Epoch 38: loss = 2.0760, acc = 0.1388\n",
            "\u001b[1m25/25\u001b[0m \u001b[32m━━━━━━━━━━━━━━━━━━━━\u001b[0m\u001b[37m\u001b[0m \u001b[1m1s\u001b[0m 11ms/step - accuracy: 0.1460 - loss: 2.0741 - val_accuracy: 0.1400 - val_loss: 2.0769\n",
            "Epoch 39/50\n",
            "\u001b[1m23/25\u001b[0m \u001b[32m━━━━━━━━━━━━━━━━━━\u001b[0m\u001b[37m━━\u001b[0m \u001b[1m0s\u001b[0m 10ms/step - accuracy: 0.1564 - loss: 2.0721Epoch 39: loss = 2.0723, acc = 0.1650\n",
            "\u001b[1m25/25\u001b[0m \u001b[32m━━━━━━━━━━━━━━━━━━━━\u001b[0m\u001b[37m\u001b[0m \u001b[1m0s\u001b[0m 12ms/step - accuracy: 0.1572 - loss: 2.0721 - val_accuracy: 0.1550 - val_loss: 2.0766\n",
            "Epoch 40/50\n",
            "\u001b[1m19/25\u001b[0m \u001b[32m━━━━━━━━━━━━━━━\u001b[0m\u001b[37m━━━━━\u001b[0m \u001b[1m0s\u001b[0m 9ms/step - accuracy: 0.1358 - loss: 2.0769Epoch 40: loss = 2.0800, acc = 0.1350\n",
            "\u001b[1m25/25\u001b[0m \u001b[32m━━━━━━━━━━━━━━━━━━━━\u001b[0m\u001b[37m\u001b[0m \u001b[1m0s\u001b[0m 10ms/step - accuracy: 0.1351 - loss: 2.0781 - val_accuracy: 0.1450 - val_loss: 2.0769\n",
            "Epoch 41/50\n",
            "\u001b[1m24/25\u001b[0m \u001b[32m━━━━━━━━━━━━━━━━━━━\u001b[0m\u001b[37m━\u001b[0m \u001b[1m0s\u001b[0m 9ms/step - accuracy: 0.1267 - loss: 2.0757Epoch 41: loss = 2.0757, acc = 0.1275\n",
            "\u001b[1m25/25\u001b[0m \u001b[32m━━━━━━━━━━━━━━━━━━━━\u001b[0m\u001b[37m\u001b[0m \u001b[1m0s\u001b[0m 11ms/step - accuracy: 0.1268 - loss: 2.0757 - val_accuracy: 0.1400 - val_loss: 2.0767\n",
            "Epoch 42/50\n",
            "\u001b[1m25/25\u001b[0m \u001b[32m━━━━━━━━━━━━━━━━━━━━\u001b[0m\u001b[37m\u001b[0m \u001b[1m0s\u001b[0m 9ms/step - accuracy: 0.1440 - loss: 2.0806Epoch 42: loss = 2.0790, acc = 0.1637\n",
            "\u001b[1m25/25\u001b[0m \u001b[32m━━━━━━━━━━━━━━━━━━━━\u001b[0m\u001b[37m\u001b[0m \u001b[1m0s\u001b[0m 11ms/step - accuracy: 0.1447 - loss: 2.0806 - val_accuracy: 0.1450 - val_loss: 2.0770\n",
            "Epoch 43/50\n",
            "\u001b[1m23/25\u001b[0m \u001b[32m━━━━━━━━━━━━━━━━━━\u001b[0m\u001b[37m━━\u001b[0m \u001b[1m0s\u001b[0m 10ms/step - accuracy: 0.1266 - loss: 2.0749Epoch 43: loss = 2.0734, acc = 0.1338\n",
            "\u001b[1m25/25\u001b[0m \u001b[32m━━━━━━━━━━━━━━━━━━━━\u001b[0m\u001b[37m\u001b[0m \u001b[1m0s\u001b[0m 12ms/step - accuracy: 0.1275 - loss: 2.0747 - val_accuracy: 0.1250 - val_loss: 2.0771\n",
            "Epoch 44/50\n",
            "\u001b[1m25/25\u001b[0m \u001b[32m━━━━━━━━━━━━━━━━━━━━\u001b[0m\u001b[37m\u001b[0m \u001b[1m0s\u001b[0m 9ms/step - accuracy: 0.1491 - loss: 2.0723Epoch 44: loss = 2.0755, acc = 0.1375\n",
            "\u001b[1m25/25\u001b[0m \u001b[32m━━━━━━━━━━━━━━━━━━━━\u001b[0m\u001b[37m\u001b[0m \u001b[1m1s\u001b[0m 11ms/step - accuracy: 0.1486 - loss: 2.0724 - val_accuracy: 0.1300 - val_loss: 2.0769\n",
            "Epoch 45/50\n",
            "\u001b[1m22/25\u001b[0m \u001b[32m━━━━━━━━━━━━━━━━━\u001b[0m\u001b[37m━━━\u001b[0m \u001b[1m0s\u001b[0m 10ms/step - accuracy: 0.1485 - loss: 2.0738Epoch 45: loss = 2.0742, acc = 0.1538\n",
            "\u001b[1m25/25\u001b[0m \u001b[32m━━━━━━━━━━━━━━━━━━━━\u001b[0m\u001b[37m\u001b[0m \u001b[1m0s\u001b[0m 12ms/step - accuracy: 0.1495 - loss: 2.0738 - val_accuracy: 0.1200 - val_loss: 2.0769\n",
            "Epoch 46/50\n",
            "\u001b[1m24/25\u001b[0m \u001b[32m━━━━━━━━━━━━━━━━━━━\u001b[0m\u001b[37m━\u001b[0m \u001b[1m0s\u001b[0m 15ms/step - accuracy: 0.1591 - loss: 2.0739Epoch 46: loss = 2.0756, acc = 0.1488\n",
            "\u001b[1m25/25\u001b[0m \u001b[32m━━━━━━━━━━━━━━━━━━━━\u001b[0m\u001b[37m\u001b[0m \u001b[1m1s\u001b[0m 19ms/step - accuracy: 0.1583 - loss: 2.0740 - val_accuracy: 0.1150 - val_loss: 2.0772\n",
            "Epoch 47/50\n",
            "\u001b[1m25/25\u001b[0m \u001b[32m━━━━━━━━━━━━━━━━━━━━\u001b[0m\u001b[37m\u001b[0m \u001b[1m0s\u001b[0m 14ms/step - accuracy: 0.1461 - loss: 2.0737Epoch 47: loss = 2.0749, acc = 0.1500\n",
            "\u001b[1m25/25\u001b[0m \u001b[32m━━━━━━━━━━━━━━━━━━━━\u001b[0m\u001b[37m\u001b[0m \u001b[1m1s\u001b[0m 17ms/step - accuracy: 0.1462 - loss: 2.0737 - val_accuracy: 0.1300 - val_loss: 2.0776\n",
            "Epoch 48/50\n",
            "\u001b[1m25/25\u001b[0m \u001b[32m━━━━━━━━━━━━━━━━━━━━\u001b[0m\u001b[37m\u001b[0m \u001b[1m0s\u001b[0m 14ms/step - accuracy: 0.1500 - loss: 2.0781Epoch 48: loss = 2.0777, acc = 0.1488\n",
            "\u001b[1m25/25\u001b[0m \u001b[32m━━━━━━━━━━━━━━━━━━━━\u001b[0m\u001b[37m\u001b[0m \u001b[1m0s\u001b[0m 19ms/step - accuracy: 0.1499 - loss: 2.0781 - val_accuracy: 0.1300 - val_loss: 2.0776\n",
            "Epoch 49/50\n",
            "\u001b[1m24/25\u001b[0m \u001b[32m━━━━━━━━━━━━━━━━━━━\u001b[0m\u001b[37m━\u001b[0m \u001b[1m0s\u001b[0m 15ms/step - accuracy: 0.1539 - loss: 2.0755Epoch 49: loss = 2.0757, acc = 0.1388\n",
            "\u001b[1m25/25\u001b[0m \u001b[32m━━━━━━━━━━━━━━━━━━━━\u001b[0m\u001b[37m\u001b[0m \u001b[1m1s\u001b[0m 19ms/step - accuracy: 0.1527 - loss: 2.0755 - val_accuracy: 0.1150 - val_loss: 2.0776\n",
            "Epoch 50/50\n",
            "\u001b[1m25/25\u001b[0m \u001b[32m━━━━━━━━━━━━━━━━━━━━\u001b[0m\u001b[37m\u001b[0m \u001b[1m0s\u001b[0m 15ms/step - accuracy: 0.1588 - loss: 2.0673Epoch 50: loss = 2.0711, acc = 0.1475\n",
            "\u001b[1m25/25\u001b[0m \u001b[32m━━━━━━━━━━━━━━━━━━━━\u001b[0m\u001b[37m\u001b[0m \u001b[1m0s\u001b[0m 19ms/step - accuracy: 0.1584 - loss: 2.0674 - val_accuracy: 0.1300 - val_loss: 2.0772\n",
            "    epoch  accuracy      loss  val_accuracy  val_loss\n",
            "45     45   0.14875  2.075619         0.115  2.077236\n",
            "46     46   0.15000  2.074863         0.130  2.077574\n",
            "47     47   0.14875  2.077711         0.130  2.077615\n",
            "48     48   0.13875  2.075679         0.115  2.077636\n",
            "49     49   0.14750  2.071115         0.130  2.077244\n"
          ]
        }
      ]
    }
  ]
}